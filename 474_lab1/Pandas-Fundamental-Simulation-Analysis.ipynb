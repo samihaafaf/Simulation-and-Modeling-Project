{
 "cells": [
  {
   "cell_type": "code",
   "execution_count": 2,
   "id": "6b077635",
   "metadata": {},
   "outputs": [],
   "source": [
    "import pandas as pd"
   ]
  },
  {
   "cell_type": "code",
   "execution_count": 3,
   "id": "d8e99265",
   "metadata": {},
   "outputs": [],
   "source": [
    "df = pd.DataFrame([[4,7,10],     #creating a dataframe from arrays\n",
    "                  [5,8,11],\n",
    "                  [6,9,12]],index=[1,2,3],\n",
    "                 columns=['a','b','c'])\n"
   ]
  },
  {
   "cell_type": "code",
   "execution_count": 4,
   "id": "4ebdef6e",
   "metadata": {},
   "outputs": [
    {
     "data": {
      "text/html": [
       "<div>\n",
       "<style scoped>\n",
       "    .dataframe tbody tr th:only-of-type {\n",
       "        vertical-align: middle;\n",
       "    }\n",
       "\n",
       "    .dataframe tbody tr th {\n",
       "        vertical-align: top;\n",
       "    }\n",
       "\n",
       "    .dataframe thead th {\n",
       "        text-align: right;\n",
       "    }\n",
       "</style>\n",
       "<table border=\"1\" class=\"dataframe\">\n",
       "  <thead>\n",
       "    <tr style=\"text-align: right;\">\n",
       "      <th></th>\n",
       "      <th>a</th>\n",
       "      <th>b</th>\n",
       "      <th>c</th>\n",
       "    </tr>\n",
       "  </thead>\n",
       "  <tbody>\n",
       "    <tr>\n",
       "      <th>1</th>\n",
       "      <td>4</td>\n",
       "      <td>7</td>\n",
       "      <td>10</td>\n",
       "    </tr>\n",
       "    <tr>\n",
       "      <th>2</th>\n",
       "      <td>5</td>\n",
       "      <td>8</td>\n",
       "      <td>11</td>\n",
       "    </tr>\n",
       "    <tr>\n",
       "      <th>3</th>\n",
       "      <td>6</td>\n",
       "      <td>9</td>\n",
       "      <td>12</td>\n",
       "    </tr>\n",
       "  </tbody>\n",
       "</table>\n",
       "</div>"
      ],
      "text/plain": [
       "   a  b   c\n",
       "1  4  7  10\n",
       "2  5  8  11\n",
       "3  6  9  12"
      ]
     },
     "execution_count": 4,
     "metadata": {},
     "output_type": "execute_result"
    }
   ],
   "source": [
    "df   #displaying the dataframe"
   ]
  },
  {
   "cell_type": "code",
   "execution_count": 5,
   "id": "782c5f4b",
   "metadata": {},
   "outputs": [],
   "source": [
    "baseline_data = pd.read_csv('Baseline.csv')   #loading the data from csv file"
   ]
  },
  {
   "cell_type": "code",
   "execution_count": 6,
   "id": "17859170",
   "metadata": {},
   "outputs": [
    {
     "data": {
      "text/html": [
       "<div>\n",
       "<style scoped>\n",
       "    .dataframe tbody tr th:only-of-type {\n",
       "        vertical-align: middle;\n",
       "    }\n",
       "\n",
       "    .dataframe tbody tr th {\n",
       "        vertical-align: top;\n",
       "    }\n",
       "\n",
       "    .dataframe thead th {\n",
       "        text-align: right;\n",
       "    }\n",
       "</style>\n",
       "<table border=\"1\" class=\"dataframe\">\n",
       "  <thead>\n",
       "    <tr style=\"text-align: right;\">\n",
       "      <th></th>\n",
       "      <th>Month</th>\n",
       "      <th>Baseline</th>\n",
       "    </tr>\n",
       "  </thead>\n",
       "  <tbody>\n",
       "    <tr>\n",
       "      <th>0</th>\n",
       "      <td>January</td>\n",
       "      <td>5.69</td>\n",
       "    </tr>\n",
       "    <tr>\n",
       "      <th>1</th>\n",
       "      <td>February</td>\n",
       "      <td>6.75</td>\n",
       "    </tr>\n",
       "    <tr>\n",
       "      <th>2</th>\n",
       "      <td>March</td>\n",
       "      <td>10.64</td>\n",
       "    </tr>\n",
       "    <tr>\n",
       "      <th>3</th>\n",
       "      <td>April</td>\n",
       "      <td>13.60</td>\n",
       "    </tr>\n",
       "    <tr>\n",
       "      <th>4</th>\n",
       "      <td>May</td>\n",
       "      <td>19.34</td>\n",
       "    </tr>\n",
       "    <tr>\n",
       "      <th>5</th>\n",
       "      <td>June</td>\n",
       "      <td>22.64</td>\n",
       "    </tr>\n",
       "    <tr>\n",
       "      <th>6</th>\n",
       "      <td>July</td>\n",
       "      <td>27.02</td>\n",
       "    </tr>\n",
       "    <tr>\n",
       "      <th>7</th>\n",
       "      <td>August</td>\n",
       "      <td>27.13</td>\n",
       "    </tr>\n",
       "    <tr>\n",
       "      <th>8</th>\n",
       "      <td>September</td>\n",
       "      <td>25.04</td>\n",
       "    </tr>\n",
       "    <tr>\n",
       "      <th>9</th>\n",
       "      <td>October</td>\n",
       "      <td>18.47</td>\n",
       "    </tr>\n",
       "    <tr>\n",
       "      <th>10</th>\n",
       "      <td>November</td>\n",
       "      <td>13.02</td>\n",
       "    </tr>\n",
       "    <tr>\n",
       "      <th>11</th>\n",
       "      <td>December</td>\n",
       "      <td>7.53</td>\n",
       "    </tr>\n",
       "  </tbody>\n",
       "</table>\n",
       "</div>"
      ],
      "text/plain": [
       "        Month  Baseline\n",
       "0     January      5.69\n",
       "1    February      6.75\n",
       "2       March     10.64\n",
       "3       April     13.60\n",
       "4         May     19.34\n",
       "5        June     22.64\n",
       "6        July     27.02\n",
       "7      August     27.13\n",
       "8   September     25.04\n",
       "9     October     18.47\n",
       "10   November     13.02\n",
       "11   December      7.53"
      ]
     },
     "execution_count": 6,
     "metadata": {},
     "output_type": "execute_result"
    }
   ],
   "source": [
    "baseline_data        #displaying the data"
   ]
  },
  {
   "cell_type": "code",
   "execution_count": 7,
   "id": "d23787a8",
   "metadata": {},
   "outputs": [],
   "source": [
    "baseline_data = pd.read_csv('Baseline.csv',index_col='Month')     #making month the index of this dataset"
   ]
  },
  {
   "cell_type": "code",
   "execution_count": 8,
   "id": "ea90c928",
   "metadata": {},
   "outputs": [
    {
     "data": {
      "text/html": [
       "<div>\n",
       "<style scoped>\n",
       "    .dataframe tbody tr th:only-of-type {\n",
       "        vertical-align: middle;\n",
       "    }\n",
       "\n",
       "    .dataframe tbody tr th {\n",
       "        vertical-align: top;\n",
       "    }\n",
       "\n",
       "    .dataframe thead th {\n",
       "        text-align: right;\n",
       "    }\n",
       "</style>\n",
       "<table border=\"1\" class=\"dataframe\">\n",
       "  <thead>\n",
       "    <tr style=\"text-align: right;\">\n",
       "      <th></th>\n",
       "      <th>Baseline</th>\n",
       "    </tr>\n",
       "    <tr>\n",
       "      <th>Month</th>\n",
       "      <th></th>\n",
       "    </tr>\n",
       "  </thead>\n",
       "  <tbody>\n",
       "    <tr>\n",
       "      <th>January</th>\n",
       "      <td>5.69</td>\n",
       "    </tr>\n",
       "    <tr>\n",
       "      <th>February</th>\n",
       "      <td>6.75</td>\n",
       "    </tr>\n",
       "    <tr>\n",
       "      <th>March</th>\n",
       "      <td>10.64</td>\n",
       "    </tr>\n",
       "    <tr>\n",
       "      <th>April</th>\n",
       "      <td>13.60</td>\n",
       "    </tr>\n",
       "    <tr>\n",
       "      <th>May</th>\n",
       "      <td>19.34</td>\n",
       "    </tr>\n",
       "    <tr>\n",
       "      <th>June</th>\n",
       "      <td>22.64</td>\n",
       "    </tr>\n",
       "    <tr>\n",
       "      <th>July</th>\n",
       "      <td>27.02</td>\n",
       "    </tr>\n",
       "    <tr>\n",
       "      <th>August</th>\n",
       "      <td>27.13</td>\n",
       "    </tr>\n",
       "    <tr>\n",
       "      <th>September</th>\n",
       "      <td>25.04</td>\n",
       "    </tr>\n",
       "    <tr>\n",
       "      <th>October</th>\n",
       "      <td>18.47</td>\n",
       "    </tr>\n",
       "    <tr>\n",
       "      <th>November</th>\n",
       "      <td>13.02</td>\n",
       "    </tr>\n",
       "    <tr>\n",
       "      <th>December</th>\n",
       "      <td>7.53</td>\n",
       "    </tr>\n",
       "  </tbody>\n",
       "</table>\n",
       "</div>"
      ],
      "text/plain": [
       "           Baseline\n",
       "Month              \n",
       "January        5.69\n",
       "February       6.75\n",
       "March         10.64\n",
       "April         13.60\n",
       "May           19.34\n",
       "June          22.64\n",
       "July          27.02\n",
       "August        27.13\n",
       "September     25.04\n",
       "October       18.47\n",
       "November      13.02\n",
       "December       7.53"
      ]
     },
     "execution_count": 8,
     "metadata": {},
     "output_type": "execute_result"
    }
   ],
   "source": [
    "baseline_data          #displaying data with the month as the index"
   ]
  },
  {
   "cell_type": "code",
   "execution_count": 9,
   "id": "2faff236",
   "metadata": {},
   "outputs": [
    {
     "data": {
      "text/plain": [
       "Index(['Baseline'], dtype='object')"
      ]
     },
     "execution_count": 9,
     "metadata": {},
     "output_type": "execute_result"
    }
   ],
   "source": [
    "baseline_data.columns           #shows the columns in the baseline dataset"
   ]
  },
  {
   "cell_type": "code",
   "execution_count": 10,
   "id": "171c2931",
   "metadata": {},
   "outputs": [
    {
     "data": {
      "text/plain": [
       "Index(['January', 'February', 'March', 'April', 'May', 'June', 'July',\n",
       "       'August', 'September', 'October', 'November', 'December'],\n",
       "      dtype='object', name='Month')"
      ]
     },
     "execution_count": 10,
     "metadata": {},
     "output_type": "execute_result"
    }
   ],
   "source": [
    "baseline_data.index             #shows the different index values of the baseline dataset"
   ]
  },
  {
   "cell_type": "code",
   "execution_count": 11,
   "id": "171b8bfb",
   "metadata": {},
   "outputs": [
    {
     "name": "stdout",
     "output_type": "stream",
     "text": [
      "<class 'pandas.core.frame.DataFrame'>\n",
      "Index: 12 entries, January to December\n",
      "Data columns (total 1 columns):\n",
      " #   Column    Non-Null Count  Dtype  \n",
      "---  ------    --------------  -----  \n",
      " 0   Baseline  12 non-null     float64\n",
      "dtypes: float64(1)\n",
      "memory usage: 192.0+ bytes\n"
     ]
    }
   ],
   "source": [
    "baseline_data.info()       #shows a summary of the dataset"
   ]
  },
  {
   "cell_type": "code",
   "execution_count": 12,
   "id": "1b5912fc",
   "metadata": {},
   "outputs": [
    {
     "data": {
      "text/plain": [
       "Month\n",
       "January       5.69\n",
       "February      6.75\n",
       "March        10.64\n",
       "April        13.60\n",
       "May          19.34\n",
       "June         22.64\n",
       "July         27.02\n",
       "August       27.13\n",
       "September    25.04\n",
       "October      18.47\n",
       "November     13.02\n",
       "December      7.53\n",
       "Name: Baseline, dtype: float64"
      ]
     },
     "execution_count": 12,
     "metadata": {},
     "output_type": "execute_result"
    }
   ],
   "source": [
    "baseline_data['Baseline']            #Selecting column of a dataframe"
   ]
  },
  {
   "cell_type": "code",
   "execution_count": 13,
   "id": "9b2f1cbd",
   "metadata": {},
   "outputs": [
    {
     "data": {
      "text/plain": [
       "Month\n",
       "January       5.69\n",
       "February      6.75\n",
       "March        10.64\n",
       "April        13.60\n",
       "May          19.34\n",
       "June         22.64\n",
       "July         27.02\n",
       "August       27.13\n",
       "September    25.04\n",
       "October      18.47\n",
       "November     13.02\n",
       "December      7.53\n",
       "Name: Baseline, dtype: float64"
      ]
     },
     "execution_count": 13,
     "metadata": {},
     "output_type": "execute_result"
    }
   ],
   "source": [
    "baseline_data.Baseline         #another way of selecting a col in dataframe"
   ]
  },
  {
   "cell_type": "code",
   "execution_count": 14,
   "id": "f060cba3",
   "metadata": {},
   "outputs": [
    {
     "data": {
      "text/html": [
       "<div>\n",
       "<style scoped>\n",
       "    .dataframe tbody tr th:only-of-type {\n",
       "        vertical-align: middle;\n",
       "    }\n",
       "\n",
       "    .dataframe tbody tr th {\n",
       "        vertical-align: top;\n",
       "    }\n",
       "\n",
       "    .dataframe thead th {\n",
       "        text-align: right;\n",
       "    }\n",
       "</style>\n",
       "<table border=\"1\" class=\"dataframe\">\n",
       "  <thead>\n",
       "    <tr style=\"text-align: right;\">\n",
       "      <th></th>\n",
       "      <th>Baseline</th>\n",
       "    </tr>\n",
       "    <tr>\n",
       "      <th>Month</th>\n",
       "      <th></th>\n",
       "    </tr>\n",
       "  </thead>\n",
       "  <tbody>\n",
       "    <tr>\n",
       "      <th>January</th>\n",
       "      <td>5.69</td>\n",
       "    </tr>\n",
       "    <tr>\n",
       "      <th>February</th>\n",
       "      <td>6.75</td>\n",
       "    </tr>\n",
       "    <tr>\n",
       "      <th>March</th>\n",
       "      <td>10.64</td>\n",
       "    </tr>\n",
       "    <tr>\n",
       "      <th>April</th>\n",
       "      <td>13.60</td>\n",
       "    </tr>\n",
       "    <tr>\n",
       "      <th>May</th>\n",
       "      <td>19.34</td>\n",
       "    </tr>\n",
       "  </tbody>\n",
       "</table>\n",
       "</div>"
      ],
      "text/plain": [
       "          Baseline\n",
       "Month             \n",
       "January       5.69\n",
       "February      6.75\n",
       "March        10.64\n",
       "April        13.60\n",
       "May          19.34"
      ]
     },
     "execution_count": 14,
     "metadata": {},
     "output_type": "execute_result"
    }
   ],
   "source": [
    "baseline_data.head()      #shows the first five data entries in the dataset"
   ]
  },
  {
   "cell_type": "code",
   "execution_count": 15,
   "id": "ba0b5848",
   "metadata": {},
   "outputs": [
    {
     "data": {
      "text/html": [
       "<div>\n",
       "<style scoped>\n",
       "    .dataframe tbody tr th:only-of-type {\n",
       "        vertical-align: middle;\n",
       "    }\n",
       "\n",
       "    .dataframe tbody tr th {\n",
       "        vertical-align: top;\n",
       "    }\n",
       "\n",
       "    .dataframe thead th {\n",
       "        text-align: right;\n",
       "    }\n",
       "</style>\n",
       "<table border=\"1\" class=\"dataframe\">\n",
       "  <thead>\n",
       "    <tr style=\"text-align: right;\">\n",
       "      <th></th>\n",
       "      <th>Baseline</th>\n",
       "    </tr>\n",
       "    <tr>\n",
       "      <th>Month</th>\n",
       "      <th></th>\n",
       "    </tr>\n",
       "  </thead>\n",
       "  <tbody>\n",
       "    <tr>\n",
       "      <th>August</th>\n",
       "      <td>27.13</td>\n",
       "    </tr>\n",
       "    <tr>\n",
       "      <th>September</th>\n",
       "      <td>25.04</td>\n",
       "    </tr>\n",
       "    <tr>\n",
       "      <th>October</th>\n",
       "      <td>18.47</td>\n",
       "    </tr>\n",
       "    <tr>\n",
       "      <th>November</th>\n",
       "      <td>13.02</td>\n",
       "    </tr>\n",
       "    <tr>\n",
       "      <th>December</th>\n",
       "      <td>7.53</td>\n",
       "    </tr>\n",
       "  </tbody>\n",
       "</table>\n",
       "</div>"
      ],
      "text/plain": [
       "           Baseline\n",
       "Month              \n",
       "August        27.13\n",
       "September     25.04\n",
       "October       18.47\n",
       "November      13.02\n",
       "December       7.53"
      ]
     },
     "execution_count": 15,
     "metadata": {},
     "output_type": "execute_result"
    }
   ],
   "source": [
    "baseline_data.tail()         #shows the last 5 data entries in the dataset."
   ]
  },
  {
   "cell_type": "code",
   "execution_count": 16,
   "id": "0afbe492",
   "metadata": {},
   "outputs": [
    {
     "data": {
      "text/html": [
       "<div>\n",
       "<style scoped>\n",
       "    .dataframe tbody tr th:only-of-type {\n",
       "        vertical-align: middle;\n",
       "    }\n",
       "\n",
       "    .dataframe tbody tr th {\n",
       "        vertical-align: top;\n",
       "    }\n",
       "\n",
       "    .dataframe thead th {\n",
       "        text-align: right;\n",
       "    }\n",
       "</style>\n",
       "<table border=\"1\" class=\"dataframe\">\n",
       "  <thead>\n",
       "    <tr style=\"text-align: right;\">\n",
       "      <th></th>\n",
       "      <th>Baseline</th>\n",
       "    </tr>\n",
       "    <tr>\n",
       "      <th>Month</th>\n",
       "      <th></th>\n",
       "    </tr>\n",
       "  </thead>\n",
       "  <tbody>\n",
       "    <tr>\n",
       "      <th>March</th>\n",
       "      <td>10.64</td>\n",
       "    </tr>\n",
       "    <tr>\n",
       "      <th>April</th>\n",
       "      <td>13.60</td>\n",
       "    </tr>\n",
       "    <tr>\n",
       "      <th>May</th>\n",
       "      <td>19.34</td>\n",
       "    </tr>\n",
       "    <tr>\n",
       "      <th>June</th>\n",
       "      <td>22.64</td>\n",
       "    </tr>\n",
       "    <tr>\n",
       "      <th>July</th>\n",
       "      <td>27.02</td>\n",
       "    </tr>\n",
       "    <tr>\n",
       "      <th>August</th>\n",
       "      <td>27.13</td>\n",
       "    </tr>\n",
       "    <tr>\n",
       "      <th>September</th>\n",
       "      <td>25.04</td>\n",
       "    </tr>\n",
       "    <tr>\n",
       "      <th>October</th>\n",
       "      <td>18.47</td>\n",
       "    </tr>\n",
       "    <tr>\n",
       "      <th>November</th>\n",
       "      <td>13.02</td>\n",
       "    </tr>\n",
       "  </tbody>\n",
       "</table>\n",
       "</div>"
      ],
      "text/plain": [
       "           Baseline\n",
       "Month              \n",
       "March         10.64\n",
       "April         13.60\n",
       "May           19.34\n",
       "June          22.64\n",
       "July          27.02\n",
       "August        27.13\n",
       "September     25.04\n",
       "October       18.47\n",
       "November      13.02"
      ]
     },
     "execution_count": 16,
     "metadata": {},
     "output_type": "execute_result"
    }
   ],
   "source": [
    "baseline_data[baseline_data['Baseline']>10]          #filterinf rows based on conditions, where the baseline>10"
   ]
  },
  {
   "cell_type": "code",
   "execution_count": 17,
   "id": "3973ffd1",
   "metadata": {},
   "outputs": [
    {
     "data": {
      "text/html": [
       "<div>\n",
       "<style scoped>\n",
       "    .dataframe tbody tr th:only-of-type {\n",
       "        vertical-align: middle;\n",
       "    }\n",
       "\n",
       "    .dataframe tbody tr th {\n",
       "        vertical-align: top;\n",
       "    }\n",
       "\n",
       "    .dataframe thead th {\n",
       "        text-align: right;\n",
       "    }\n",
       "</style>\n",
       "<table border=\"1\" class=\"dataframe\">\n",
       "  <thead>\n",
       "    <tr style=\"text-align: right;\">\n",
       "      <th></th>\n",
       "      <th>Baseline</th>\n",
       "    </tr>\n",
       "    <tr>\n",
       "      <th>Month</th>\n",
       "      <th></th>\n",
       "    </tr>\n",
       "  </thead>\n",
       "  <tbody>\n",
       "    <tr>\n",
       "      <th>September</th>\n",
       "      <td>25.04</td>\n",
       "    </tr>\n",
       "    <tr>\n",
       "      <th>May</th>\n",
       "      <td>19.34</td>\n",
       "    </tr>\n",
       "    <tr>\n",
       "      <th>August</th>\n",
       "      <td>27.13</td>\n",
       "    </tr>\n",
       "    <tr>\n",
       "      <th>April</th>\n",
       "      <td>13.60</td>\n",
       "    </tr>\n",
       "    <tr>\n",
       "      <th>December</th>\n",
       "      <td>7.53</td>\n",
       "    </tr>\n",
       "    <tr>\n",
       "      <th>July</th>\n",
       "      <td>27.02</td>\n",
       "    </tr>\n",
       "  </tbody>\n",
       "</table>\n",
       "</div>"
      ],
      "text/plain": [
       "           Baseline\n",
       "Month              \n",
       "September     25.04\n",
       "May           19.34\n",
       "August        27.13\n",
       "April         13.60\n",
       "December       7.53\n",
       "July          27.02"
      ]
     },
     "execution_count": 17,
     "metadata": {},
     "output_type": "execute_result"
    }
   ],
   "source": [
    "baseline_data.sample(frac = 0.5)  #shows random sample from the dataset, here the amount if 50% of all the rows."
   ]
  },
  {
   "cell_type": "code",
   "execution_count": 18,
   "id": "777ee06a",
   "metadata": {},
   "outputs": [
    {
     "data": {
      "text/html": [
       "<div>\n",
       "<style scoped>\n",
       "    .dataframe tbody tr th:only-of-type {\n",
       "        vertical-align: middle;\n",
       "    }\n",
       "\n",
       "    .dataframe tbody tr th {\n",
       "        vertical-align: top;\n",
       "    }\n",
       "\n",
       "    .dataframe thead th {\n",
       "        text-align: right;\n",
       "    }\n",
       "</style>\n",
       "<table border=\"1\" class=\"dataframe\">\n",
       "  <thead>\n",
       "    <tr style=\"text-align: right;\">\n",
       "      <th></th>\n",
       "      <th>Baseline</th>\n",
       "    </tr>\n",
       "    <tr>\n",
       "      <th>Month</th>\n",
       "      <th></th>\n",
       "    </tr>\n",
       "  </thead>\n",
       "  <tbody>\n",
       "    <tr>\n",
       "      <th>March</th>\n",
       "      <td>10.64</td>\n",
       "    </tr>\n",
       "    <tr>\n",
       "      <th>January</th>\n",
       "      <td>5.69</td>\n",
       "    </tr>\n",
       "    <tr>\n",
       "      <th>August</th>\n",
       "      <td>27.13</td>\n",
       "    </tr>\n",
       "  </tbody>\n",
       "</table>\n",
       "</div>"
      ],
      "text/plain": [
       "         Baseline\n",
       "Month            \n",
       "March       10.64\n",
       "January      5.69\n",
       "August      27.13"
      ]
     },
     "execution_count": 18,
     "metadata": {},
     "output_type": "execute_result"
    }
   ],
   "source": [
    "baseline_data.sample(n = 3)  #shows 3 random rows of the dataset"
   ]
  },
  {
   "cell_type": "code",
   "execution_count": 19,
   "id": "5e573195",
   "metadata": {},
   "outputs": [
    {
     "data": {
      "text/html": [
       "<div>\n",
       "<style scoped>\n",
       "    .dataframe tbody tr th:only-of-type {\n",
       "        vertical-align: middle;\n",
       "    }\n",
       "\n",
       "    .dataframe tbody tr th {\n",
       "        vertical-align: top;\n",
       "    }\n",
       "\n",
       "    .dataframe thead th {\n",
       "        text-align: right;\n",
       "    }\n",
       "</style>\n",
       "<table border=\"1\" class=\"dataframe\">\n",
       "  <thead>\n",
       "    <tr style=\"text-align: right;\">\n",
       "      <th></th>\n",
       "      <th>Baseline</th>\n",
       "    </tr>\n",
       "    <tr>\n",
       "      <th>Month</th>\n",
       "      <th></th>\n",
       "    </tr>\n",
       "  </thead>\n",
       "  <tbody>\n",
       "    <tr>\n",
       "      <th>January</th>\n",
       "      <td>5.69</td>\n",
       "    </tr>\n",
       "    <tr>\n",
       "      <th>February</th>\n",
       "      <td>6.75</td>\n",
       "    </tr>\n",
       "    <tr>\n",
       "      <th>December</th>\n",
       "      <td>7.53</td>\n",
       "    </tr>\n",
       "    <tr>\n",
       "      <th>March</th>\n",
       "      <td>10.64</td>\n",
       "    </tr>\n",
       "    <tr>\n",
       "      <th>November</th>\n",
       "      <td>13.02</td>\n",
       "    </tr>\n",
       "    <tr>\n",
       "      <th>April</th>\n",
       "      <td>13.60</td>\n",
       "    </tr>\n",
       "    <tr>\n",
       "      <th>October</th>\n",
       "      <td>18.47</td>\n",
       "    </tr>\n",
       "    <tr>\n",
       "      <th>May</th>\n",
       "      <td>19.34</td>\n",
       "    </tr>\n",
       "    <tr>\n",
       "      <th>June</th>\n",
       "      <td>22.64</td>\n",
       "    </tr>\n",
       "    <tr>\n",
       "      <th>September</th>\n",
       "      <td>25.04</td>\n",
       "    </tr>\n",
       "    <tr>\n",
       "      <th>July</th>\n",
       "      <td>27.02</td>\n",
       "    </tr>\n",
       "    <tr>\n",
       "      <th>August</th>\n",
       "      <td>27.13</td>\n",
       "    </tr>\n",
       "  </tbody>\n",
       "</table>\n",
       "</div>"
      ],
      "text/plain": [
       "           Baseline\n",
       "Month              \n",
       "January        5.69\n",
       "February       6.75\n",
       "December       7.53\n",
       "March         10.64\n",
       "November      13.02\n",
       "April         13.60\n",
       "October       18.47\n",
       "May           19.34\n",
       "June          22.64\n",
       "September     25.04\n",
       "July          27.02\n",
       "August        27.13"
      ]
     },
     "execution_count": 19,
     "metadata": {},
     "output_type": "execute_result"
    }
   ],
   "source": [
    "baseline_data.sort_values('Baseline')   #sorts the data in the baseline column"
   ]
  },
  {
   "cell_type": "code",
   "execution_count": 20,
   "id": "387f3e54",
   "metadata": {},
   "outputs": [
    {
     "data": {
      "text/html": [
       "<div>\n",
       "<style scoped>\n",
       "    .dataframe tbody tr th:only-of-type {\n",
       "        vertical-align: middle;\n",
       "    }\n",
       "\n",
       "    .dataframe tbody tr th {\n",
       "        vertical-align: top;\n",
       "    }\n",
       "\n",
       "    .dataframe thead th {\n",
       "        text-align: right;\n",
       "    }\n",
       "</style>\n",
       "<table border=\"1\" class=\"dataframe\">\n",
       "  <thead>\n",
       "    <tr style=\"text-align: right;\">\n",
       "      <th></th>\n",
       "      <th>Baseline</th>\n",
       "    </tr>\n",
       "    <tr>\n",
       "      <th>Month</th>\n",
       "      <th></th>\n",
       "    </tr>\n",
       "  </thead>\n",
       "  <tbody>\n",
       "    <tr>\n",
       "      <th>April</th>\n",
       "      <td>13.60</td>\n",
       "    </tr>\n",
       "    <tr>\n",
       "      <th>August</th>\n",
       "      <td>27.13</td>\n",
       "    </tr>\n",
       "    <tr>\n",
       "      <th>December</th>\n",
       "      <td>7.53</td>\n",
       "    </tr>\n",
       "    <tr>\n",
       "      <th>February</th>\n",
       "      <td>6.75</td>\n",
       "    </tr>\n",
       "    <tr>\n",
       "      <th>January</th>\n",
       "      <td>5.69</td>\n",
       "    </tr>\n",
       "    <tr>\n",
       "      <th>July</th>\n",
       "      <td>27.02</td>\n",
       "    </tr>\n",
       "    <tr>\n",
       "      <th>June</th>\n",
       "      <td>22.64</td>\n",
       "    </tr>\n",
       "    <tr>\n",
       "      <th>March</th>\n",
       "      <td>10.64</td>\n",
       "    </tr>\n",
       "    <tr>\n",
       "      <th>May</th>\n",
       "      <td>19.34</td>\n",
       "    </tr>\n",
       "    <tr>\n",
       "      <th>November</th>\n",
       "      <td>13.02</td>\n",
       "    </tr>\n",
       "    <tr>\n",
       "      <th>October</th>\n",
       "      <td>18.47</td>\n",
       "    </tr>\n",
       "    <tr>\n",
       "      <th>September</th>\n",
       "      <td>25.04</td>\n",
       "    </tr>\n",
       "  </tbody>\n",
       "</table>\n",
       "</div>"
      ],
      "text/plain": [
       "           Baseline\n",
       "Month              \n",
       "April         13.60\n",
       "August        27.13\n",
       "December       7.53\n",
       "February       6.75\n",
       "January        5.69\n",
       "July          27.02\n",
       "June          22.64\n",
       "March         10.64\n",
       "May           19.34\n",
       "November      13.02\n",
       "October       18.47\n",
       "September     25.04"
      ]
     },
     "execution_count": 20,
     "metadata": {},
     "output_type": "execute_result"
    }
   ],
   "source": [
    "baseline_data.sort_index()    #sorts the index values in the dataframe"
   ]
  },
  {
   "cell_type": "code",
   "execution_count": 21,
   "id": "a4670fb6",
   "metadata": {},
   "outputs": [
    {
     "data": {
      "text/html": [
       "<div>\n",
       "<style scoped>\n",
       "    .dataframe tbody tr th:only-of-type {\n",
       "        vertical-align: middle;\n",
       "    }\n",
       "\n",
       "    .dataframe tbody tr th {\n",
       "        vertical-align: top;\n",
       "    }\n",
       "\n",
       "    .dataframe thead th {\n",
       "        text-align: right;\n",
       "    }\n",
       "</style>\n",
       "<table border=\"1\" class=\"dataframe\">\n",
       "  <thead>\n",
       "    <tr style=\"text-align: right;\">\n",
       "      <th></th>\n",
       "      <th>Baseline Cooling Consumption in GWh</th>\n",
       "    </tr>\n",
       "    <tr>\n",
       "      <th>Month</th>\n",
       "      <th></th>\n",
       "    </tr>\n",
       "  </thead>\n",
       "  <tbody>\n",
       "    <tr>\n",
       "      <th>January</th>\n",
       "      <td>5.69</td>\n",
       "    </tr>\n",
       "    <tr>\n",
       "      <th>February</th>\n",
       "      <td>6.75</td>\n",
       "    </tr>\n",
       "    <tr>\n",
       "      <th>March</th>\n",
       "      <td>10.64</td>\n",
       "    </tr>\n",
       "    <tr>\n",
       "      <th>April</th>\n",
       "      <td>13.60</td>\n",
       "    </tr>\n",
       "    <tr>\n",
       "      <th>May</th>\n",
       "      <td>19.34</td>\n",
       "    </tr>\n",
       "    <tr>\n",
       "      <th>June</th>\n",
       "      <td>22.64</td>\n",
       "    </tr>\n",
       "    <tr>\n",
       "      <th>July</th>\n",
       "      <td>27.02</td>\n",
       "    </tr>\n",
       "    <tr>\n",
       "      <th>August</th>\n",
       "      <td>27.13</td>\n",
       "    </tr>\n",
       "    <tr>\n",
       "      <th>September</th>\n",
       "      <td>25.04</td>\n",
       "    </tr>\n",
       "    <tr>\n",
       "      <th>October</th>\n",
       "      <td>18.47</td>\n",
       "    </tr>\n",
       "    <tr>\n",
       "      <th>November</th>\n",
       "      <td>13.02</td>\n",
       "    </tr>\n",
       "    <tr>\n",
       "      <th>December</th>\n",
       "      <td>7.53</td>\n",
       "    </tr>\n",
       "  </tbody>\n",
       "</table>\n",
       "</div>"
      ],
      "text/plain": [
       "           Baseline Cooling Consumption in GWh\n",
       "Month                                         \n",
       "January                                   5.69\n",
       "February                                  6.75\n",
       "March                                    10.64\n",
       "April                                    13.60\n",
       "May                                      19.34\n",
       "June                                     22.64\n",
       "July                                     27.02\n",
       "August                                   27.13\n",
       "September                                25.04\n",
       "October                                  18.47\n",
       "November                                 13.02\n",
       "December                                  7.53"
      ]
     },
     "execution_count": 21,
     "metadata": {},
     "output_type": "execute_result"
    }
   ],
   "source": [
    "baseline_data.rename(columns={'Baseline':'Baseline Cooling Consumption in GWh'})    #column name changed here"
   ]
  },
  {
   "cell_type": "code",
   "execution_count": 22,
   "id": "42f0c5e4",
   "metadata": {},
   "outputs": [
    {
     "data": {
      "text/plain": [
       "<AxesSubplot: xlabel='Month'>"
      ]
     },
     "execution_count": 22,
     "metadata": {},
     "output_type": "execute_result"
    },
    {
     "data": {
      "image/png": "[encoded data removed]",
      "text/plain": [
       "<Figure size 432x288 with 1 Axes>"
      ]
     },
     "metadata": {
      "needs_background": "light"
     },
     "output_type": "display_data"
    }
   ],
   "source": [
    "baseline_data.plot()       #the data is plotted, month against baseline consumption"
   ]
  },
  {
   "cell_type": "code",
   "execution_count": 23,
   "id": "122a32d5",
   "metadata": {},
   "outputs": [
    {
     "data": {
      "text/plain": [
       "<AxesSubplot: title={'center': 'Cooling Energy Consumption of Baseline Building in Total GWh'}, xlabel='Month of the year'>"
      ]
     },
     "execution_count": 23,
     "metadata": {},
     "output_type": "execute_result"
    },
    {
     "data": {
      "image/png": "[encoded data removed]",
      "text/plain": [
       "<Figure size 432x288 with 1 Axes>"
      ]
     },
     "metadata": {
      "needs_background": "light"
     },
     "output_type": "display_data"
    }
   ],
   "source": [
    "baseline_data.columns.name= 'Scenario'       #a customized plot of the dataframe with new labels and line style\n",
    "baseline_data.index.name = 'Month of the year'\n",
    "baseline_data.plot(lw=2, colormap='jet',marker='.',\n",
    "                   markersize=10,title='Cooling Energy Consumption of Baseline Building in Total GWh')"
   ]
  },
  {
   "cell_type": "code",
   "execution_count": 24,
   "id": "37e1860b",
   "metadata": {},
   "outputs": [
    {
     "name": "stdout",
     "output_type": "stream",
     "text": [
      "Baseline.csv                 covid19dh.csv\r\n",
      "ScenarioAirconSchedules.csv  \u001b[34minput\u001b[m\u001b[m/\r\n",
      "Task2.ipynb                  task 1.ipynb\r\n"
     ]
    }
   ],
   "source": [
    "ls   #shows the files in out current directory"
   ]
  },
  {
   "cell_type": "code",
   "execution_count": 25,
   "id": "917c71b0",
   "metadata": {},
   "outputs": [],
   "source": [
    "schedule_scenario = pd.read_csv('ScenarioAirconSchedules.csv',index_col='Month') #reading air schedule data"
   ]
  },
  {
   "cell_type": "code",
   "execution_count": 26,
   "id": "42faafe7",
   "metadata": {},
   "outputs": [
    {
     "data": {
      "text/html": [
       "<div>\n",
       "<style scoped>\n",
       "    .dataframe tbody tr th:only-of-type {\n",
       "        vertical-align: middle;\n",
       "    }\n",
       "\n",
       "    .dataframe tbody tr th {\n",
       "        vertical-align: top;\n",
       "    }\n",
       "\n",
       "    .dataframe thead th {\n",
       "        text-align: right;\n",
       "    }\n",
       "</style>\n",
       "<table border=\"1\" class=\"dataframe\">\n",
       "  <thead>\n",
       "    <tr style=\"text-align: right;\">\n",
       "      <th></th>\n",
       "      <th>Scenario - Aircon Schedules</th>\n",
       "    </tr>\n",
       "    <tr>\n",
       "      <th>Month</th>\n",
       "      <th></th>\n",
       "    </tr>\n",
       "  </thead>\n",
       "  <tbody>\n",
       "    <tr>\n",
       "      <th>January</th>\n",
       "      <td>5.61</td>\n",
       "    </tr>\n",
       "    <tr>\n",
       "      <th>February</th>\n",
       "      <td>6.50</td>\n",
       "    </tr>\n",
       "    <tr>\n",
       "      <th>March</th>\n",
       "      <td>9.70</td>\n",
       "    </tr>\n",
       "    <tr>\n",
       "      <th>April</th>\n",
       "      <td>11.95</td>\n",
       "    </tr>\n",
       "    <tr>\n",
       "      <th>May</th>\n",
       "      <td>16.52</td>\n",
       "    </tr>\n",
       "    <tr>\n",
       "      <th>June</th>\n",
       "      <td>18.89</td>\n",
       "    </tr>\n",
       "    <tr>\n",
       "      <th>July</th>\n",
       "      <td>22.13</td>\n",
       "    </tr>\n",
       "    <tr>\n",
       "      <th>August</th>\n",
       "      <td>22.14</td>\n",
       "    </tr>\n",
       "    <tr>\n",
       "      <th>September</th>\n",
       "      <td>20.38</td>\n",
       "    </tr>\n",
       "    <tr>\n",
       "      <th>October</th>\n",
       "      <td>15.87</td>\n",
       "    </tr>\n",
       "    <tr>\n",
       "      <th>November</th>\n",
       "      <td>11.71</td>\n",
       "    </tr>\n",
       "    <tr>\n",
       "      <th>December</th>\n",
       "      <td>7.16</td>\n",
       "    </tr>\n",
       "  </tbody>\n",
       "</table>\n",
       "</div>"
      ],
      "text/plain": [
       "           Scenario - Aircon Schedules\n",
       "Month                                 \n",
       "January                           5.61\n",
       "February                          6.50\n",
       "March                             9.70\n",
       "April                            11.95\n",
       "May                              16.52\n",
       "June                             18.89\n",
       "July                             22.13\n",
       "August                           22.14\n",
       "September                        20.38\n",
       "October                          15.87\n",
       "November                         11.71\n",
       "December                          7.16"
      ]
     },
     "execution_count": 26,
     "metadata": {},
     "output_type": "execute_result"
    }
   ],
   "source": [
    "schedule_scenario    #data of the air condition schedules"
   ]
  },
  {
   "cell_type": "code",
   "execution_count": 27,
   "id": "7f5f227b",
   "metadata": {},
   "outputs": [],
   "source": [
    "combined_data = pd.concat([baseline_data,schedule_scenario],axis=1) #concatinating 2 data frames for comparing"
   ]
  },
  {
   "cell_type": "code",
   "execution_count": 28,
   "id": "954f8f8b",
   "metadata": {},
   "outputs": [
    {
     "data": {
      "text/html": [
       "<div>\n",
       "<style scoped>\n",
       "    .dataframe tbody tr th:only-of-type {\n",
       "        vertical-align: middle;\n",
       "    }\n",
       "\n",
       "    .dataframe tbody tr th {\n",
       "        vertical-align: top;\n",
       "    }\n",
       "\n",
       "    .dataframe thead th {\n",
       "        text-align: right;\n",
       "    }\n",
       "</style>\n",
       "<table border=\"1\" class=\"dataframe\">\n",
       "  <thead>\n",
       "    <tr style=\"text-align: right;\">\n",
       "      <th></th>\n",
       "      <th>Baseline</th>\n",
       "      <th>Scenario - Aircon Schedules</th>\n",
       "    </tr>\n",
       "  </thead>\n",
       "  <tbody>\n",
       "    <tr>\n",
       "      <th>January</th>\n",
       "      <td>5.69</td>\n",
       "      <td>5.61</td>\n",
       "    </tr>\n",
       "    <tr>\n",
       "      <th>February</th>\n",
       "      <td>6.75</td>\n",
       "      <td>6.50</td>\n",
       "    </tr>\n",
       "    <tr>\n",
       "      <th>March</th>\n",
       "      <td>10.64</td>\n",
       "      <td>9.70</td>\n",
       "    </tr>\n",
       "    <tr>\n",
       "      <th>April</th>\n",
       "      <td>13.60</td>\n",
       "      <td>11.95</td>\n",
       "    </tr>\n",
       "    <tr>\n",
       "      <th>May</th>\n",
       "      <td>19.34</td>\n",
       "      <td>16.52</td>\n",
       "    </tr>\n",
       "    <tr>\n",
       "      <th>June</th>\n",
       "      <td>22.64</td>\n",
       "      <td>18.89</td>\n",
       "    </tr>\n",
       "    <tr>\n",
       "      <th>July</th>\n",
       "      <td>27.02</td>\n",
       "      <td>22.13</td>\n",
       "    </tr>\n",
       "    <tr>\n",
       "      <th>August</th>\n",
       "      <td>27.13</td>\n",
       "      <td>22.14</td>\n",
       "    </tr>\n",
       "    <tr>\n",
       "      <th>September</th>\n",
       "      <td>25.04</td>\n",
       "      <td>20.38</td>\n",
       "    </tr>\n",
       "    <tr>\n",
       "      <th>October</th>\n",
       "      <td>18.47</td>\n",
       "      <td>15.87</td>\n",
       "    </tr>\n",
       "    <tr>\n",
       "      <th>November</th>\n",
       "      <td>13.02</td>\n",
       "      <td>11.71</td>\n",
       "    </tr>\n",
       "    <tr>\n",
       "      <th>December</th>\n",
       "      <td>7.53</td>\n",
       "      <td>7.16</td>\n",
       "    </tr>\n",
       "  </tbody>\n",
       "</table>\n",
       "</div>"
      ],
      "text/plain": [
       "           Baseline  Scenario - Aircon Schedules\n",
       "January        5.69                         5.61\n",
       "February       6.75                         6.50\n",
       "March         10.64                         9.70\n",
       "April         13.60                        11.95\n",
       "May           19.34                        16.52\n",
       "June          22.64                        18.89\n",
       "July          27.02                        22.13\n",
       "August        27.13                        22.14\n",
       "September     25.04                        20.38\n",
       "October       18.47                        15.87\n",
       "November      13.02                        11.71\n",
       "December       7.53                         7.16"
      ]
     },
     "execution_count": 28,
     "metadata": {},
     "output_type": "execute_result"
    }
   ],
   "source": [
    "combined_data"
   ]
  },
  {
   "cell_type": "code",
   "execution_count": 29,
   "id": "8db1af1f",
   "metadata": {},
   "outputs": [
    {
     "data": {
      "text/plain": [
       "<AxesSubplot: title={'center': 'Cooling Energy Consumption of Baseline Building in Total GWh'}>"
      ]
     },
     "execution_count": 29,
     "metadata": {},
     "output_type": "execute_result"
    },
    {
     "data": {
      "image/png": "[encoded data removed]",
      "text/plain": [
       "<Figure size 432x288 with 1 Axes>"
      ]
     },
     "metadata": {
      "needs_background": "light"
     },
     "output_type": "display_data"
    }
   ],
   "source": [
    "combined_data.plot(lw=2,colormap='jet',  marker='.',\n",
    "                   markersize=10,\n",
    "                   title='Cooling Energy Consumption of Baseline Building in Total GWh')\n",
    "\n",
    "#plotting the data of the combined data frame to show that the aircon schedule is lower than all time constant\n",
    "#cool air supply requirement"
   ]
  },
  {
   "cell_type": "code",
   "execution_count": 30,
   "id": "886a7d27",
   "metadata": {},
   "outputs": [
    {
     "data": {
      "text/plain": [
       "Index(['Baseline', 'Scenario - Aircon Schedules'], dtype='object')"
      ]
     },
     "execution_count": 30,
     "metadata": {},
     "output_type": "execute_result"
    }
   ],
   "source": [
    "combined_data.columns"
   ]
  },
  {
   "cell_type": "code",
   "execution_count": 31,
   "id": "55ae2370",
   "metadata": {},
   "outputs": [
    {
     "data": {
      "text/html": [
       "<div>\n",
       "<style scoped>\n",
       "    .dataframe tbody tr th:only-of-type {\n",
       "        vertical-align: middle;\n",
       "    }\n",
       "\n",
       "    .dataframe tbody tr th {\n",
       "        vertical-align: top;\n",
       "    }\n",
       "\n",
       "    .dataframe thead th {\n",
       "        text-align: right;\n",
       "    }\n",
       "</style>\n",
       "<table border=\"1\" class=\"dataframe\">\n",
       "  <thead>\n",
       "    <tr style=\"text-align: right;\">\n",
       "      <th></th>\n",
       "      <th>Baseline</th>\n",
       "      <th>Scenario - Aircon Schedules</th>\n",
       "      <th>Diff</th>\n",
       "    </tr>\n",
       "  </thead>\n",
       "  <tbody>\n",
       "    <tr>\n",
       "      <th>January</th>\n",
       "      <td>5.69</td>\n",
       "      <td>5.61</td>\n",
       "      <td>0.08</td>\n",
       "    </tr>\n",
       "    <tr>\n",
       "      <th>February</th>\n",
       "      <td>6.75</td>\n",
       "      <td>6.50</td>\n",
       "      <td>0.25</td>\n",
       "    </tr>\n",
       "    <tr>\n",
       "      <th>March</th>\n",
       "      <td>10.64</td>\n",
       "      <td>9.70</td>\n",
       "      <td>0.94</td>\n",
       "    </tr>\n",
       "    <tr>\n",
       "      <th>April</th>\n",
       "      <td>13.60</td>\n",
       "      <td>11.95</td>\n",
       "      <td>1.65</td>\n",
       "    </tr>\n",
       "    <tr>\n",
       "      <th>May</th>\n",
       "      <td>19.34</td>\n",
       "      <td>16.52</td>\n",
       "      <td>2.82</td>\n",
       "    </tr>\n",
       "    <tr>\n",
       "      <th>June</th>\n",
       "      <td>22.64</td>\n",
       "      <td>18.89</td>\n",
       "      <td>3.75</td>\n",
       "    </tr>\n",
       "    <tr>\n",
       "      <th>July</th>\n",
       "      <td>27.02</td>\n",
       "      <td>22.13</td>\n",
       "      <td>4.89</td>\n",
       "    </tr>\n",
       "    <tr>\n",
       "      <th>August</th>\n",
       "      <td>27.13</td>\n",
       "      <td>22.14</td>\n",
       "      <td>4.99</td>\n",
       "    </tr>\n",
       "    <tr>\n",
       "      <th>September</th>\n",
       "      <td>25.04</td>\n",
       "      <td>20.38</td>\n",
       "      <td>4.66</td>\n",
       "    </tr>\n",
       "    <tr>\n",
       "      <th>October</th>\n",
       "      <td>18.47</td>\n",
       "      <td>15.87</td>\n",
       "      <td>2.60</td>\n",
       "    </tr>\n",
       "    <tr>\n",
       "      <th>November</th>\n",
       "      <td>13.02</td>\n",
       "      <td>11.71</td>\n",
       "      <td>1.31</td>\n",
       "    </tr>\n",
       "    <tr>\n",
       "      <th>December</th>\n",
       "      <td>7.53</td>\n",
       "      <td>7.16</td>\n",
       "      <td>0.37</td>\n",
       "    </tr>\n",
       "  </tbody>\n",
       "</table>\n",
       "</div>"
      ],
      "text/plain": [
       "           Baseline  Scenario - Aircon Schedules  Diff\n",
       "January        5.69                         5.61  0.08\n",
       "February       6.75                         6.50  0.25\n",
       "March         10.64                         9.70  0.94\n",
       "April         13.60                        11.95  1.65\n",
       "May           19.34                        16.52  2.82\n",
       "June          22.64                        18.89  3.75\n",
       "July          27.02                        22.13  4.89\n",
       "August        27.13                        22.14  4.99\n",
       "September     25.04                        20.38  4.66\n",
       "October       18.47                        15.87  2.60\n",
       "November      13.02                        11.71  1.31\n",
       "December       7.53                         7.16  0.37"
      ]
     },
     "execution_count": 31,
     "metadata": {},
     "output_type": "execute_result"
    }
   ],
   "source": [
    "combined_data['Diff'] = combined_data['Baseline'] - combined_data['Scenario - Aircon Schedules'] \n",
    "#new column with the differnece of the baseline col and the aircon schedule col\n",
    "\n",
    "\n",
    "\n",
    "\n",
    "combined_data"
   ]
  },
  {
   "cell_type": "code",
   "execution_count": 32,
   "id": "a2724d43",
   "metadata": {},
   "outputs": [
    {
     "data": {
      "text/plain": [
       "<AxesSubplot: title={'center': 'Difference between Baseline and Improved Schedules in Total GWh'}>"
      ]
     },
     "execution_count": 32,
     "metadata": {},
     "output_type": "execute_result"
    },
    {
     "data": {
      "image/png": "[encoded data removed]",
      "text/plain": [
       "<Figure size 432x288 with 1 Axes>"
      ]
     },
     "metadata": {
      "needs_background": "light"
     },
     "output_type": "display_data"
    }
   ],
   "source": [
    "combined_data['Diff'].plot.bar(title='Difference between Baseline and Improved Schedules in Total GWh')\n",
    "\n",
    "\n",
    "#bar charting representing the differneces betweent the baseline and air schedule"
   ]
  },
  {
   "cell_type": "code",
   "execution_count": 33,
   "id": "8eed1093",
   "metadata": {},
   "outputs": [],
   "source": [
    "def get_difference_conditional(monthly_data):    #creating a function that does comaparison except the july month\n",
    "  \n",
    "  if monthly_data.name == 'July':\n",
    "    return 0\n",
    "  else:\n",
    "    return monthly_data['Baseline'] - monthly_data['Scenario - Aircon Schedules']\n"
   ]
  },
  {
   "cell_type": "code",
   "execution_count": 37,
   "id": "7536cc85",
   "metadata": {},
   "outputs": [],
   "source": [
    "combined_data['Diff_nojuly'] = combined_data.apply(lambda x:get_difference_conditional(x),axis = 1)\n",
    "\n",
    "#function applied to the colmns of combined data dataframe"
   ]
  },
  {
   "cell_type": "code",
   "execution_count": 36,
   "id": "fca1a008",
   "metadata": {},
   "outputs": [
    {
     "data": {
      "text/plain": [
       "<AxesSubplot: title={'center': 'Difference between Baseline and Improved Schedules in Total GWh'}>"
      ]
     },
     "execution_count": 36,
     "metadata": {},
     "output_type": "execute_result"
    },
    {
     "data": {
      "image/png": "[encoded data removed]",
      "text/plain": [
       "<Figure size 432x288 with 1 Axes>"
      ]
     },
     "metadata": {
      "needs_background": "light"
     },
     "output_type": "display_data"
    }
   ],
   "source": [
    "combined_data['Diff_nojuly'].plot.bar(title='Difference between Baseline and Improved Schedules in Total GWh')"
   ]
  },
  {
   "cell_type": "code",
   "execution_count": 38,
   "id": "5a8b4017",
   "metadata": {},
   "outputs": [],
   "source": [
    "list_of_files = ['Scenario - Aircon Schedules.csv',\n",
    " 'Scenario - Cool roof.csv',\n",
    " 'Scenario - Rooftop Gardens.csv',\n",
    " 'Scenario - Increase Setpoint.csv',\n",
    " 'Scenario - Low-E Glass.csv',\n",
    " 'Baseline.csv']"
   ]
  },
  {
   "cell_type": "code",
   "execution_count": 39,
   "id": "c76b9be6",
   "metadata": {},
   "outputs": [
    {
     "data": {
      "text/plain": [
       "['Scenario - Aircon Schedules.csv',\n",
       " 'Scenario - Cool roof.csv',\n",
       " 'Scenario - Rooftop Gardens.csv',\n",
       " 'Scenario - Increase Setpoint.csv',\n",
       " 'Scenario - Low-E Glass.csv',\n",
       " 'Baseline.csv']"
      ]
     },
     "execution_count": 39,
     "metadata": {},
     "output_type": "execute_result"
    }
   ],
   "source": [
    "list_of_files"
   ]
  },
  {
   "cell_type": "code",
   "execution_count": 41,
   "id": "71c00810",
   "metadata": {},
   "outputs": [
    {
     "name": "stdout",
     "output_type": "stream",
     "text": [
      "Scenario - Aircon Schedules.csv\n",
      "Scenario - Cool roof.csv\n",
      "Scenario - Rooftop Gardens.csv\n",
      "Scenario - Increase Setpoint.csv\n",
      "Scenario - Low-E Glass.csv\n",
      "Baseline.csv\n"
     ]
    }
   ],
   "source": [
    "for filename in list_of_files:     #looping through the file names\n",
    "    print(filename)"
   ]
  },
  {
   "cell_type": "code",
   "execution_count": 46,
   "id": "e849f2b0",
   "metadata": {},
   "outputs": [
    {
     "name": "stdout",
     "output_type": "stream",
     "text": [
      "Scenario - Aircon Schedules.csv\n",
      "Scenario - Cool roof.csv\n",
      "Scenario - Rooftop Gardens.csv\n",
      "Scenario - Increase Setpoint.csv\n",
      "Scenario - Low-E Glass.csv\n",
      "Baseline.csv\n"
     ]
    }
   ],
   "source": [
    "data_container = []\n",
    "for filename in list_of_files:\n",
    "  print(filename)\n",
    "  df = pd.read_csv('scenarios/'+filename, index_col='Month')\n",
    "  data_container.append(df)\n",
    "\n",
    "all_data = pd.concat(data_container, axis=1)\n",
    "\n",
    "\n",
    "#concating data frames into all_data dataframe"
   ]
  },
  {
   "cell_type": "code",
   "execution_count": 47,
   "id": "12cf8227",
   "metadata": {},
   "outputs": [
    {
     "data": {
      "text/html": [
       "<div>\n",
       "<style scoped>\n",
       "    .dataframe tbody tr th:only-of-type {\n",
       "        vertical-align: middle;\n",
       "    }\n",
       "\n",
       "    .dataframe tbody tr th {\n",
       "        vertical-align: top;\n",
       "    }\n",
       "\n",
       "    .dataframe thead th {\n",
       "        text-align: right;\n",
       "    }\n",
       "</style>\n",
       "<table border=\"1\" class=\"dataframe\">\n",
       "  <thead>\n",
       "    <tr style=\"text-align: right;\">\n",
       "      <th></th>\n",
       "      <th>Scenario - Aircon Schedules</th>\n",
       "      <th>Scenario - Cool roof</th>\n",
       "      <th>Scenario - Rooftop Gardens</th>\n",
       "      <th>Scenario - Increase Setpoint</th>\n",
       "      <th>Scenario - Low-E Glass</th>\n",
       "      <th>Baseline</th>\n",
       "    </tr>\n",
       "    <tr>\n",
       "      <th>Month</th>\n",
       "      <th></th>\n",
       "      <th></th>\n",
       "      <th></th>\n",
       "      <th></th>\n",
       "      <th></th>\n",
       "      <th></th>\n",
       "    </tr>\n",
       "  </thead>\n",
       "  <tbody>\n",
       "    <tr>\n",
       "      <th>January</th>\n",
       "      <td>5.61</td>\n",
       "      <td>4.46</td>\n",
       "      <td>6.30</td>\n",
       "      <td>2.73</td>\n",
       "      <td>5.41</td>\n",
       "      <td>5.69</td>\n",
       "    </tr>\n",
       "    <tr>\n",
       "      <th>February</th>\n",
       "      <td>6.50</td>\n",
       "      <td>5.39</td>\n",
       "      <td>7.15</td>\n",
       "      <td>3.88</td>\n",
       "      <td>6.48</td>\n",
       "      <td>6.75</td>\n",
       "    </tr>\n",
       "    <tr>\n",
       "      <th>March</th>\n",
       "      <td>9.70</td>\n",
       "      <td>8.96</td>\n",
       "      <td>10.90</td>\n",
       "      <td>6.60</td>\n",
       "      <td>10.37</td>\n",
       "      <td>10.64</td>\n",
       "    </tr>\n",
       "    <tr>\n",
       "      <th>April</th>\n",
       "      <td>11.95</td>\n",
       "      <td>11.73</td>\n",
       "      <td>13.59</td>\n",
       "      <td>9.37</td>\n",
       "      <td>13.36</td>\n",
       "      <td>13.60</td>\n",
       "    </tr>\n",
       "    <tr>\n",
       "      <th>May</th>\n",
       "      <td>16.52</td>\n",
       "      <td>17.28</td>\n",
       "      <td>18.94</td>\n",
       "      <td>14.82</td>\n",
       "      <td>19.14</td>\n",
       "      <td>19.34</td>\n",
       "    </tr>\n",
       "    <tr>\n",
       "      <th>June</th>\n",
       "      <td>18.89</td>\n",
       "      <td>20.54</td>\n",
       "      <td>22.12</td>\n",
       "      <td>18.01</td>\n",
       "      <td>22.47</td>\n",
       "      <td>22.64</td>\n",
       "    </tr>\n",
       "    <tr>\n",
       "      <th>July</th>\n",
       "      <td>22.13</td>\n",
       "      <td>24.76</td>\n",
       "      <td>26.29</td>\n",
       "      <td>21.98</td>\n",
       "      <td>26.84</td>\n",
       "      <td>27.02</td>\n",
       "    </tr>\n",
       "    <tr>\n",
       "      <th>August</th>\n",
       "      <td>22.14</td>\n",
       "      <td>24.97</td>\n",
       "      <td>26.47</td>\n",
       "      <td>22.15</td>\n",
       "      <td>26.91</td>\n",
       "      <td>27.13</td>\n",
       "    </tr>\n",
       "    <tr>\n",
       "      <th>September</th>\n",
       "      <td>20.38</td>\n",
       "      <td>22.98</td>\n",
       "      <td>24.63</td>\n",
       "      <td>19.92</td>\n",
       "      <td>24.77</td>\n",
       "      <td>25.04</td>\n",
       "    </tr>\n",
       "    <tr>\n",
       "      <th>October</th>\n",
       "      <td>15.87</td>\n",
       "      <td>16.57</td>\n",
       "      <td>18.51</td>\n",
       "      <td>13.65</td>\n",
       "      <td>18.16</td>\n",
       "      <td>18.47</td>\n",
       "    </tr>\n",
       "    <tr>\n",
       "      <th>November</th>\n",
       "      <td>11.71</td>\n",
       "      <td>11.41</td>\n",
       "      <td>13.55</td>\n",
       "      <td>8.49</td>\n",
       "      <td>12.69</td>\n",
       "      <td>13.02</td>\n",
       "    </tr>\n",
       "    <tr>\n",
       "      <th>December</th>\n",
       "      <td>7.16</td>\n",
       "      <td>6.36</td>\n",
       "      <td>8.19</td>\n",
       "      <td>4.15</td>\n",
       "      <td>7.24</td>\n",
       "      <td>7.53</td>\n",
       "    </tr>\n",
       "  </tbody>\n",
       "</table>\n",
       "</div>"
      ],
      "text/plain": [
       "           Scenario - Aircon Schedules  Scenario - Cool roof  \\\n",
       "Month                                                          \n",
       "January                           5.61                  4.46   \n",
       "February                          6.50                  5.39   \n",
       "March                             9.70                  8.96   \n",
       "April                            11.95                 11.73   \n",
       "May                              16.52                 17.28   \n",
       "June                             18.89                 20.54   \n",
       "July                             22.13                 24.76   \n",
       "August                           22.14                 24.97   \n",
       "September                        20.38                 22.98   \n",
       "October                          15.87                 16.57   \n",
       "November                         11.71                 11.41   \n",
       "December                          7.16                  6.36   \n",
       "\n",
       "           Scenario - Rooftop Gardens  Scenario - Increase Setpoint  \\\n",
       "Month                                                                 \n",
       "January                          6.30                          2.73   \n",
       "February                         7.15                          3.88   \n",
       "March                           10.90                          6.60   \n",
       "April                           13.59                          9.37   \n",
       "May                             18.94                         14.82   \n",
       "June                            22.12                         18.01   \n",
       "July                            26.29                         21.98   \n",
       "August                          26.47                         22.15   \n",
       "September                       24.63                         19.92   \n",
       "October                         18.51                         13.65   \n",
       "November                        13.55                          8.49   \n",
       "December                         8.19                          4.15   \n",
       "\n",
       "           Scenario - Low-E Glass  Baseline  \n",
       "Month                                        \n",
       "January                      5.41      5.69  \n",
       "February                     6.48      6.75  \n",
       "March                       10.37     10.64  \n",
       "April                       13.36     13.60  \n",
       "May                         19.14     19.34  \n",
       "June                        22.47     22.64  \n",
       "July                        26.84     27.02  \n",
       "August                      26.91     27.13  \n",
       "September                   24.77     25.04  \n",
       "October                     18.16     18.47  \n",
       "November                    12.69     13.02  \n",
       "December                     7.24      7.53  "
      ]
     },
     "execution_count": 47,
     "metadata": {},
     "output_type": "execute_result"
    }
   ],
   "source": [
    "all_data"
   ]
  },
  {
   "cell_type": "code",
   "execution_count": 48,
   "id": "97cfb6e0",
   "metadata": {},
   "outputs": [
    {
     "name": "stdout",
     "output_type": "stream",
     "text": [
      "<class 'pandas.core.frame.DataFrame'>\n",
      "Index: 12 entries, January to December\n",
      "Data columns (total 6 columns):\n",
      " #   Column                        Non-Null Count  Dtype  \n",
      "---  ------                        --------------  -----  \n",
      " 0   Scenario - Aircon Schedules   12 non-null     float64\n",
      " 1   Scenario - Cool roof          12 non-null     float64\n",
      " 2   Scenario - Rooftop Gardens    12 non-null     float64\n",
      " 3   Scenario - Increase Setpoint  12 non-null     float64\n",
      " 4   Scenario - Low-E Glass        12 non-null     float64\n",
      " 5   Baseline                      12 non-null     float64\n",
      "dtypes: float64(6)\n",
      "memory usage: 672.0+ bytes\n"
     ]
    }
   ],
   "source": [
    "all_data.info()"
   ]
  },
  {
   "cell_type": "code",
   "execution_count": 50,
   "id": "dca97b28",
   "metadata": {},
   "outputs": [
    {
     "data": {
      "text/plain": [
       "<AxesSubplot: title={'center': 'Cooling Energy Consumption of Baseline Building in Total GWh'}, xlabel='Month'>"
      ]
     },
     "execution_count": 50,
     "metadata": {},
     "output_type": "execute_result"
    },
    {
     "data": {
      "image/png": "[encoded data removed]",
      "text/plain": [
       "<Figure size 1080x576 with 1 Axes>"
      ]
     },
     "metadata": {
      "needs_background": "light"
     },
     "output_type": "display_data"
    }
   ],
   "source": [
    "all_data.plot(lw=2, colormap='jet', marker='.', markersize=10, \n",
    "        title='Cooling Energy Consumption of Baseline Building in Total GWh', figsize=(15,8))\n",
    "\n",
    "#plotting all data scenarios against month"
   ]
  },
  {
   "cell_type": "code",
   "execution_count": 52,
   "id": "4ce34e93",
   "metadata": {},
   "outputs": [
    {
     "data": {
      "text/plain": [
       "<AxesSubplot: >"
      ]
     },
     "execution_count": 52,
     "metadata": {},
     "output_type": "execute_result"
    },
    {
     "data": {
      "image/png": "[encoded data removed]",
      "text/plain": [
       "<Figure size 432x288 with 1 Axes>"
      ]
     },
     "metadata": {
      "needs_background": "light"
     },
     "output_type": "display_data"
    }
   ],
   "source": [
    "all_data.subtract(all_data['Baseline'], axis=0).sum().plot.bar()\n",
    "\n",
    "#shows the energy saved from each design option"
   ]
  },
  {
   "cell_type": "code",
   "execution_count": null,
   "id": "4c5a3fdb",
   "metadata": {},
   "outputs": [],
   "source": []
  }
 ],
 "metadata": {
  "kernelspec": {
   "display_name": "Python 3 (ipykernel)",
   "language": "python",
   "name": "python3"
  },
  "language_info": {
   "codemirror_mode": {
    "name": "ipython",
    "version": 3
   },
   "file_extension": ".py",
   "mimetype": "text/x-python",
   "name": "python",
   "nbconvert_exporter": "python",
   "pygments_lexer": "ipython3",
   "version": "3.9.7"
  }
 },
 "nbformat": 4,
 "nbformat_minor": 5
}
