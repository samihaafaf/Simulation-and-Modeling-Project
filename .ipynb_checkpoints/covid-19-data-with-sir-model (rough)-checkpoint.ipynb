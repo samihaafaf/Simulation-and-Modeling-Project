{
 "cells": [
  {
   "cell_type": "code",
   "execution_count": null,
   "metadata": {
    "_cell_guid": "0c5341ac-2f8d-46bb-8749-fa8804155603",
    "_uuid": "4a1c505a-af19-4114-9013-4d0cd725fc6e",
    "execution": {
     "iopub.execute_input": "2021-07-31T14:10:01.157834Z",
     "iopub.status.busy": "2021-07-31T14:10:01.157091Z",
     "iopub.status.idle": "2021-07-31T14:10:01.17346Z",
     "shell.execute_reply": "2021-07-31T14:10:01.172707Z",
     "shell.execute_reply.started": "2021-07-31T14:10:01.157692Z"
    }
   },
   "outputs": [],
   "source": [
    "from datetime import datetime\n",
    "time_format = \"%d%b%Y %H:%M\"\n",
    "datetime.now().strftime(time_format)"
   ]
  },
  {
   "cell_type": "markdown",
   "metadata": {},
   "source": [
    "#### Updates\n",
    " * 13Feb2020-31Dec2020: (Please read [Change log](#11) subsection.)\n",
    " \n",
    " * 09Jan2021: Update with CovsirPhy v2.14.0\n",
    " * 17Jan2021: Update with CovsirPhy v2.15.0\n",
    " * 30Jan2021: Stop to use linelist data\n",
    " * 12Feb2021: Update with CovsirPhy v2.16.1\n",
    " * 14Feb2021: Update with CovsirPhy v2.16.2\n",
    " * 01Mar2021: Update with CovsirPhy v2.17.0\n",
    " * 20Mar2021: Add citation\n",
    " * 28Mar2021: Update with CovsirPhy v2.18.0\n",
    " * 11Apr2021: Update with CovsirPhy v2.19.0\n",
    " * 18Apr2021: Update with CovsirPhy v2.19.1\n",
    " * 19May2021: Update with CovsirPhy v2.20.0/2.20.1\n",
    " * 27May2021: Update with CovsirPhy v2.20.2\n",
    " * 10Jun2021: Update with CovsirPhy v2.20.3\n",
    " * 20Jun2021: Update with CovsirPhy v2.21.0\n",
    " * 31Jul2021: Update with CovsirPhy v2.22.0\n",
    " * 25Dec2021: Update with CovsirPhy v2.22.1/2.22.2\n",
    " * 20Feb2022: Update with CovsirPhy v2.23.0/2.23.1\n",
    " * 04Mar2022: Update with CovsirPhy v2.24.0"
   ]
  },
  {
   "cell_type": "markdown",
   "metadata": {
    "_cell_guid": "3779540e-8e00-4811-a789-6107b0d51e0c",
    "_uuid": "e8837623-1d76-40e3-8710-af80d55cfc9c"
   },
   "source": [
    "# Dataset and tools<a id=\"1\"></a>"
   ]
  },
  {
   "cell_type": "markdown",
   "metadata": {},
   "source": [
    "## Package"
   ]
  },
  {
   "cell_type": "markdown",
   "metadata": {},
   "source": [
    "### Package for SIR analysis\n",
    "[CovsirPhy](https://github.com/lisphilar/covid19-sir) downloads the datasets and analyse it. Stable versions are registed to PyPI and development versions are in GutHub repository. We will install the latest development version here to test new features, but you can select stable versions for your analysis."
   ]
  },
  {
   "cell_type": "code",
   "execution_count": 1,
   "metadata": {
    "execution": {
     "iopub.execute_input": "2021-07-31T14:10:01.216592Z",
     "iopub.status.busy": "2021-07-31T14:10:01.215936Z",
     "iopub.status.idle": "2021-07-31T14:10:01.953402Z",
     "shell.execute_reply": "2021-07-31T14:10:01.952349Z",
     "shell.execute_reply.started": "2021-07-31T14:10:01.216543Z"
    }
   },
   "outputs": [
    {
     "name": "stdout",
     "output_type": "stream",
     "text": [
      "Python 3.9.7\r\n"
     ]
    }
   ],
   "source": [
    "!python --version"
   ]
  },
  {
   "cell_type": "code",
   "execution_count": 2,
   "metadata": {
    "_kg_hide-input": false,
    "_kg_hide-output": true,
    "execution": {
     "iopub.execute_input": "2021-07-31T14:10:01.961237Z",
     "iopub.status.busy": "2021-07-31T14:10:01.960955Z",
     "iopub.status.idle": "2021-07-31T14:11:53.481607Z",
     "shell.execute_reply": "2021-07-31T14:11:53.480491Z",
     "shell.execute_reply.started": "2021-07-31T14:10:01.961211Z"
    }
   },
   "outputs": [
    {
     "name": "stdout",
     "output_type": "stream",
     "text": [
      "Collecting covsirphy\n",
      "  Cloning https://github.com/lisphilar/covid19-sir.git to /private/var/folders/9l/5c7vs7pj29b6dr_mm0_skbf00000gn/T/pip-install-6ldeipei/covsirphy_093c721e7fb941b48144491bf7fbee68\n",
      "  Running command git clone --filter=blob:none --quiet https://github.com/lisphilar/covid19-sir.git /private/var/folders/9l/5c7vs7pj29b6dr_mm0_skbf00000gn/T/pip-install-6ldeipei/covsirphy_093c721e7fb941b48144491bf7fbee68\n",
      "  Resolved https://github.com/lisphilar/covid19-sir.git to commit fcf44d141591e4f8e61904a1ca012f54c51f3b0b\n",
      "  Installing build dependencies ... \u001b[?25ldone\n",
      "\u001b[?25h  Getting requirements to build wheel ... \u001b[?25ldone\n",
      "\u001b[?25h  Preparing metadata (pyproject.toml) ... \u001b[?25ldone\n",
      "\u001b[?25hRequirement already satisfied: Unidecode<2.0.0,>=1.3.4 in /Users/samihaafafneha/opt/anaconda3/lib/python3.9/site-packages (from covsirphy) (1.3.6)\n",
      "Requirement already satisfied: p-tqdm<2.0.0,>=1.4.0 in /Users/samihaafafneha/opt/anaconda3/lib/python3.9/site-packages (from covsirphy) (1.4.0)\n",
      "Requirement already satisfied: AutoTS<0.6.0,>=0.5.0 in /Users/samihaafafneha/opt/anaconda3/lib/python3.9/site-packages (from covsirphy) (0.5.0)\n",
      "Requirement already satisfied: country-converter<0.8.0,>=0.7.7 in /Users/samihaafafneha/opt/anaconda3/lib/python3.9/site-packages (from covsirphy) (0.7.7)\n",
      "Requirement already satisfied: matplotlib<4.0.0,>=3.6.1 in /Users/samihaafafneha/opt/anaconda3/lib/python3.9/site-packages (from covsirphy) (3.6.1)\n",
      "Requirement already satisfied: numpy<2.0.0,>=1.23.3 in /Users/samihaafafneha/opt/anaconda3/lib/python3.9/site-packages (from covsirphy) (1.23.4)\n",
      "Requirement already satisfied: tabulate<0.10.0,>=0.9.0 in /Users/samihaafafneha/opt/anaconda3/lib/python3.9/site-packages (from covsirphy) (0.9.0)\n",
      "Requirement already satisfied: geopandas<0.13.0,>=0.11.1 in /Users/samihaafafneha/opt/anaconda3/lib/python3.9/site-packages (from covsirphy) (0.12.0)\n",
      "Requirement already satisfied: loguru<0.7.0,>=0.6.0 in /Users/samihaafafneha/opt/anaconda3/lib/python3.9/site-packages (from covsirphy) (0.6.0)\n",
      "Requirement already satisfied: pca<2.0.0,>=1.8.3 in /Users/samihaafafneha/opt/anaconda3/lib/python3.9/site-packages (from covsirphy) (1.8.3)\n",
      "Requirement already satisfied: pyarrow<10.0.0,>=9.0.0 in /Users/samihaafafneha/opt/anaconda3/lib/python3.9/site-packages (from covsirphy) (9.0.0)\n",
      "Requirement already satisfied: optuna<4.0.0,>=3.0.1 in /Users/samihaafafneha/opt/anaconda3/lib/python3.9/site-packages (from covsirphy) (3.0.3)\n",
      "Requirement already satisfied: typing-extensions<5.0.0,>=4.4.0 in /Users/samihaafafneha/opt/anaconda3/lib/python3.9/site-packages (from covsirphy) (4.4.0)\n",
      "Requirement already satisfied: scipy>=1.8.1 in /Users/samihaafafneha/opt/anaconda3/lib/python3.9/site-packages (from covsirphy) (1.8.1)\n",
      "Requirement already satisfied: requests<3.0.0,>=2.28.1 in /Users/samihaafafneha/opt/anaconda3/lib/python3.9/site-packages (from covsirphy) (2.28.1)\n",
      "Requirement already satisfied: ruptures<2.0.0,>=1.1.7 in /Users/samihaafafneha/opt/anaconda3/lib/python3.9/site-packages (from covsirphy) (1.1.7)\n",
      "Requirement already satisfied: pandas<2.0.0,>=1.5.1 in /Users/samihaafafneha/opt/anaconda3/lib/python3.9/site-packages (from covsirphy) (1.5.1)\n",
      "Requirement already satisfied: scikit-learn>=0.20.* in /Users/samihaafafneha/opt/anaconda3/lib/python3.9/site-packages (from AutoTS<0.6.0,>=0.5.0->covsirphy) (0.24.2)\n",
      "Requirement already satisfied: statsmodels>=0.10.* in /Users/samihaafafneha/opt/anaconda3/lib/python3.9/site-packages (from AutoTS<0.6.0,>=0.5.0->covsirphy) (0.12.2)\n",
      "Requirement already satisfied: pyproj>=2.6.1.post1 in /Users/samihaafafneha/opt/anaconda3/lib/python3.9/site-packages (from geopandas<0.13.0,>=0.11.1->covsirphy) (3.4.0)\n",
      "Requirement already satisfied: shapely<2,>=1.7 in /Users/samihaafafneha/opt/anaconda3/lib/python3.9/site-packages (from geopandas<0.13.0,>=0.11.1->covsirphy) (1.8.5.post1)\n",
      "Requirement already satisfied: packaging in /Users/samihaafafneha/opt/anaconda3/lib/python3.9/site-packages (from geopandas<0.13.0,>=0.11.1->covsirphy) (21.0)\n",
      "Requirement already satisfied: fiona>=1.8 in /Users/samihaafafneha/opt/anaconda3/lib/python3.9/site-packages (from geopandas<0.13.0,>=0.11.1->covsirphy) (1.8.22)\n",
      "Requirement already satisfied: fonttools>=4.22.0 in /Users/samihaafafneha/opt/anaconda3/lib/python3.9/site-packages (from matplotlib<4.0.0,>=3.6.1->covsirphy) (4.25.0)\n",
      "Requirement already satisfied: pillow>=6.2.0 in /Users/samihaafafneha/opt/anaconda3/lib/python3.9/site-packages (from matplotlib<4.0.0,>=3.6.1->covsirphy) (8.4.0)\n",
      "Requirement already satisfied: kiwisolver>=1.0.1 in /Users/samihaafafneha/opt/anaconda3/lib/python3.9/site-packages (from matplotlib<4.0.0,>=3.6.1->covsirphy) (1.3.1)\n",
      "Requirement already satisfied: pyparsing>=2.2.1 in /Users/samihaafafneha/opt/anaconda3/lib/python3.9/site-packages (from matplotlib<4.0.0,>=3.6.1->covsirphy) (3.0.4)\n",
      "Requirement already satisfied: python-dateutil>=2.7 in /Users/samihaafafneha/opt/anaconda3/lib/python3.9/site-packages (from matplotlib<4.0.0,>=3.6.1->covsirphy) (2.8.2)\n",
      "Requirement already satisfied: cycler>=0.10 in /Users/samihaafafneha/opt/anaconda3/lib/python3.9/site-packages (from matplotlib<4.0.0,>=3.6.1->covsirphy) (0.10.0)\n",
      "Requirement already satisfied: contourpy>=1.0.1 in /Users/samihaafafneha/opt/anaconda3/lib/python3.9/site-packages (from matplotlib<4.0.0,>=3.6.1->covsirphy) (1.0.5)\n",
      "Requirement already satisfied: colorlog in /Users/samihaafafneha/opt/anaconda3/lib/python3.9/site-packages (from optuna<4.0.0,>=3.0.1->covsirphy) (6.7.0)\n",
      "Requirement already satisfied: PyYAML in /Users/samihaafafneha/opt/anaconda3/lib/python3.9/site-packages (from optuna<4.0.0,>=3.0.1->covsirphy) (6.0)\n",
      "Requirement already satisfied: importlib-metadata<5.0.0 in /Users/samihaafafneha/opt/anaconda3/lib/python3.9/site-packages (from optuna<4.0.0,>=3.0.1->covsirphy) (4.8.1)\n",
      "Requirement already satisfied: sqlalchemy>=1.3.0 in /Users/samihaafafneha/opt/anaconda3/lib/python3.9/site-packages (from optuna<4.0.0,>=3.0.1->covsirphy) (1.4.22)\n",
      "Requirement already satisfied: cmaes>=0.8.2 in /Users/samihaafafneha/opt/anaconda3/lib/python3.9/site-packages (from optuna<4.0.0,>=3.0.1->covsirphy) (0.8.2)\n",
      "Requirement already satisfied: tqdm in /Users/samihaafafneha/opt/anaconda3/lib/python3.9/site-packages (from optuna<4.0.0,>=3.0.1->covsirphy) (4.62.3)\n",
      "Requirement already satisfied: cliff in /Users/samihaafafneha/opt/anaconda3/lib/python3.9/site-packages (from optuna<4.0.0,>=3.0.1->covsirphy) (4.0.0)\n",
      "Requirement already satisfied: alembic>=1.5.0 in /Users/samihaafafneha/opt/anaconda3/lib/python3.9/site-packages (from optuna<4.0.0,>=3.0.1->covsirphy) (1.8.1)\n",
      "Requirement already satisfied: pathos>=0.2.5 in /Users/samihaafafneha/opt/anaconda3/lib/python3.9/site-packages (from p-tqdm<2.0.0,>=1.4.0->covsirphy) (0.3.0)\n",
      "Requirement already satisfied: six>=1.13.0 in /Users/samihaafafneha/opt/anaconda3/lib/python3.9/site-packages (from p-tqdm<2.0.0,>=1.4.0->covsirphy) (1.16.0)\n",
      "Requirement already satisfied: pytz>=2020.1 in /Users/samihaafafneha/opt/anaconda3/lib/python3.9/site-packages (from pandas<2.0.0,>=1.5.1->covsirphy) (2021.3)\n",
      "Requirement already satisfied: wget in /Users/samihaafafneha/opt/anaconda3/lib/python3.9/site-packages (from pca<2.0.0,>=1.8.3->covsirphy) (3.2)\n",
      "Requirement already satisfied: colourmap in /Users/samihaafafneha/opt/anaconda3/lib/python3.9/site-packages (from pca<2.0.0,>=1.8.3->covsirphy) (1.1.10)\n",
      "Requirement already satisfied: scatterd in /Users/samihaafafneha/opt/anaconda3/lib/python3.9/site-packages (from pca<2.0.0,>=1.8.3->covsirphy) (1.2.0)\n",
      "Requirement already satisfied: sklearn in /Users/samihaafafneha/opt/anaconda3/lib/python3.9/site-packages (from pca<2.0.0,>=1.8.3->covsirphy) (0.0)\n",
      "Requirement already satisfied: idna<4,>=2.5 in /Users/samihaafafneha/opt/anaconda3/lib/python3.9/site-packages (from requests<3.0.0,>=2.28.1->covsirphy) (3.2)\n",
      "Requirement already satisfied: certifi>=2017.4.17 in /Users/samihaafafneha/opt/anaconda3/lib/python3.9/site-packages (from requests<3.0.0,>=2.28.1->covsirphy) (2022.9.24)\n",
      "Requirement already satisfied: charset-normalizer<3,>=2 in /Users/samihaafafneha/opt/anaconda3/lib/python3.9/site-packages (from requests<3.0.0,>=2.28.1->covsirphy) (2.0.4)\n",
      "Requirement already satisfied: urllib3<1.27,>=1.21.1 in /Users/samihaafafneha/opt/anaconda3/lib/python3.9/site-packages (from requests<3.0.0,>=2.28.1->covsirphy) (1.26.7)\n",
      "Requirement already satisfied: Mako in /Users/samihaafafneha/opt/anaconda3/lib/python3.9/site-packages (from alembic>=1.5.0->optuna<4.0.0,>=3.0.1->covsirphy) (1.2.3)\n"
     ]
    },
    {
     "name": "stdout",
     "output_type": "stream",
     "text": [
      "Requirement already satisfied: click>=4.0 in /Users/samihaafafneha/opt/anaconda3/lib/python3.9/site-packages (from fiona>=1.8->geopandas<0.13.0,>=0.11.1->covsirphy) (8.0.3)\n",
      "Requirement already satisfied: setuptools in /Users/samihaafafneha/opt/anaconda3/lib/python3.9/site-packages (from fiona>=1.8->geopandas<0.13.0,>=0.11.1->covsirphy) (58.0.4)\n",
      "Requirement already satisfied: click-plugins>=1.0 in /Users/samihaafafneha/opt/anaconda3/lib/python3.9/site-packages (from fiona>=1.8->geopandas<0.13.0,>=0.11.1->covsirphy) (1.1.1)\n",
      "Requirement already satisfied: attrs>=17 in /Users/samihaafafneha/opt/anaconda3/lib/python3.9/site-packages (from fiona>=1.8->geopandas<0.13.0,>=0.11.1->covsirphy) (21.2.0)\n",
      "Requirement already satisfied: cligj>=0.5 in /Users/samihaafafneha/opt/anaconda3/lib/python3.9/site-packages (from fiona>=1.8->geopandas<0.13.0,>=0.11.1->covsirphy) (0.7.2)\n",
      "Requirement already satisfied: munch in /Users/samihaafafneha/opt/anaconda3/lib/python3.9/site-packages (from fiona>=1.8->geopandas<0.13.0,>=0.11.1->covsirphy) (2.5.0)\n",
      "Requirement already satisfied: zipp>=0.5 in /Users/samihaafafneha/opt/anaconda3/lib/python3.9/site-packages (from importlib-metadata<5.0.0->optuna<4.0.0,>=3.0.1->covsirphy) (3.6.0)\n",
      "Requirement already satisfied: ppft>=1.7.6.6 in /Users/samihaafafneha/opt/anaconda3/lib/python3.9/site-packages (from pathos>=0.2.5->p-tqdm<2.0.0,>=1.4.0->covsirphy) (1.7.6.6)\n",
      "Requirement already satisfied: pox>=0.3.2 in /Users/samihaafafneha/opt/anaconda3/lib/python3.9/site-packages (from pathos>=0.2.5->p-tqdm<2.0.0,>=1.4.0->covsirphy) (0.3.2)\n",
      "Requirement already satisfied: dill>=0.3.6 in /Users/samihaafafneha/opt/anaconda3/lib/python3.9/site-packages (from pathos>=0.2.5->p-tqdm<2.0.0,>=1.4.0->covsirphy) (0.3.6)\n",
      "Requirement already satisfied: multiprocess>=0.70.14 in /Users/samihaafafneha/opt/anaconda3/lib/python3.9/site-packages (from pathos>=0.2.5->p-tqdm<2.0.0,>=1.4.0->covsirphy) (0.70.14)\n",
      "Requirement already satisfied: joblib>=0.11 in /Users/samihaafafneha/opt/anaconda3/lib/python3.9/site-packages (from scikit-learn>=0.20.*->AutoTS<0.6.0,>=0.5.0->covsirphy) (1.1.0)\n",
      "Requirement already satisfied: threadpoolctl>=2.0.0 in /Users/samihaafafneha/opt/anaconda3/lib/python3.9/site-packages (from scikit-learn>=0.20.*->AutoTS<0.6.0,>=0.5.0->covsirphy) (2.2.0)\n",
      "Requirement already satisfied: greenlet!=0.4.17 in /Users/samihaafafneha/opt/anaconda3/lib/python3.9/site-packages (from sqlalchemy>=1.3.0->optuna<4.0.0,>=3.0.1->covsirphy) (1.1.1)\n",
      "Requirement already satisfied: patsy>=0.5 in /Users/samihaafafneha/opt/anaconda3/lib/python3.9/site-packages (from statsmodels>=0.10.*->AutoTS<0.6.0,>=0.5.0->covsirphy) (0.5.2)\n",
      "Requirement already satisfied: cmd2>=1.0.0 in /Users/samihaafafneha/opt/anaconda3/lib/python3.9/site-packages (from cliff->optuna<4.0.0,>=3.0.1->covsirphy) (2.4.2)\n",
      "Requirement already satisfied: PrettyTable>=0.7.2 in /Users/samihaafafneha/opt/anaconda3/lib/python3.9/site-packages (from cliff->optuna<4.0.0,>=3.0.1->covsirphy) (3.4.1)\n",
      "Requirement already satisfied: stevedore>=2.0.1 in /Users/samihaafafneha/opt/anaconda3/lib/python3.9/site-packages (from cliff->optuna<4.0.0,>=3.0.1->covsirphy) (4.1.0)\n",
      "Requirement already satisfied: autopage>=0.4.0 in /Users/samihaafafneha/opt/anaconda3/lib/python3.9/site-packages (from cliff->optuna<4.0.0,>=3.0.1->covsirphy) (0.5.1)\n",
      "Requirement already satisfied: seaborn in /Users/samihaafafneha/opt/anaconda3/lib/python3.9/site-packages (from scatterd->pca<2.0.0,>=1.8.3->covsirphy) (0.11.2)\n",
      "Requirement already satisfied: pyperclip>=1.6 in /Users/samihaafafneha/opt/anaconda3/lib/python3.9/site-packages (from cmd2>=1.0.0->cliff->optuna<4.0.0,>=3.0.1->covsirphy) (1.8.2)\n",
      "Requirement already satisfied: wcwidth>=0.1.7 in /Users/samihaafafneha/opt/anaconda3/lib/python3.9/site-packages (from cmd2>=1.0.0->cliff->optuna<4.0.0,>=3.0.1->covsirphy) (0.2.5)\n",
      "Requirement already satisfied: pbr!=2.1.0,>=2.0.0 in /Users/samihaafafneha/opt/anaconda3/lib/python3.9/site-packages (from stevedore>=2.0.1->cliff->optuna<4.0.0,>=3.0.1->covsirphy) (5.11.0)\n",
      "Requirement already satisfied: MarkupSafe>=0.9.2 in /Users/samihaafafneha/opt/anaconda3/lib/python3.9/site-packages (from Mako->alembic>=1.5.0->optuna<4.0.0,>=3.0.1->covsirphy) (1.1.1)\n"
     ]
    }
   ],
   "source": [
    "# Development version in GitHub\n",
    "!pip install --upgrade \"git+https://github.com/lisphilar/covid19-sir.git#egg=covsirphy\"\n",
    "# Stable version in PyPI\n",
    "# !pip install --upgrade covsirphy"
   ]
  },
  {
   "cell_type": "code",
   "execution_count": 3,
   "metadata": {
    "execution": {
     "iopub.execute_input": "2021-07-31T14:11:53.486117Z",
     "iopub.status.busy": "2021-07-31T14:11:53.485796Z",
     "iopub.status.idle": "2021-07-31T14:11:57.133872Z",
     "shell.execute_reply": "2021-07-31T14:11:57.132938Z",
     "shell.execute_reply.started": "2021-07-31T14:11:53.486084Z"
    }
   },
   "outputs": [
    {
     "data": {
      "text/plain": [
       "'3.0.0.dev7'"
      ]
     },
     "execution_count": 3,
     "metadata": {},
     "output_type": "execute_result"
    }
   ],
   "source": [
    "import covsirphy as cs\n",
    "cs.__version__"
   ]
  },
  {
   "cell_type": "code",
   "execution_count": null,
   "metadata": {},
   "outputs": [],
   "source": []
  },
  {
   "cell_type": "markdown",
   "metadata": {},
   "source": [
    "### General packages"
   ]
  },
  {
   "cell_type": "code",
   "execution_count": null,
   "metadata": {
    "_kg_hide-output": true,
    "execution": {
     "iopub.execute_input": "2021-07-31T14:11:57.135767Z",
     "iopub.status.busy": "2021-07-31T14:11:57.135342Z",
     "iopub.status.idle": "2021-07-31T14:12:06.631092Z",
     "shell.execute_reply": "2021-07-31T14:12:06.630089Z",
     "shell.execute_reply.started": "2021-07-31T14:11:57.135722Z"
    }
   },
   "outputs": [],
   "source": [
    "!pip install openpyxl"
   ]
  },
  {
   "cell_type": "code",
   "execution_count": null,
   "metadata": {
    "_kg_hide-input": true,
    "execution": {
     "iopub.execute_input": "2021-07-31T14:12:06.633521Z",
     "iopub.status.busy": "2021-07-31T14:12:06.633095Z",
     "iopub.status.idle": "2021-07-31T14:12:07.681895Z",
     "shell.execute_reply": "2021-07-31T14:12:07.680934Z",
     "shell.execute_reply.started": "2021-07-31T14:12:06.633473Z"
    }
   },
   "outputs": [],
   "source": [
    "from collections import defaultdict\n",
    "from datetime import timedelta\n",
    "from dateutil.relativedelta import relativedelta\n",
    "import functools\n",
    "from IPython.display import display, Markdown\n",
    "import math\n",
    "import os\n",
    "from pprint import pprint\n",
    "import matplotlib.pyplot as plt\n",
    "import matplotlib.cm as cm\n",
    "import matplotlib\n",
    "from matplotlib.ticker import ScalarFormatter\n",
    "%matplotlib inline\n",
    "import numpy as np\n",
    "import pandas as pd\n",
    "import dask.dataframe as dd\n",
    "pd.plotting.register_matplotlib_converters()\n",
    "import seaborn as sns\n",
    "import scipy as sci\n",
    "from sklearn.feature_extraction.text import TfidfVectorizer\n",
    "from sklearn.cluster import KMeans\n",
    "import sympy as sym"
   ]
  },
  {
   "cell_type": "code",
   "execution_count": null,
   "metadata": {
    "_kg_hide-input": true,
    "execution": {
     "iopub.execute_input": "2021-07-31T14:12:07.683555Z",
     "iopub.status.busy": "2021-07-31T14:12:07.683246Z",
     "iopub.status.idle": "2021-07-31T14:12:07.691018Z",
     "shell.execute_reply": "2021-07-31T14:12:07.689545Z",
     "shell.execute_reply.started": "2021-07-31T14:12:07.683525Z"
    }
   },
   "outputs": [],
   "source": [
    "# Ramdam\n",
    "np.random.seed(123)\n",
    "os.environ[\"PYTHONHASHSEED\"] = \"123\"\n",
    "# Matplotlib\n",
    "plt.style.use(\"seaborn-ticks\")\n",
    "plt.rcParams[\"xtick.direction\"] = \"in\"\n",
    "plt.rcParams[\"ytick.direction\"] = \"in\"\n",
    "plt.rcParams[\"font.size\"] = 11.0\n",
    "plt.rcParams[\"figure.figsize\"] = (9, 6)\n",
    "# Pandas\n",
    "pd.set_option(\"display.max_colwidth\", 1000)"
   ]
  },
  {
   "cell_type": "markdown",
   "metadata": {},
   "source": [
    "## Datasets\n",
    "We will use both of Kaggle datasets and external datasets.\n",
    "\n",
    "### Overview of datasets\n",
    "\n",
    "#### Kaggle datasets\n",
    "We will use the Kaggle datasets saved in \"/kaggle/input\" directory.\n",
    "\n",
    "- [COVID-19 Prevention in Italy](https://www.kaggle.com/marcoferrante/covid19-prevention-in-italy): measures taken in Italy\n",
    "- [Novel Corona Virus 2019 Dataset](https://www.kaggle.com/sudalairajkumar/novel-corona-virus-2019-dataset): line list of COVID-19\n",
    "\n",
    "#### External data sources\n",
    "There are many useful data sources to enhance our analysis.\n",
    "\n",
    "- [COVID-19 Data Hub](https://covid19datahub.io/): The number of cases, populaton values, government responses (retrieved from [Oxford Covid-19 Government Response Tracker](https://github.com/OxCGRT/covid-policy-tracker))\n",
    "- Linelist of COVID-19 (will be included in the near future)\n",
    "- [Popuation Pyramid](https://data.worldbank.org/)\n",
    "- [Our World In Data](https://github.com/owid/covid-19-data/tree/master/public/data): the number of tests, vaccinations, the number of people who received vacccinations\n",
    "- [COVID-19 dataset in Japan](https://github.com/lisphilar/covid19-sir/tree/master/data): the number of cases in Japan, this is the same as [Kaggle: COVID-19 dataset in Japan](https://www.kaggle.com/lisphilar/covid19-dataset-in-japan)\n",
    "\n",
    "In the previous versions, we used the following Kaggle datasets. Thank you for your great hard work, the authors!\n",
    "\n",
    "- [Novel Corona Virus 2019 Dataset](https://www.kaggle.com/sudalairajkumar/novel-corona-virus-2019-dataset): the number of cases, linelist of COVID-19\n",
    "- [covid19 global forecasting: locations population](https://www.kaggle.com/dgrechka/covid19-global-forecasting-locations-population/metadata): population values\n",
    "- [Kaggle: Population Pyramid 2019](https://www.kaggle.com/hotessy/population-pyramid-2019): Population pyramid"
   ]
  },
  {
   "cell_type": "markdown",
   "metadata": {},
   "source": [
    "### The number of cases\n",
    "Yes, the main dataset is for the number of COVID-19 cases. This will be retrieved from [COVID-19 Data Hub](https://covid19datahub.io/) (and [COVID-19 dataset in Japan](https://github.com/lisphilar/covid19-sir/tree/master/data) for Japan). To retrive this dataset, CovsirPhy uses `covid19dh` internally as discussed in [GitHub issue#87 of COVID-19 Data Hub](https://github.com/covid19datahub/COVID19/issues/87).\n",
    "\n",
    "This dataset includes population values to calculate the number of \"susceptible\" cases.\n",
    "\"Susceptible\" = \"Total population\" - \"Confirmed\" in SIR-F model (explained later!)\n",
    "\n",
    "Citation:  \n",
    "Guidotti, E., Ardia, D., (2020), \"COVID-19 Data Hub\", Journal of Open Source Software 5(51):2376, doi: 10.21105/joss.02376.\n",
    "Hirokazu Takaya (2020-2021), COVID-19 dataset in Japan, GitHub repository, https://github.com/lisphilar/covid19-sir/data/japan"
   ]
  },
  {
   "cell_type": "code",
   "execution_count": null,
   "metadata": {
    "_kg_hide-output": true,
    "execution": {
     "iopub.execute_input": "2021-07-31T14:12:07.69422Z",
     "iopub.status.busy": "2021-07-31T14:12:07.693915Z",
     "iopub.status.idle": "2021-07-31T14:14:13.360831Z",
     "shell.execute_reply": "2021-07-31T14:14:13.359833Z",
     "shell.execute_reply.started": "2021-07-31T14:12:07.694192Z"
    }
   },
   "outputs": [],
   "source": [
    "# Create instance of covsirphy.DataLoader class\n",
    "data_loader = cs.DataLoader(directory=\"kaggle/input\")\n",
    "# Retrieve the dataset of the number of COVID-19 cases\n",
    "# Kaggle platform: covid19dh.csv will be saved in /output/kaggle/working/input\n",
    "# Local env: covid19dh.csv will be saved in kaggle/input\n",
    "jhu_data = data_loader.jhu()"
   ]
  },
  {
   "cell_type": "markdown",
   "metadata": {},
   "source": [
    "Cleaned dataset (of all countries) was saved in `jhu_data` and we can get the cleaned dataset as a `pandas.DataFrame`."
   ]
  },
  {
   "cell_type": "code",
   "execution_count": null,
   "metadata": {
    "execution": {
     "iopub.execute_input": "2021-07-31T14:14:13.363804Z",
     "iopub.status.busy": "2021-07-31T14:14:13.363336Z",
     "iopub.status.idle": "2021-07-31T14:14:13.40618Z",
     "shell.execute_reply": "2021-07-31T14:14:13.405171Z",
     "shell.execute_reply.started": "2021-07-31T14:14:13.363759Z"
    }
   },
   "outputs": [],
   "source": [
    "jhu_data.cleaned().tail()"
   ]
  },
  {
   "cell_type": "markdown",
   "metadata": {},
   "source": [
    "We can subset records with country name (and province name)."
   ]
  },
  {
   "cell_type": "code",
   "execution_count": null,
   "metadata": {
    "execution": {
     "iopub.execute_input": "2021-07-31T14:14:13.407797Z",
     "iopub.status.busy": "2021-07-31T14:14:13.407462Z",
     "iopub.status.idle": "2021-07-31T14:14:14.632288Z",
     "shell.execute_reply": "2021-07-31T14:14:14.631338Z",
     "shell.execute_reply.started": "2021-07-31T14:14:13.407761Z"
    }
   },
   "outputs": [],
   "source": [
    "jhu_data.subset(\"Japan\", province=None).tail()"
   ]
  },
  {
   "cell_type": "code",
   "execution_count": null,
   "metadata": {
    "execution": {
     "iopub.execute_input": "2021-07-31T14:14:14.633781Z",
     "iopub.status.busy": "2021-07-31T14:14:14.633478Z",
     "iopub.status.idle": "2021-07-31T14:14:14.667092Z",
     "shell.execute_reply": "2021-07-31T14:14:14.666077Z",
     "shell.execute_reply.started": "2021-07-31T14:14:14.633754Z"
    }
   },
   "outputs": [],
   "source": [
    "df = jhu_data.cleaned()\n",
    "jhu_first_date, jhu_last_date = df[\"Date\"].min(), df[\"Date\"].max()\n",
    "jhu_elapsed = (jhu_last_date - jhu_first_date).days\n",
    "print(f\"{jhu_elapsed} days have passed from the date of the first record.\")"
   ]
  },
  {
   "cell_type": "markdown",
   "metadata": {},
   "source": [
    "### Population pyramid\n",
    "We will use population pyramid to estimate the number of days go out in average."
   ]
  },
  {
   "cell_type": "code",
   "execution_count": null,
   "metadata": {
    "execution": {
     "iopub.execute_input": "2021-07-31T14:14:14.669085Z",
     "iopub.status.busy": "2021-07-31T14:14:14.668586Z",
     "iopub.status.idle": "2021-07-31T14:14:14.677431Z",
     "shell.execute_reply": "2021-07-31T14:14:14.676215Z",
     "shell.execute_reply.started": "2021-07-31T14:14:14.66905Z"
    }
   },
   "outputs": [],
   "source": [
    "pyramid_data = data_loader.pyramid()"
   ]
  },
  {
   "cell_type": "markdown",
   "metadata": {},
   "source": [
    "### The number of days go out (template data)\n",
    "**As a comment of this notebook, @marcoferrante estimated the number of days persons of each age group usually go out. Thank you for your kind cooperation!!**"
   ]
  },
  {
   "cell_type": "code",
   "execution_count": null,
   "metadata": {
    "_kg_hide-input": true,
    "_kg_hide-output": true,
    "execution": {
     "iopub.execute_input": "2021-07-31T14:14:14.679528Z",
     "iopub.status.busy": "2021-07-31T14:14:14.679005Z",
     "iopub.status.idle": "2021-07-31T14:14:14.73717Z",
     "shell.execute_reply": "2021-07-31T14:14:14.736179Z",
     "shell.execute_reply.started": "2021-07-31T14:14:14.679495Z"
    }
   },
   "outputs": [],
   "source": [
    "# @marcoferrante estimation\n",
    "_period_of_life_list = [\n",
    "    \"nursery\", \"nursery school\", \"elementary school\", \"middle school\",\n",
    "    \"high school\", \"university/work\", \"work\", \"work\", \"work\", \"work\",\n",
    "    \"retired\", \"retired\", \"retired\"\n",
    "]\n",
    "df = pd.DataFrame(\n",
    "    {\n",
    "        \"Age_first\": [0, 3, 6, 11, 14, 19, 26, 36, 46, 56, 66, 76, 86],\n",
    "        \"Age_last\": [2, 5, 10, 13, 18, 25, 35, 45, 55, 65, 75, 85, 95],\n",
    "        \"Period_of_life\": _period_of_life_list,\n",
    "        \"Days\": [3, 5, 6, 6, 7, 7, 6, 5, 5, 5, 4, 3, 2]\n",
    "    }\n",
    ")\n",
    "# Adjustment by author\n",
    "df[\"Types\"] = df[\"Period_of_life\"].replace(\n",
    "    {\n",
    "        \"nursery\": \"school\",\n",
    "        \"nursery school\": \"school\",\n",
    "        \"elementary school\": \"school\",\n",
    "        \"middle school\": \"school\",\n",
    "        \"high school\": \"school\",\n",
    "        \"university/work\": \"school/work\"\n",
    "    }\n",
    ")\n",
    "df[\"School\"] = df[[\"Types\", \"Days\"]].apply(lambda x: x[1] if \"school\" in x[0] else 0, axis=1)\n",
    "df[\"Office\"] = df[[\"Types\", \"Days\"]].apply(lambda x: x[1] if \"work\" in x[0] else 0, axis=1)\n",
    "df[\"Others\"] = df[\"Days\"] - df[[\"School\", \"Office\"]].sum(axis=1)\n",
    "df.loc[df[\"Others\"] < 0, \"Others\"] = 0\n",
    "df.loc[df.index[1:5], \"School\"] -= 1\n",
    "df.loc[df.index[1:5], \"Others\"] += 1\n",
    "df.loc[df.index[5], [\"School\", \"Office\", \"Others\"]] = [3, 3, 1]\n",
    "df[[\"School\", \"Office\", \"Others\"]] = df[[\"Days\", \"School\", \"Office\", \"Others\"]].apply(\n",
    "    lambda x: x[1:] / sum(x[1:]) * x[0], axis=1\n",
    ").astype(np.int64)\n",
    "df.loc[df.index[6:10], \"Others\"] += 1\n",
    "df = df.drop([\"Days\", \"Types\"], axis=1)\n",
    "# Show dataset\n",
    "_out_df = df.copy()\n",
    "_out_df"
   ]
  },
  {
   "cell_type": "markdown",
   "metadata": {},
   "source": [
    "For each country, population pyramid data will be combined to the table. The columns with countriy names are the portion of the total population."
   ]
  },
  {
   "cell_type": "code",
   "execution_count": null,
   "metadata": {
    "_kg_hide-input": true,
    "execution": {
     "iopub.execute_input": "2021-07-31T14:14:14.738742Z",
     "iopub.status.busy": "2021-07-31T14:14:14.738417Z",
     "iopub.status.idle": "2021-07-31T14:14:47.596766Z",
     "shell.execute_reply": "2021-07-31T14:14:47.595969Z",
     "shell.execute_reply.started": "2021-07-31T14:14:14.738711Z"
    }
   },
   "outputs": [],
   "source": [
    "def go_out(country, pyramid_data=pyramid_data):\n",
    "    \"\"\"\n",
    "    Return the estimated number of days people usually go out.\n",
    "    Args:\n",
    "        country (str): coutry name\n",
    "        pyramid_data (covsirphy.PopulationPyramidData): pyramid dataset\n",
    "    \n",
    "    Returns:\n",
    "        pandas.DataFrame\n",
    "    \"\"\"\n",
    "    p_df = pyramid_data.subset(country)\n",
    "    p_df[\"Cumsum\"] = p_df[\"Population\"].cumsum()\n",
    "    df = pd.merge(_out_df, p_df, left_on=\"Age_last\", right_on=\"Age\", how=\"left\")\n",
    "    df[\"Population\"] = df[\"Cumsum\"].diff()\n",
    "    df.loc[df.index[0], \"Population\"] = df.loc[df.index[0], \"Cumsum\"]\n",
    "    df[\"Population\"] = df[\"Population\"].astype(np.int64)\n",
    "    df[\"Portion\"] = df[\"Population\"] / df[\"Population\"].sum()\n",
    "    return df.drop([\"Per_total\", \"Cumsum\"], axis=1)\n",
    "\n",
    "go_out(\"Italy\")"
   ]
  },
  {
   "cell_type": "markdown",
   "metadata": {},
   "source": [
    "### COVID-19 Prevention in Italy\n",
    "To understand why the parameters were changed in Italy, we will use this dataset in Italy scenario analysis."
   ]
  },
  {
   "cell_type": "code",
   "execution_count": null,
   "metadata": {
    "_kg_hide-input": true,
    "_kg_hide-output": true,
    "execution": {
     "iopub.execute_input": "2021-07-31T14:14:47.598669Z",
     "iopub.status.busy": "2021-07-31T14:14:47.598251Z",
     "iopub.status.idle": "2021-07-31T14:14:47.855519Z",
     "shell.execute_reply": "2021-07-31T14:14:47.854603Z",
     "shell.execute_reply.started": "2021-07-31T14:14:47.598619Z"
    }
   },
   "outputs": [],
   "source": [
    "ita_action_raw = pd.read_excel(\n",
    "    \"/kaggle/input/covid19-prevention-in-italy/Dataset_Italy_COVID_19.xlsx\",\n",
    "    sheet_name=\"Foglio1\"\n",
    ")\n",
    "ita_action_raw.head()"
   ]
  },
  {
   "cell_type": "code",
   "execution_count": null,
   "metadata": {
    "_kg_hide-input": true,
    "_kg_hide-output": true,
    "execution": {
     "iopub.execute_input": "2021-07-31T14:14:47.856988Z",
     "iopub.status.busy": "2021-07-31T14:14:47.856696Z",
     "iopub.status.idle": "2021-07-31T14:14:47.883295Z",
     "shell.execute_reply": "2021-07-31T14:14:47.882097Z",
     "shell.execute_reply.started": "2021-07-31T14:14:47.856962Z"
    }
   },
   "outputs": [],
   "source": [
    "df = ita_action_raw.copy()\n",
    "df = df.drop([\"Country\", \"Village\", \"link\"], axis=1)\n",
    "df.columns = [col.capitalize().replace(\" \", \"_\") for col in df.columns]\n",
    "df[\"Start_date\"] = pd.to_datetime(df[\"Start_date\"])\n",
    "df[\"End_date\"] = pd.to_datetime(df[\"End_date\"])\n",
    "df[\"Region\"] = df[\"Region\"].fillna(\"-\")\n",
    "df[\"Number_of_people\"] = df[\"Number_of_people\"].fillna(-1)\n",
    "ita_action_df = df.copy()\n",
    "ita_action_df.tail()"
   ]
  },
  {
   "cell_type": "markdown",
   "metadata": {},
   "source": [
    "## Visualize total data\n",
    "Visualize the total velue of the number of cases in all countries."
   ]
  },
  {
   "cell_type": "code",
   "execution_count": null,
   "metadata": {
    "execution": {
     "iopub.execute_input": "2021-07-31T14:14:47.885553Z",
     "iopub.status.busy": "2021-07-31T14:14:47.885147Z",
     "iopub.status.idle": "2021-07-31T14:14:47.895531Z",
     "shell.execute_reply": "2021-07-31T14:14:47.894504Z",
     "shell.execute_reply.started": "2021-07-31T14:14:47.885508Z"
    }
   },
   "outputs": [],
   "source": [
    "data_cols = [\"Infected\", \"Fatal\", \"Recovered\"]\n",
    "rate_cols = [\"Fatal per Confirmed\", \"Recovered per Confirmed\", \"Fatal per (Fatal or Recovered)\"]"
   ]
  },
  {
   "cell_type": "code",
   "execution_count": null,
   "metadata": {
    "execution": {
     "iopub.execute_input": "2021-07-31T14:14:47.897138Z",
     "iopub.status.busy": "2021-07-31T14:14:47.89682Z",
     "iopub.status.idle": "2021-07-31T14:14:48.51901Z",
     "shell.execute_reply": "2021-07-31T14:14:48.517974Z",
     "shell.execute_reply.started": "2021-07-31T14:14:47.89711Z"
    }
   },
   "outputs": [],
   "source": [
    "total_df = jhu_data.total()\n",
    "total_df = total_df.loc[total_df.index <= jhu_last_date, :]\n",
    "total_df.tail()"
   ]
  },
  {
   "cell_type": "code",
   "execution_count": null,
   "metadata": {
    "execution": {
     "iopub.execute_input": "2021-07-31T14:14:48.520618Z",
     "iopub.status.busy": "2021-07-31T14:14:48.520269Z",
     "iopub.status.idle": "2021-07-31T14:14:49.171137Z",
     "shell.execute_reply": "2021-07-31T14:14:49.170115Z",
     "shell.execute_reply.started": "2021-07-31T14:14:48.520573Z"
    }
   },
   "outputs": [],
   "source": [
    "cs.line_plot(total_df[data_cols], \"Total number of cases over time\")"
   ]
  },
  {
   "cell_type": "code",
   "execution_count": null,
   "metadata": {
    "execution": {
     "iopub.execute_input": "2021-07-31T14:14:49.172703Z",
     "iopub.status.busy": "2021-07-31T14:14:49.172393Z",
     "iopub.status.idle": "2021-07-31T14:14:49.50577Z",
     "shell.execute_reply": "2021-07-31T14:14:49.504699Z",
     "shell.execute_reply.started": "2021-07-31T14:14:49.172667Z"
    }
   },
   "outputs": [],
   "source": [
    "cs.line_plot(total_df[rate_cols], \"Global rate over time\", ylabel=\"\", math_scale=False)"
   ]
  },
  {
   "cell_type": "code",
   "execution_count": null,
   "metadata": {
    "execution": {
     "iopub.execute_input": "2021-07-31T14:14:49.507309Z",
     "iopub.status.busy": "2021-07-31T14:14:49.507029Z",
     "iopub.status.idle": "2021-07-31T14:14:49.860565Z",
     "shell.execute_reply": "2021-07-31T14:14:49.859686Z",
     "shell.execute_reply.started": "2021-07-31T14:14:49.507281Z"
    }
   },
   "outputs": [],
   "source": [
    "total_df[rate_cols].plot.kde()\n",
    "plt.title(\"Kernel density estimation of the rates\")\n",
    "plt.show()"
   ]
  },
  {
   "cell_type": "code",
   "execution_count": null,
   "metadata": {
    "execution": {
     "iopub.execute_input": "2021-07-31T14:14:49.862143Z",
     "iopub.status.busy": "2021-07-31T14:14:49.861822Z",
     "iopub.status.idle": "2021-07-31T14:14:49.89131Z",
     "shell.execute_reply": "2021-07-31T14:14:49.890228Z",
     "shell.execute_reply.started": "2021-07-31T14:14:49.862114Z"
    }
   },
   "outputs": [],
   "source": [
    "total_df[rate_cols].describe().T"
   ]
  },
  {
   "cell_type": "markdown",
   "metadata": {},
   "source": [
    "# Grouping by growth factor<a id=\"2\"></a>\n",
    "The number of confirmed cases is increasing in many countries, but there are two of countries. In a first-type country, growth factor is larger than 1 and the number of cases is rapidly increasing. In a second-type country, growth factor is less than 1."
   ]
  },
  {
   "cell_type": "markdown",
   "metadata": {},
   "source": [
    "## Calculate growth factor\n",
    "Where $C$ is the number of confirmed cases,  \n",
    "$$\\mathrm{Growth\\ Factor} = \\cfrac{\\Delta \\mathrm{C}_{n}}{\\Delta \\mathrm{C}_{n-1}}$$"
   ]
  },
  {
   "cell_type": "code",
   "execution_count": null,
   "metadata": {
    "_kg_hide-input": true,
    "_kg_hide-output": true,
    "execution": {
     "iopub.execute_input": "2021-07-31T14:14:49.896244Z",
     "iopub.status.busy": "2021-07-31T14:14:49.895919Z",
     "iopub.status.idle": "2021-07-31T14:14:54.11702Z",
     "shell.execute_reply": "2021-07-31T14:14:54.115966Z",
     "shell.execute_reply.started": "2021-07-31T14:14:49.896213Z"
    }
   },
   "outputs": [],
   "source": [
    "covid_df = jhu_data.cleaned()\n",
    "df = covid_df.pivot_table(\n",
    "    index=\"Date\", columns=\"Country\", values=\"Confirmed\", aggfunc=\"sum\"\n",
    ").fillna(method=\"ffill\").fillna(0)\n",
    "# Growth factor: (delta Number_n) / (delta Number_n)\n",
    "df = df.diff() / df.diff().shift(freq=\"D\")\n",
    "df = df.replace(np.inf, np.nan).fillna(1.0)\n",
    "# Rolling mean (window: 7 days)\n",
    "df = df.rolling(7).mean().dropna().loc[:covid_df[\"Date\"].max(), :]\n",
    "# round: 0.01\n",
    "growth_value_df = df.round(2)\n",
    "growth_value_df.tail()"
   ]
  },
  {
   "cell_type": "markdown",
   "metadata": {},
   "source": [
    "## Grouping countires based on growth factor\n",
    "* Outbreaking: growth factor $>$ 1 for the last 7 days\n",
    "* Stopping: growth factor $<$ 1 for the last 7 days\n",
    "* At a crossroad: the others"
   ]
  },
  {
   "cell_type": "code",
   "execution_count": null,
   "metadata": {
    "_kg_hide-input": true,
    "_kg_hide-output": true,
    "execution": {
     "iopub.execute_input": "2021-07-31T14:14:54.120055Z",
     "iopub.status.busy": "2021-07-31T14:14:54.119717Z",
     "iopub.status.idle": "2021-07-31T14:14:54.16637Z",
     "shell.execute_reply": "2021-07-31T14:14:54.165347Z",
     "shell.execute_reply.started": "2021-07-31T14:14:54.120025Z"
    }
   },
   "outputs": [],
   "source": [
    "df = growth_value_df.copy()\n",
    "df = df.iloc[-7:, :].T\n",
    "day_cols = df.columns.strftime(\"%d%b%Y\")\n",
    "df.columns = day_cols\n",
    "last_date = day_cols[-1]\n",
    "# Grouping\n",
    "more_col, less_col = \"GF > 1 [straight days]\", \"GF < 1 [straight days]\"\n",
    "df[more_col] = (growth_value_df > 1).iloc[::-1].cumprod().sum(axis=0)\n",
    "df[less_col] = (growth_value_df < 1).iloc[::-1].cumprod().sum(axis=0)\n",
    "df[\"Group\"] = df[[more_col, less_col]].apply(\n",
    "    lambda x: \"Outbreaking\" if x[0] >= 7 else \"Stopping\" if x[1] >= 7 else \"Crossroad\",\n",
    "    axis=1\n",
    ")\n",
    "# Sorting\n",
    "df = df.loc[:, [\"Group\", more_col, less_col, *day_cols]]\n",
    "df = df.sort_values([\"Group\", more_col, less_col], ascending=False)\n",
    "growth_df = df.copy()\n",
    "growth_df.head()"
   ]
  },
  {
   "cell_type": "code",
   "execution_count": null,
   "metadata": {
    "_kg_hide-input": true,
    "_kg_hide-output": true,
    "execution": {
     "iopub.execute_input": "2021-07-31T14:14:54.167918Z",
     "iopub.status.busy": "2021-07-31T14:14:54.167615Z",
     "iopub.status.idle": "2021-07-31T14:14:54.293552Z",
     "shell.execute_reply": "2021-07-31T14:14:54.292529Z",
     "shell.execute_reply.started": "2021-07-31T14:14:54.167891Z"
    }
   },
   "outputs": [],
   "source": [
    "df = pd.merge(covid_df, growth_df[\"Group\"].reset_index(), on=\"Country\")\n",
    "covid_df = df.loc[:, [\"Date\", \"Group\", *covid_df.columns[1:]]]\n",
    "covid_df.tail()"
   ]
  },
  {
   "cell_type": "markdown",
   "metadata": {},
   "source": [
    "## Group 1: Outbreaking, growth factor $>$ 1 for the last 7 days"
   ]
  },
  {
   "cell_type": "code",
   "execution_count": null,
   "metadata": {
    "_kg_hide-input": true,
    "_kg_hide-output": true,
    "execution": {
     "iopub.execute_input": "2021-07-31T14:14:54.296733Z",
     "iopub.status.busy": "2021-07-31T14:14:54.296434Z",
     "iopub.status.idle": "2021-07-31T14:14:54.3064Z",
     "shell.execute_reply": "2021-07-31T14:14:54.305746Z",
     "shell.execute_reply.started": "2021-07-31T14:14:54.296705Z"
    }
   },
   "outputs": [],
   "source": [
    "df = growth_df.loc[growth_df[\"Group\"] == \"Outbreaking\", :]\n",
    "\", \".join(df.index.tolist()) + \".\""
   ]
  },
  {
   "cell_type": "code",
   "execution_count": null,
   "metadata": {
    "_kg_hide-input": true,
    "_kg_hide-output": true,
    "execution": {
     "iopub.execute_input": "2021-07-31T14:14:54.307662Z",
     "iopub.status.busy": "2021-07-31T14:14:54.307326Z",
     "iopub.status.idle": "2021-07-31T14:14:54.335572Z",
     "shell.execute_reply": "2021-07-31T14:14:54.334619Z",
     "shell.execute_reply.started": "2021-07-31T14:14:54.30762Z"
    }
   },
   "outputs": [],
   "source": [
    "growth_df.loc[growth_df[\"Group\"] == \"Outbreaking\", :].head()"
   ]
  },
  {
   "cell_type": "code",
   "execution_count": null,
   "metadata": {
    "_kg_hide-input": true,
    "_kg_hide-output": true,
    "execution": {
     "iopub.execute_input": "2021-07-31T14:14:54.337154Z",
     "iopub.status.busy": "2021-07-31T14:14:54.33687Z",
     "iopub.status.idle": "2021-07-31T14:14:54.828236Z",
     "shell.execute_reply": "2021-07-31T14:14:54.827287Z",
     "shell.execute_reply.started": "2021-07-31T14:14:54.337126Z"
    }
   },
   "outputs": [],
   "source": [
    "df = covid_df.loc[covid_df[\"Group\"] == \"Outbreaking\", [\"Date\", *data_cols]]\n",
    "df = df.groupby(\"Date\").sum()\n",
    "df = df.iloc[:-1, :]\n",
    "if not df.empty:\n",
    "    cs.line_plot(df, \"Group 1 (Outbreaking): Cases over time\", y_integer=True)\n",
    "    df.tail()"
   ]
  },
  {
   "cell_type": "markdown",
   "metadata": {},
   "source": [
    "## Group 2: Stopping, growth factor $<$ 1 for the last 7 days"
   ]
  },
  {
   "cell_type": "code",
   "execution_count": null,
   "metadata": {
    "_kg_hide-input": true,
    "_kg_hide-output": true,
    "execution": {
     "iopub.execute_input": "2021-07-31T14:14:54.829786Z",
     "iopub.status.busy": "2021-07-31T14:14:54.829482Z",
     "iopub.status.idle": "2021-07-31T14:14:54.840372Z",
     "shell.execute_reply": "2021-07-31T14:14:54.8393Z",
     "shell.execute_reply.started": "2021-07-31T14:14:54.829758Z"
    }
   },
   "outputs": [],
   "source": [
    "df = growth_df.loc[growth_df[\"Group\"] == \"Stopping\", :]\n",
    "\", \".join(df.index.tolist()) + \".\""
   ]
  },
  {
   "cell_type": "code",
   "execution_count": null,
   "metadata": {
    "_kg_hide-input": true,
    "_kg_hide-output": true,
    "execution": {
     "iopub.execute_input": "2021-07-31T14:14:54.842867Z",
     "iopub.status.busy": "2021-07-31T14:14:54.842378Z",
     "iopub.status.idle": "2021-07-31T14:14:54.869171Z",
     "shell.execute_reply": "2021-07-31T14:14:54.868347Z",
     "shell.execute_reply.started": "2021-07-31T14:14:54.842822Z"
    }
   },
   "outputs": [],
   "source": [
    "growth_df.loc[growth_df[\"Group\"] == \"Stopping\", :].head()"
   ]
  },
  {
   "cell_type": "code",
   "execution_count": null,
   "metadata": {
    "_kg_hide-input": true,
    "_kg_hide-output": true,
    "execution": {
     "iopub.execute_input": "2021-07-31T14:14:54.870481Z",
     "iopub.status.busy": "2021-07-31T14:14:54.870187Z",
     "iopub.status.idle": "2021-07-31T14:14:55.402587Z",
     "shell.execute_reply": "2021-07-31T14:14:55.401616Z",
     "shell.execute_reply.started": "2021-07-31T14:14:54.87045Z"
    }
   },
   "outputs": [],
   "source": [
    "df = covid_df.loc[covid_df[\"Group\"] == \"Stopping\", [\"Date\", *data_cols]].groupby(\"Date\").sum()\n",
    "if not df.empty:\n",
    "    cs.line_plot(df, \"Group 2 (Stopping): Cases over time\", y_integer=True)\n",
    "    df.tail()"
   ]
  },
  {
   "cell_type": "markdown",
   "metadata": {},
   "source": [
    "## Group 3: At a crossroad, the others"
   ]
  },
  {
   "cell_type": "code",
   "execution_count": null,
   "metadata": {
    "_kg_hide-input": true,
    "_kg_hide-output": true,
    "execution": {
     "iopub.execute_input": "2021-07-31T14:14:55.404297Z",
     "iopub.status.busy": "2021-07-31T14:14:55.403987Z",
     "iopub.status.idle": "2021-07-31T14:14:55.41428Z",
     "shell.execute_reply": "2021-07-31T14:14:55.41307Z",
     "shell.execute_reply.started": "2021-07-31T14:14:55.404266Z"
    }
   },
   "outputs": [],
   "source": [
    "df = growth_df.loc[growth_df[\"Group\"] == \"Crossroad\", :]\n",
    "\", \".join(df.index.tolist()) + \".\""
   ]
  },
  {
   "cell_type": "code",
   "execution_count": null,
   "metadata": {
    "_kg_hide-input": true,
    "_kg_hide-output": true,
    "execution": {
     "iopub.execute_input": "2021-07-31T14:14:55.416035Z",
     "iopub.status.busy": "2021-07-31T14:14:55.415707Z",
     "iopub.status.idle": "2021-07-31T14:14:55.442333Z",
     "shell.execute_reply": "2021-07-31T14:14:55.441212Z",
     "shell.execute_reply.started": "2021-07-31T14:14:55.415987Z"
    }
   },
   "outputs": [],
   "source": [
    "growth_df.loc[growth_df[\"Group\"] == \"Crossroad\", :].head()"
   ]
  },
  {
   "cell_type": "code",
   "execution_count": null,
   "metadata": {
    "_kg_hide-input": true,
    "_kg_hide-output": true,
    "execution": {
     "iopub.execute_input": "2021-07-31T14:14:55.44409Z",
     "iopub.status.busy": "2021-07-31T14:14:55.443686Z",
     "iopub.status.idle": "2021-07-31T14:14:55.935331Z",
     "shell.execute_reply": "2021-07-31T14:14:55.934317Z",
     "shell.execute_reply.started": "2021-07-31T14:14:55.44405Z"
    }
   },
   "outputs": [],
   "source": [
    "df = covid_df.loc[covid_df[\"Group\"] == \"Crossroad\", [\"Date\", *data_cols]].groupby(\"Date\").sum()\n",
    "cs.line_plot(df, \"Group 3 (At a crossroad): Cases over time\", y_integer=True)\n",
    "df.tail()"
   ]
  },
  {
   "cell_type": "markdown",
   "metadata": {},
   "source": [
    "# SIR to SIR-F<a id=\"4\"></a>\n",
    "In this section, we will create a customized mathematical model derived from SIR model."
   ]
  },
  {
   "cell_type": "markdown",
   "metadata": {
    "_cell_guid": "cfcd204a-5677-479e-9362-94c15761a4ac",
    "_uuid": "df2ad5db-4dbb-4533-ba9e-d335befe57eb"
   },
   "source": [
    "## SIR model\n",
    "To understand the trend of infection, we will use mathematical epidemic model. Let's start discussion using the simplest model named SIR."
   ]
  },
  {
   "cell_type": "markdown",
   "metadata": {
    "_cell_guid": "0f8c4e04-c768-4933-b547-92588965dbea",
    "_uuid": "12135786-c9e9-49f9-a911-0bc18ee5f596"
   },
   "source": [
    "### What is SIR model?\n",
    "SIR model is a simple mathematical model to understand outbreak of infectious diseases.  \n",
    "[The SIR epidemic model - Learning Scientific Programming with Python](https://scipython.com/book/chapter-8-scipy/additional-examples/the-sir-epidemic-model/)\n",
    "\n",
    "* $\\mathrm{S}$: Susceptible (= Population - Confirmed)\n",
    "* $\\mathrm{I}$: Infected (=Confirmed - Recovered - Fatal)\n",
    "* $\\mathrm{R}$: Recovered or Fatal (= Recovered + Fatal)\n",
    " \n",
    "Note: THIS IS NOT THE GENERAL MODEL!  \n",
    "Though R in SIR model is \"Recovered and have immunity\", I defined \"R as Recovered or fatal\". This is because mortality rate cannot be ignored in the real COVID-19 data.\n",
    "\n",
    "Model:  \n",
    "\\begin{align*}\n",
    "\\mathrm{S} \\overset{\\beta I}{\\longrightarrow} \\mathrm{I} \\overset{\\gamma}{\\longrightarrow} \\mathrm{R}  \\\\\n",
    "\\end{align*}\n",
    "\n",
    "$\\beta$: Effective contact rate [1/min]  \n",
    "$\\gamma$: Recovery(+Mortality) rate [1/min]  \n",
    "\n",
    "Ordinary Differential Equation (ODE):  \n",
    "\\begin{align*}\n",
    "& \\frac{\\mathrm{d}S}{\\mathrm{d}T}= - N^{-1}\\beta S I  \\\\\n",
    "& \\frac{\\mathrm{d}I}{\\mathrm{d}T}= N^{-1}\\beta S I - \\gamma I  \\\\\n",
    "& \\frac{\\mathrm{d}R}{\\mathrm{d}T}= \\gamma I  \\\\\n",
    "\\end{align*}\n",
    "\n",
    "Where $N=S+I+R$ is the total population, $T$ is the elapsed time from the start date."
   ]
  },
  {
   "cell_type": "markdown",
   "metadata": {
    "_cell_guid": "58bc8d44-4df3-49fb-85c0-d01a804accc1",
    "_uuid": "769f133b-0a3a-4779-a15b-f199a2a3a411"
   },
   "source": [
    "### Non-dimensional SIR model\n",
    "To simplify the model, we will remove the units of the variables from ODE.\n",
    "\n",
    "Set $(S, I, R) = N \\times (x, y, z)$ and $(T, \\beta, \\gamma) = (\\tau t, \\tau^{-1} \\rho, \\tau^{-1} \\sigma)$.  \n",
    "\n",
    "This results in the ODE  \n",
    "\\begin{align*}\n",
    "& \\frac{\\mathrm{d}x}{\\mathrm{d}t}= - \\rho x y  \\\\\n",
    "& \\frac{\\mathrm{d}y}{\\mathrm{d}t}= \\rho x y - \\sigma y  \\\\\n",
    "& \\frac{\\mathrm{d}z}{\\mathrm{d}t}= \\sigma y  \\\\\n",
    "\\end{align*}\n",
    "\n",
    "Where $N$ is the total population and $\\tau$ is a coefficient ([min], is an integer to simplify).  \n",
    "\n",
    "The range of variables and parameters:  \n",
    "\\begin{align*}\n",
    "& 0 \\leq (x, y, z, \\rho, \\sigma) \\leq 1  \\\\\n",
    "\\end{align*}\n",
    "\\begin{align*}\n",
    "& 1\\leq \\tau \\leq 1440  \\\\\n",
    "\\end{align*}\n",
    "\n",
    "Basic reproduction number, Non-dimentional parameter, is defined as  \n",
    "\\begin{align*}\n",
    "R_0 = \\rho \\sigma^{-1} = \\beta \\gamma^{-1}\n",
    "\\end{align*}\n",
    "\n",
    "Estimated Mean Values of $R_0$:  \n",
    "$R_0$ (\"R naught\") means \"the average number of secondary infections caused by an infected host\" ([Infection Modeling — Part 1](https://towardsdatascience.com/infection-modeling-part-1-87e74645568a)).  \n",
    "(Secondary data: [Van den Driessche, P., & Watmough, J. (2002).](https://www.ncbi.nlm.nih.gov/pmc/articles/PMC6002118))  \n",
    "2.06: Zika in South America, 2015-2016  \n",
    "1.51: Ebola in Guinea, 2014  \n",
    "1.33: H1N1 influenza in South Africa, 2009  \n",
    "3.5 : SARS in 2002-2003  \n",
    "1.68: H2N2 influenza in US, 1957  \n",
    "3.8 : Fall wave of 1918 Spanish influenza in Genova  \n",
    "1.5 : Spring wave of 1918 Spanish influenza in Genova  \n",
    "\n",
    "When $x=\\frac{1}{R_0}$, $\\frac{\\mathrm{d}y}{\\mathrm{d}t}=0$.\n",
    "<!--This means that the max value of confirmed ($=y+z$) is $1-\\frac{1}{R_0}$.-->"
   ]
  },
  {
   "cell_type": "markdown",
   "metadata": {
    "_cell_guid": "ed7f7e66-b59e-48ec-a72b-a709c3ac9ba8",
    "_uuid": "e64fc4d7-785a-46e5-95e4-c0d98ab7406a"
   },
   "source": [
    "### Example of non-dimensional SIR model"
   ]
  },
  {
   "cell_type": "code",
   "execution_count": null,
   "metadata": {
    "execution": {
     "iopub.execute_input": "2021-07-31T14:14:55.937039Z",
     "iopub.status.busy": "2021-07-31T14:14:55.936734Z",
     "iopub.status.idle": "2021-07-31T14:14:55.95387Z",
     "shell.execute_reply": "2021-07-31T14:14:55.952885Z",
     "shell.execute_reply.started": "2021-07-31T14:14:55.937009Z"
    }
   },
   "outputs": [],
   "source": [
    "# Set tau value and start date of records\n",
    "# For explanation, the start date will be 01Jan2020\n",
    "# This is not based on actual data\n",
    "example_data = cs.ExampleData(tau=1440, start_date=\"01Jan2020\")\n",
    "# No records has been registered\n",
    "example_data.cleaned()"
   ]
  },
  {
   "cell_type": "code",
   "execution_count": null,
   "metadata": {
    "_kg_hide-input": true,
    "execution": {
     "iopub.execute_input": "2021-07-31T14:14:55.955515Z",
     "iopub.status.busy": "2021-07-31T14:14:55.955216Z",
     "iopub.status.idle": "2021-07-31T14:14:55.962923Z",
     "shell.execute_reply": "2021-07-31T14:14:55.961863Z",
     "shell.execute_reply.started": "2021-07-31T14:14:55.955486Z"
    }
   },
   "outputs": [],
   "source": [
    "# Model name\n",
    "print(cs.SIR.NAME)\n",
    "# Example parameter values\n",
    "pprint(cs.SIR.EXAMPLE, compact=True)"
   ]
  },
  {
   "cell_type": "code",
   "execution_count": null,
   "metadata": {
    "_cell_guid": "ee3ee9aa-4f12-4da7-b020-c2b957dfeee9",
    "_kg_hide-input": true,
    "_kg_hide-output": true,
    "_uuid": "121b3dd1-c224-4326-bede-80b33cebd9d1",
    "execution": {
     "iopub.execute_input": "2021-07-31T14:14:55.96683Z",
     "iopub.status.busy": "2021-07-31T14:14:55.966303Z",
     "iopub.status.idle": "2021-07-31T14:14:56.39707Z",
     "shell.execute_reply": "2021-07-31T14:14:56.395951Z",
     "shell.execute_reply.started": "2021-07-31T14:14:55.966666Z"
    },
    "scrolled": true
   },
   "outputs": [],
   "source": [
    "model = cs.SIR\n",
    "area = {\"country\": \"Full\", \"province\": model.NAME}\n",
    "# Add records with SIR model\n",
    "example_data.add(model, **area)\n",
    "# Records with model variables\n",
    "df = example_data.specialized(model, **area)\n",
    "cs.line_plot(\n",
    "    df.set_index(\"Date\"),\n",
    "    title=f\"Example data of {model.NAME} model\",\n",
    "    y_integer=True\n",
    ")"
   ]
  },
  {
   "cell_type": "markdown",
   "metadata": {},
   "source": [
    "There is an inflection point of y (the number of currentry infected cases per total population). At this point, value of x (the number of susceptible cases per total population) is nearly equal to $\\frac{1}{R_0}$."
   ]
  },
  {
   "cell_type": "code",
   "execution_count": null,
   "metadata": {
    "execution": {
     "iopub.execute_input": "2021-07-31T14:14:56.398921Z",
     "iopub.status.busy": "2021-07-31T14:14:56.398567Z",
     "iopub.status.idle": "2021-07-31T14:14:56.42995Z",
     "shell.execute_reply": "2021-07-31T14:14:56.428995Z",
     "shell.execute_reply.started": "2021-07-31T14:14:56.398889Z"
    }
   },
   "outputs": [],
   "source": [
    "eg_r0 = model(model.EXAMPLE[\"population\"], **model.EXAMPLE[\"param_dict\"]).calc_r0()\n",
    "df = example_data.specialized(model, **area)\n",
    "x_max = df.loc[df[\"Infected\"].idxmax(), \"Susceptible\"] / cs.SIR.EXAMPLE[\"population\"]\n",
    "(x_max, 1/eg_r0)"
   ]
  },
  {
   "cell_type": "markdown",
   "metadata": {
    "_cell_guid": "6ad03ba6-eaba-41ea-b816-17962a58bd54",
    "_uuid": "abc5f4a0-5674-4678-938b-79db83e4f4f5"
   },
   "source": [
    "## SIR-D model\n",
    "Because we are measuring the number of fatal cases and recovered cases separately, we can use two variables (\"Recovered\" and \"Deaths\") instead of \"Recovered + Deaths\" in the mathematical model."
   ]
  },
  {
   "cell_type": "markdown",
   "metadata": {
    "_cell_guid": "54813702-3d5a-4aeb-89dc-b7b5014fb9fb",
    "_uuid": "ac79b973-cdd3-4beb-825d-c29f987f6cd1"
   },
   "source": [
    "### What is SIR-D model?\n",
    "\n",
    "* $\\mathrm{S}$: Susceptible (= Population - Confirmed)\n",
    "* $\\mathrm{I}$: Infected (=Confirmed - Recovered - Fatal)\n",
    "* $\\mathrm{R}$: Recovered\n",
    "* $\\mathrm{D}$: Fatal\n",
    "\n",
    "Model:  \n",
    "\\begin{align*}\n",
    "\\mathrm{S} \\overset{\\beta  I}{\\longrightarrow}\\ & \\mathrm{I} \\overset{\\gamma}{\\longrightarrow} \\mathrm{R}  \\\\\n",
    "& \\mathrm{I} \\overset{\\alpha}{\\longrightarrow} \\mathrm{D}  \\\\\n",
    "\\end{align*}\n",
    "\n",
    "$\\alpha$: Mortality rate [1/min]  \n",
    "$\\beta$: Effective contact rate [1/min]  \n",
    "$\\gamma$: Recovery rate [1/min]  \n",
    "\n",
    "Ordinary Differential Equation (ODE):\n",
    "\\begin{align*}\n",
    "& \\frac{\\mathrm{d}S}{\\mathrm{d}T}= - N^{-1}\\beta S I  \\\\\n",
    "& \\frac{\\mathrm{d}I}{\\mathrm{d}T}= N^{-1}\\beta S I - (\\gamma + \\alpha) I  \\\\\n",
    "& \\frac{\\mathrm{d}R}{\\mathrm{d}T}= \\gamma I  \\\\\n",
    "& \\frac{\\mathrm{d}D}{\\mathrm{d}T}= \\alpha I  \\\\\n",
    "\\end{align*}\n",
    "\n",
    "Where $N=S+I+R+D$ is the total population, $T$ is the elapsed time from the start date."
   ]
  },
  {
   "cell_type": "markdown",
   "metadata": {
    "_cell_guid": "b3cbf5d5-c269-4695-8835-46ed417d9c48",
    "_uuid": "20008d93-6fef-4053-af91-aef177eed421"
   },
   "source": [
    "### Non-dimensional SIR-D model\n",
    "Set $(S, I, R, D) = N \\times (x, y, z, w)$ and $(T, \\alpha, \\beta, \\gamma) = (\\tau t, \\tau^{-1} \\kappa, \\tau^{-1} \\rho, \\tau^{-1} \\sigma)$.  \n",
    "This results in the ODE  \n",
    "\\begin{align*}\n",
    "& \\frac{\\mathrm{d}x}{\\mathrm{d}t}= - \\rho x y  \\\\\n",
    "& \\frac{\\mathrm{d}y}{\\mathrm{d}t}= \\rho x y - (\\sigma + \\kappa) y  \\\\\n",
    "& \\frac{\\mathrm{d}z}{\\mathrm{d}t}= \\sigma y  \\\\\n",
    "& \\frac{\\mathrm{d}w}{\\mathrm{d}t}= \\kappa y  \\\\\n",
    "\\end{align*}\n",
    "\n",
    "Where $N$ is the total population and $\\tau$ is a coefficient ([min], is an integer to simplify).  \n",
    "\n",
    "The range of variables and parameters:  \n",
    "\\begin{align*}\n",
    "& 0 \\leq (x, y, z, w, \\kappa, \\rho, \\sigma) \\leq 1  \\\\\n",
    "\\end{align*}\n",
    "\\begin{align*}\n",
    "& 1\\leq \\tau \\leq 1440  \\\\\n",
    "\\end{align*}\n",
    "\n",
    "Reproduction number can be defined as  \n",
    "\\begin{align*}\n",
    "R_0 = \\rho (\\sigma + \\kappa)^{-1} = \\beta (\\gamma + \\alpha)^{-1}\n",
    "\\end{align*}"
   ]
  },
  {
   "cell_type": "markdown",
   "metadata": {},
   "source": [
    "### Example of non-dimensional SIR-D model\n",
    "For example, set $R_0 = 2.5, \\kappa=0.005, \\rho=0.2$ and initial values $(x_{(0)}, y_{(0)}, z_{(0)}, w_{(0)}) = (0.999, 0.001, 0, 0)$."
   ]
  },
  {
   "cell_type": "code",
   "execution_count": null,
   "metadata": {
    "_kg_hide-input": true,
    "execution": {
     "iopub.execute_input": "2021-07-31T14:14:56.431688Z",
     "iopub.status.busy": "2021-07-31T14:14:56.431334Z",
     "iopub.status.idle": "2021-07-31T14:14:56.439447Z",
     "shell.execute_reply": "2021-07-31T14:14:56.436739Z",
     "shell.execute_reply.started": "2021-07-31T14:14:56.431648Z"
    }
   },
   "outputs": [],
   "source": [
    "# Model name\n",
    "print(cs.SIRD.NAME)\n",
    "# Example parameter values\n",
    "pprint(cs.SIRD.EXAMPLE, compact=True)"
   ]
  },
  {
   "cell_type": "code",
   "execution_count": null,
   "metadata": {
    "_kg_hide-input": true,
    "_kg_hide-output": true,
    "execution": {
     "iopub.execute_input": "2021-07-31T14:14:56.44096Z",
     "iopub.status.busy": "2021-07-31T14:14:56.440692Z",
     "iopub.status.idle": "2021-07-31T14:14:56.873529Z",
     "shell.execute_reply": "2021-07-31T14:14:56.872612Z",
     "shell.execute_reply.started": "2021-07-31T14:14:56.440934Z"
    },
    "scrolled": true
   },
   "outputs": [],
   "source": [
    "model = cs.SIRD\n",
    "area = {\"country\": \"Full\", \"province\": model.NAME}\n",
    "# Add records with SIR model\n",
    "example_data.add(model, **area)\n",
    "# Records with model variables\n",
    "df = example_data.specialized(model, **area)\n",
    "cs.line_plot(\n",
    "    df.set_index(\"Date\"),\n",
    "    title=f\"Example data of {model.NAME} model\",\n",
    "    y_integer=True\n",
    ")"
   ]
  },
  {
   "cell_type": "markdown",
   "metadata": {},
   "source": [
    "There is an inflection point of y (the number of currentry infected cases per total population). At this point, value of x (the number of susceptible cases per total population) is nearly equal to $\\frac{1}{R_0}$."
   ]
  },
  {
   "cell_type": "code",
   "execution_count": null,
   "metadata": {
    "_kg_hide-input": false,
    "execution": {
     "iopub.execute_input": "2021-07-31T14:14:56.875323Z",
     "iopub.status.busy": "2021-07-31T14:14:56.875015Z",
     "iopub.status.idle": "2021-07-31T14:14:56.904319Z",
     "shell.execute_reply": "2021-07-31T14:14:56.903215Z",
     "shell.execute_reply.started": "2021-07-31T14:14:56.875293Z"
    }
   },
   "outputs": [],
   "source": [
    "eg_r0 = model(model.EXAMPLE[\"population\"], **model.EXAMPLE[\"param_dict\"]).calc_r0()\n",
    "df = example_data.specialized(model, **area)\n",
    "x_max = df.loc[df[\"Infected\"].idxmax(), \"Susceptible\"] / cs.SIR.EXAMPLE[\"population\"]\n",
    "(x_max, 1/eg_r0)"
   ]
  },
  {
   "cell_type": "markdown",
   "metadata": {
    "_cell_guid": "c19b122a-84fb-4757-834e-bb72002cdfb3",
    "_uuid": "b17a61ed-d8da-43ba-b028-1949760dc0ca"
   },
   "source": [
    "## SIR-F model\n",
    "In the initial phase of COVID-19 outbreak, many cases were confirmed after they died. To consider this issue, \"S + I $\\to$ Fatal + I\" will be added to the model. When $\\alpha_{1}=0$, SIR-F model will be the same as SIR-D model."
   ]
  },
  {
   "cell_type": "markdown",
   "metadata": {
    "_cell_guid": "0a2eafd9-5355-4953-af46-025e6554fa59",
    "_uuid": "3f40d0e2-7fb1-4082-8308-e27d37efc943"
   },
   "source": [
    "### What is SIR-F model?\n",
    "\n",
    "* $\\mathrm{S}$: Susceptible (= Population - Confirmed)\n",
    "* $\\mathrm{S}^\\ast$: Confirmed and un-categorized\n",
    "* $\\mathrm{I}$: Confirmed and categorized as Infected\n",
    "* $\\mathrm{R}$: Confirmed and categorized as Recovered\n",
    "* $\\mathrm{F}$: Confirmed and categorzied as Fatal\n",
    "\n",
    "\n",
    "Measurable variables:  \n",
    "Confirmed = $I+R+F$  \n",
    "Recovered = $R$  \n",
    "Deaths = $F$  \n",
    "\n",
    "Model:  \n",
    "\\begin{align*}\n",
    "\\mathrm{S} \\overset{\\beta I}{\\longrightarrow} \\mathrm{S}^\\ast \\overset{\\alpha_1}{\\longrightarrow}\\ & \\mathrm{F}    \\\\\n",
    "\\mathrm{S}^\\ast \\overset{1 - \\alpha_1}{\\longrightarrow}\\ & \\mathrm{I} \\overset{\\gamma}{\\longrightarrow} \\mathrm{R}    \\\\\n",
    "& \\mathrm{I} \\overset{\\alpha_2}{\\longrightarrow} \\mathrm{F}    \\\\\n",
    "\\end{align*}\n",
    "\n",
    "$\\alpha_1$: Direct fatality probability of $\\mathrm{S}^\\ast$ (non-dimentional)   \n",
    "$\\alpha_2$: Mortality rate of Infected cases [1/min]  \n",
    "$\\beta$: Effective contact rate [1/min]  \n",
    "$\\gamma$: Recovery rate [1/min]  \n",
    "\n",
    "Note: When $\\alpha_1 = 0$, SIR-F model is the same as SIR-D model.\n",
    "\n",
    "Ordinary Differential Equation (ODE):   \n",
    "\\begin{align*}\n",
    "& \\frac{\\mathrm{d}S}{\\mathrm{d}T}= - N^{-1}\\beta S I  \\\\\n",
    "& \\frac{\\mathrm{d}I}{\\mathrm{d}T}= N^{-1}(1 - \\alpha_1) \\beta S I - (\\gamma + \\alpha_2) I  \\\\\n",
    "& \\frac{\\mathrm{d}R}{\\mathrm{d}T}= \\gamma I  \\\\\n",
    "& \\frac{\\mathrm{d}F}{\\mathrm{d}T}= N^{-1}\\alpha_1 \\beta S I + \\alpha_2 I  \\\\\n",
    "\\end{align*}\n",
    "\n",
    "Where $N=S+I+R+F$ is the total population, $T$ is the elapsed time from the start date."
   ]
  },
  {
   "cell_type": "markdown",
   "metadata": {},
   "source": [
    "Notes on $\\mathrm{S}^\\ast$ variable:  \n",
    "$\\mathrm{S}^\\ast$ describes the cases who are actually carriers of the disease without anyone (including themselves) knowing about it, who either die and they are confirmed positive after death, while some others are moved to infected after being confirmed.\n",
    "\n",
    "In JHU-style dataset, we know the number of cases who were confirmed with COVID-19, but we do not know the number of died cases who died without COVID-19.\n",
    "Essentially $\\mathrm{S}^\\ast$ serves as an auxiliary compartment in SIR-F model to separate the two death situations and insert a probability factor of {$\\alpha$, $1 - \\alpha$}."
   ]
  },
  {
   "cell_type": "markdown",
   "metadata": {},
   "source": [
    "Notes on the difference of SIR-D and SIR-F model:  \n",
    "$\\alpha_1$ is small at this time because performance of PCR tests was improved, but we can use SIR-F model rather than SIR-D model as an enhanced model even now becase $\\alpha_1$ can be 0 in the ODE model."
   ]
  },
  {
   "cell_type": "markdown",
   "metadata": {
    "_cell_guid": "fa88a43d-671a-4109-8d60-8b2cacebed68",
    "_uuid": "1a5a19e0-d71a-409b-902e-707d2afe8249"
   },
   "source": [
    "### Non-dimensional SIR-F model\n",
    "Set $(S, I, R, F) = N \\times (x, y, z, w)$ and $(T, \\alpha_1, \\alpha_2, \\beta, \\gamma) = (\\tau t, \\theta, \\tau^{-1} \\kappa, \\tau^{-1} \\rho, \\tau^{-1} \\sigma)$.  \n",
    "This results in the ODE  \n",
    "\\begin{align*}\n",
    "& \\frac{\\mathrm{d}x}{\\mathrm{d}t}= - \\rho x y  \\\\\n",
    "& \\frac{\\mathrm{d}y}{\\mathrm{d}t}= \\rho (1-\\theta) x y - (\\sigma + \\kappa) y  \\\\\n",
    "& \\frac{\\mathrm{d}z}{\\mathrm{d}t}= \\sigma y  \\\\\n",
    "& \\frac{\\mathrm{d}w}{\\mathrm{d}t}= \\rho \\theta x y + \\kappa y  \\\\\n",
    "\\end{align*}\n",
    "\n",
    "Where $N$ is the total population and $\\tau$ is a coefficient ([min], is an integer to simplify).  \n",
    "\n",
    "The range of variables and parameters:  \n",
    "\\begin{align*}\n",
    "& 0 \\leq (x, y, z, w, \\theta, \\kappa, \\rho, \\sigma) \\leq 1  \\\\\n",
    "\\end{align*}\n",
    "\\begin{align*}\n",
    "& 1\\leq \\tau \\leq 1440  \\\\\n",
    "\\end{align*}\n",
    "\n",
    "Reproduction number can be defined as  \n",
    "\\begin{align*}\n",
    "R_0 = \\rho (1 - \\theta) (\\sigma + \\kappa)^{-1} = \\beta (1 - \\alpha_1) (\\gamma + \\alpha_2)^{-1}\n",
    "\\end{align*}"
   ]
  },
  {
   "cell_type": "markdown",
   "metadata": {},
   "source": [
    "### Example of non-dimensional SIR-F model"
   ]
  },
  {
   "cell_type": "code",
   "execution_count": null,
   "metadata": {
    "_kg_hide-input": true,
    "execution": {
     "iopub.execute_input": "2021-07-31T14:14:56.905884Z",
     "iopub.status.busy": "2021-07-31T14:14:56.905541Z",
     "iopub.status.idle": "2021-07-31T14:14:56.913192Z",
     "shell.execute_reply": "2021-07-31T14:14:56.911233Z",
     "shell.execute_reply.started": "2021-07-31T14:14:56.905851Z"
    }
   },
   "outputs": [],
   "source": [
    "# Model name\n",
    "print(cs.SIRF.NAME)\n",
    "# Example parameter values\n",
    "pprint(cs.SIRF.EXAMPLE, compact=True)"
   ]
  },
  {
   "cell_type": "code",
   "execution_count": null,
   "metadata": {
    "_kg_hide-input": true,
    "_kg_hide-output": true,
    "execution": {
     "iopub.execute_input": "2021-07-31T14:14:56.914812Z",
     "iopub.status.busy": "2021-07-31T14:14:56.914455Z",
     "iopub.status.idle": "2021-07-31T14:14:57.342557Z",
     "shell.execute_reply": "2021-07-31T14:14:57.341825Z",
     "shell.execute_reply.started": "2021-07-31T14:14:56.914781Z"
    },
    "scrolled": true
   },
   "outputs": [],
   "source": [
    "model = cs.SIRF\n",
    "area = {\"country\": \"Full\", \"province\": model.NAME}\n",
    "# Add records with SIR model\n",
    "example_data.add(model, **area)\n",
    "# Records with model variables\n",
    "df = example_data.specialized(model, **area)\n",
    "cs.line_plot(\n",
    "    df.set_index(\"Date\"),\n",
    "    title=f\"Example data of {model.NAME} model\",\n",
    "    y_integer=True\n",
    ")"
   ]
  },
  {
   "cell_type": "markdown",
   "metadata": {},
   "source": [
    "There is an inflection point of y (the number of currentry infected cases per total population). At this point, value of x (the number of susceptible cases per total population) is nearly equal to $\\frac{1}{R_0}$."
   ]
  },
  {
   "cell_type": "code",
   "execution_count": null,
   "metadata": {
    "execution": {
     "iopub.execute_input": "2021-07-31T14:20:19.11828Z",
     "iopub.status.busy": "2021-07-31T14:20:19.117408Z",
     "iopub.status.idle": "2021-07-31T14:20:19.156973Z",
     "shell.execute_reply": "2021-07-31T14:20:19.156048Z",
     "shell.execute_reply.started": "2021-07-31T14:20:19.118228Z"
    }
   },
   "outputs": [],
   "source": [
    "eg_r0 = model(model.EXAMPLE[\"population\"], **model.EXAMPLE[\"param_dict\"]).calc_r0()\n",
    "df = example_data.specialized(model, **area)\n",
    "x_max = df.loc[df[\"Infected\"].idxmax(), \"Susceptible\"] / cs.SIR.EXAMPLE[\"population\"]\n",
    "(x_max, 1/eg_r0)"
   ]
  },
  {
   "cell_type": "markdown",
   "metadata": {
    "_cell_guid": "9ad0cd56-fc56-495c-8e4e-698931fd756f",
    "_uuid": "3312c5a7-3ce0-41f1-bc8b-67da61091c70"
   },
   "source": [
    "### Hyperparameter optimization\n",
    "In the previous paragraphs figures, we calculated the number of cases based on hypothesized parameter values. However, we do not know parameter values of the actual data. Here, we will estimate the ($\\theta, \\kappa, \\rho, \\sigma$) values of the example data using hyperparameter optimization method by Optuna package. $\\tau$ will be fixed as 1440 [min]."
   ]
  },
  {
   "cell_type": "code",
   "execution_count": null,
   "metadata": {
    "_cell_guid": "9e90ff6d-2612-4fa1-bc3d-0dae73843f44",
    "_kg_hide-input": true,
    "_uuid": "177c29e4-93fa-4fae-864a-77a952f818ad",
    "execution": {
     "iopub.execute_input": "2021-07-31T14:20:19.160727Z",
     "iopub.status.busy": "2021-07-31T14:20:19.160428Z",
     "iopub.status.idle": "2021-07-31T14:20:19.561585Z",
     "shell.execute_reply": "2021-07-31T14:20:19.560463Z",
     "shell.execute_reply.started": "2021-07-31T14:20:19.160698Z"
    }
   },
   "outputs": [],
   "source": [
    "# Show records in JHU-style\n",
    "sirf_snl = cs.Scenario(example_data, tau=1440, **area)\n",
    "_ = sirf_snl.records()"
   ]
  },
  {
   "cell_type": "code",
   "execution_count": null,
   "metadata": {
    "execution": {
     "iopub.execute_input": "2021-07-31T14:20:19.564244Z",
     "iopub.status.busy": "2021-07-31T14:20:19.563831Z",
     "iopub.status.idle": "2021-07-31T14:20:19.606249Z",
     "shell.execute_reply": "2021-07-31T14:20:19.605364Z",
     "shell.execute_reply.started": "2021-07-31T14:20:19.5642Z"
    }
   },
   "outputs": [],
   "source": [
    "# Set phases (phase: explained in \"S-R trend analysis section\")\n",
    "# Records at 01Jan2020 will be removed because Recovered = 0\n",
    "sirf_snl.clear(include_past=True)\n",
    "sirf_snl.add().summary()"
   ]
  },
  {
   "cell_type": "code",
   "execution_count": null,
   "metadata": {
    "execution": {
     "iopub.execute_input": "2021-07-31T14:20:19.608188Z",
     "iopub.status.busy": "2021-07-31T14:20:19.60791Z",
     "iopub.status.idle": "2021-07-31T14:20:32.370842Z",
     "shell.execute_reply": "2021-07-31T14:20:32.369831Z",
     "shell.execute_reply.started": "2021-07-31T14:20:19.608161Z"
    }
   },
   "outputs": [],
   "source": [
    "# Parameter estimation\n",
    "sirf_snl.estimate(cs.SIRF)"
   ]
  },
  {
   "cell_type": "markdown",
   "metadata": {},
   "source": [
    "Trajectorie of parameter values in hyperparameter estimation are shown here."
   ]
  },
  {
   "cell_type": "markdown",
   "metadata": {},
   "source": [
    "Estimated parameter values are shown here."
   ]
  },
  {
   "cell_type": "code",
   "execution_count": null,
   "metadata": {
    "_cell_guid": "13b5989d-1ea6-4dae-812e-e5b0ce735c5f",
    "_kg_hide-input": true,
    "_uuid": "375cb268-d100-4c5b-8f7a-fa3aeb9f319e",
    "execution": {
     "iopub.execute_input": "2021-07-31T14:20:32.372516Z",
     "iopub.status.busy": "2021-07-31T14:20:32.372222Z",
     "iopub.status.idle": "2021-07-31T14:20:32.436979Z",
     "shell.execute_reply": "2021-07-31T14:20:32.436002Z",
     "shell.execute_reply.started": "2021-07-31T14:20:32.372485Z"
    }
   },
   "outputs": [],
   "source": [
    "df = sirf_snl.summary()\n",
    "setting_model = cs.SIRF(population=cs.SIRF.EXAMPLE[\"population\"], **cs.SIRF.EXAMPLE[\"param_dict\"])\n",
    "setting_dict = {\n",
    "    \"Population\": cs.SIRF.EXAMPLE[\"population\"],\n",
    "    \"ODE\": cs.SIRF.NAME,\n",
    "    \"Rt\": setting_model.calc_r0(),\n",
    "    \"tau\": 1440,\n",
    "    **setting_model.calc_days_dict(1440),\n",
    "    **cs.SIRF.EXAMPLE[\"param_dict\"]\n",
    "}\n",
    "df = df.append(pd.Series(setting_dict, name=\"setting\"))\n",
    "df.fillna(\"-\")"
   ]
  },
  {
   "cell_type": "markdown",
   "metadata": {},
   "source": [
    "Note:  \n",
    "\"Score\" is Root Mean Squared Log Error (RMSLE) score.\n",
    "\\begin{align*}\n",
    "& \\sqrt{\\cfrac{1}{n}\\sum_{i=1}^{n}(log_{10}(A_{i} + 1) - log_{10}(P_{i} + 1))^2}\n",
    "\\end{align*}\n",
    "Where $A$ is observed (actual) values, $P$ is estimated (predicted) values. Variables are $S$ ($i=1$), $I$ ($i=2$), $R$ ($i=3$) and $F$ ($i=n=4$) for SIR-F model. When RMSLE score is low, hyperparameter estimation is highly accurate.  \n",
    "Please refer to [What’s the Difference Between RMSE and RMSLE?](https://medium.com/analytics-vidhya/root-mean-square-log-error-rmse-vs-rmlse-935c6cc1802a)"
   ]
  },
  {
   "cell_type": "markdown",
   "metadata": {},
   "source": [
    "Comparison of observed values and estimated values is shown here.\n",
    "\n",
    "Note:  \n",
    "This figures show the accuracy for each parameter. When \"v_observed\" and \"v_estimated\" (v=y, z, w) is overlapping, highly accurate."
   ]
  },
  {
   "cell_type": "code",
   "execution_count": null,
   "metadata": {
    "_cell_guid": "eb91e6c8-7df1-4c50-8765-05f5375f4099",
    "_uuid": "8a15a081-716a-4638-907a-60330536b1ef",
    "execution": {
     "iopub.execute_input": "2021-07-31T14:20:32.438498Z",
     "iopub.status.busy": "2021-07-31T14:20:32.438188Z",
     "iopub.status.idle": "2021-07-31T14:20:33.866462Z",
     "shell.execute_reply": "2021-07-31T14:20:33.865647Z",
     "shell.execute_reply.started": "2021-07-31T14:20:32.438466Z"
    }
   },
   "outputs": [],
   "source": [
    "sirf_snl.estimate_accuracy(\"0th\")"
   ]
  },
  {
   "cell_type": "markdown",
   "metadata": {},
   "source": [
    "# SIR-F with exposed/waiting cases<a id=\"5\"></a>\n",
    "The number of exposed cases in latent period (E) and wating cases for confirmation (W) are un-measurable variables, but key variables as well as S, I, R, F. If E and W are large, outbreak will occur in the near future. Let's replace S $\\overset{\\beta I}{\\longrightarrow}$ S$^\\ast$ with S $\\overset{\\beta_1 (W+I)}{\\longrightarrow}$ E $\\overset{\\beta_2}{\\longrightarrow}$ W $\\overset{\\beta_3}{\\longrightarrow}$ S$^\\ast$ because W also has infectivity.\n",
    "\n",
    "Note:  \n",
    "W and some rules were added to explain COVID-19 dataset, but this is like-SEIR model.  \n",
    "To study general SEIR-model, please refer to PDF material in [Introduction to SEIR model Models](http://indico.ictp.it/event/7960/session/3/contribution/19/material/slides/)."
   ]
  },
  {
   "cell_type": "markdown",
   "metadata": {},
   "source": [
    "## What is SEWIR-F model?\n",
    "\n",
    "* $\\mathrm{S}$: Susceptible\n",
    "* $\\mathrm{E}$: <u>Exposed and in latent period (without infectivity)</u>\n",
    "* $\\mathrm{W}$: <u>Waiting for confirmaion fiagnosis (with infectivity)</u>\n",
    "* $\\mathrm{S}^\\ast$: Confirmed and un-categorized\n",
    "* $\\mathrm{I}$: Confirmed and categorized as Infected\n",
    "* $\\mathrm{R}$: Confirmed and categorized as Recovered\n",
    "* $\\mathrm{F}$: Confirmed and categorzied as Fatal\n",
    "\n",
    "Measurable variables:  \n",
    "Total population - Confirmed = $S+E+W+S^\\ast$  \n",
    "Confirmed = $I+R+F$  \n",
    "Recovered = $R$  \n",
    "Deaths = $F$  \n",
    "\n",
    "Model:  \n",
    "\\begin{align*}\n",
    "\\mathrm{S} \\overset{\\beta_1 (W+I)}{\\longrightarrow} \\mathrm{E} \\overset{\\beta_2}{\\longrightarrow} \\mathrm{W} \\overset{\\beta_3}{\\longrightarrow} \\mathrm{S}^\\ast \\overset{\\alpha_1}{\\longrightarrow}\\ & \\mathrm{F}    \\\\\n",
    "\\mathrm{S}^\\ast \\overset{1 - \\alpha_1}{\\longrightarrow}\\ & \\mathrm{I} \\overset{\\gamma}{\\longrightarrow} \\mathrm{R}    \\\\\n",
    "& \\mathrm{I} \\overset{\\alpha_2}{\\longrightarrow} \\mathrm{F}    \\\\\n",
    "\\end{align*}\n",
    "\n",
    "* $\\alpha_1$: Mortality rate of $\\mathrm{S}^\\ast$ cases $\\mathrm{[1/min]}$\n",
    "* $\\alpha_2$: Mortality rate of Infected cases $\\mathrm{[1/min]}$\n",
    "* $\\beta_1$: <u>Exposure rate (the nymber of encounter with the virus in a minute)</u> $\\mathrm{[1/min]}$\n",
    "* $\\beta_2$: <u>Inverse of latent period</u> $\\mathrm{[1/min]}$\n",
    "* $\\beta_3$: <u>Inverse of waiting time for confirmation</u> $\\mathrm{[1/min]}$\n",
    "* $\\gamma$: Recovery rate $\\mathrm{[1/min]}$\n",
    "\n",
    "Ordinary Differential Equation (ODE):   \n",
    "\\begin{align*}\n",
    "& \\frac{\\mathrm{d}S}{\\mathrm{d}T}= - N^{-1}\\beta_1 S (W + I)  \\\\\n",
    "& \\frac{\\mathrm{d}E}{\\mathrm{d}T}= N^{-1}\\beta_1 S (W + I) - \\beta_2 E  \\\\\n",
    "& \\frac{\\mathrm{d}W}{\\mathrm{d}T}= \\beta_2 E - \\beta_3 W  \\\\\n",
    "& \\frac{\\mathrm{d}I}{\\mathrm{d}T}= (1 - \\alpha_1)\\beta_3 W - (\\gamma + \\alpha_2) I  \\\\\n",
    "& \\frac{\\mathrm{d}R}{\\mathrm{d}T}= \\gamma I  \\\\\n",
    "& \\frac{\\mathrm{d}F}{\\mathrm{d}T}= \\alpha_1 \\beta_3 W + \\alpha_2 I  \\\\\n",
    "\\end{align*}\n",
    "\n",
    "Where $N=S+E+W+I+R+F$ is the total population, $T$ is the elapsed time from the start date."
   ]
  },
  {
   "cell_type": "markdown",
   "metadata": {},
   "source": [
    "## Non-dimensional SEWIR-F model\n",
    "Set $(S, E, W, I, R, F) = N \\times (x_1, x_2, x_3, y, z, w)$, $(T, \\alpha_1) = (\\tau t, \\theta)$ and $(\\alpha_2, \\beta_i, \\gamma) = \\tau^{-1} \\times (\\kappa, \\rho_i, \\sigma)$.  \n",
    "This results in the ODE  \n",
    "\\begin{align*}\n",
    "& \\frac{\\mathrm{d}x_1}{\\mathrm{d}t}= - \\rho_1 x_1 (x_3 + y)  \\\\\n",
    "& \\frac{\\mathrm{d}x_2}{\\mathrm{d}t}= \\rho_1 x_1 (x_3 + y) - \\rho_2 x_2  \\\\\n",
    "& \\frac{\\mathrm{d}x_3}{\\mathrm{d}t}= \\rho_2 x_2 - \\rho_3 x_3  \\\\\n",
    "& \\frac{\\mathrm{d}y}{\\mathrm{d}t}= (1-\\theta) \\rho_3 x_3 - (\\sigma + \\kappa) y  \\\\\n",
    "& \\frac{\\mathrm{d}z}{\\mathrm{d}t}= \\sigma y  \\\\\n",
    "& \\frac{\\mathrm{d}w}{\\mathrm{d}t}= \\theta \\rho_3 x_3 + \\kappa y  \\\\\n",
    "\\end{align*}\n",
    "\n",
    "Where $N$ is the total population and $\\tau$ is a coefficient ([min], is an integer to simplify).  \n",
    "\n",
    "The range of variables and parameters:  \n",
    "\\begin{align*}\n",
    "0 < (x_i, y, z, w, \\theta, \\kappa, \\rho_i, \\sigma) < 1\\ \\mathrm{for}\\ i = 1, 2, 3\n",
    "\\end{align*}\n",
    "\\begin{align*}\n",
    "1 \\leq \\tau \\leq 1440\n",
    "\\end{align*}\n",
    "\n",
    "Reproduction number can be defined as  \n",
    "\\begin{align*}\n",
    "R_0 = \\rho_1 /\\rho_2 * \\rho_3 (1-\\theta) (\\sigma + \\kappa)^{-1}\n",
    "\\end{align*}"
   ]
  },
  {
   "cell_type": "markdown",
   "metadata": {},
   "source": [
    "## Calculate $\\rho_2$ and $\\rho_3$\n",
    "To estimate $\\rho_2 = \\tau \\beta_2$ and $\\rho_3 = \\tau \\beta_3$ of COVID-19, we first calculate median value of latent period $\\overline{L_{E}}$ and waiting time for confirmation $\\overline{L_{W}}$ using linelist. We assume that patients start to have infectivity from onset dates. This means latent period is equal to incubation period.\n",
    "\n",
    "$\\beta_2$: Inverse of latent period [1/min]  \n",
    "$\\beta_3$: Inverse of waiting time for confirmation [1/min]"
   ]
  },
  {
   "cell_type": "code",
   "execution_count": null,
   "metadata": {
    "execution": {
     "iopub.execute_input": "2021-07-31T14:20:33.868043Z",
     "iopub.status.busy": "2021-07-31T14:20:33.867614Z",
     "iopub.status.idle": "2021-07-31T14:20:33.87285Z",
     "shell.execute_reply": "2021-07-31T14:20:33.871648Z",
     "shell.execute_reply.started": "2021-07-31T14:20:33.868Z"
    }
   },
   "outputs": [],
   "source": [
    "latent_period = 6 * 24 * 60\n",
    "waiting_time = 7 * 24 * 60\n",
    "latent_waiting_day = latent_period + waiting_time"
   ]
  },
  {
   "cell_type": "code",
   "execution_count": null,
   "metadata": {
    "execution": {
     "iopub.execute_input": "2021-07-31T14:20:33.87622Z",
     "iopub.status.busy": "2021-07-31T14:20:33.875845Z",
     "iopub.status.idle": "2021-07-31T14:20:33.886264Z",
     "shell.execute_reply": "2021-07-31T14:20:33.885383Z",
     "shell.execute_reply.started": "2021-07-31T14:20:33.876124Z"
    }
   },
   "outputs": [],
   "source": [
    "df = cs.SIRF.EXAMPLE[\"param_dict\"]\n",
    "tau = 1440\n",
    "eg_rho2, eg_rho3 = tau / latent_period, tau / waiting_time\n",
    "(eg_rho2, eg_rho3)"
   ]
  },
  {
   "cell_type": "markdown",
   "metadata": {},
   "source": [
    "### Example of non-dimensional SEWIR-F model\n",
    "For example, set $\\theta=0.002, \\kappa=0.005, \\rho_1=0.2, \\sigma=0.08$ and initial values $(x_{1(0)}, x_{2(0)}, x_{3(0)}, y_{(0)}, z_{(0)}, w_{(0)}) = (0.994, 0.003, 0.002, 0.001, 0, 0)$."
   ]
  },
  {
   "cell_type": "code",
   "execution_count": null,
   "metadata": {
    "_kg_hide-input": true,
    "execution": {
     "iopub.execute_input": "2021-07-31T14:20:33.888325Z",
     "iopub.status.busy": "2021-07-31T14:20:33.888046Z",
     "iopub.status.idle": "2021-07-31T14:20:33.898192Z",
     "shell.execute_reply": "2021-07-31T14:20:33.897242Z",
     "shell.execute_reply.started": "2021-07-31T14:20:33.8883Z"
    }
   },
   "outputs": [],
   "source": [
    "param_dict = cs.SEWIRF.EXAMPLE[\"param_dict\"]\n",
    "param_dict.update({\"rho2\":eg_rho2, \"eho3\": eg_rho3})\n",
    "pprint(param_dict, compact=True)"
   ]
  },
  {
   "cell_type": "code",
   "execution_count": null,
   "metadata": {
    "_kg_hide-input": true,
    "_kg_hide-output": false,
    "execution": {
     "iopub.execute_input": "2021-07-31T14:20:33.899692Z",
     "iopub.status.busy": "2021-07-31T14:20:33.899379Z",
     "iopub.status.idle": "2021-07-31T14:20:34.310437Z",
     "shell.execute_reply": "2021-07-31T14:20:34.309449Z",
     "shell.execute_reply.started": "2021-07-31T14:20:33.899654Z"
    }
   },
   "outputs": [],
   "source": [
    "model = cs.SEWIRF\n",
    "area = {\"country\": \"Full\", \"province\": model.NAME}\n",
    "# Add records with SIR model\n",
    "example_data.add(model, param_dict=param_dict, **area)\n",
    "# Records with model variables\n",
    "df = example_data.specialized(model, **area)\n",
    "cs.line_plot(\n",
    "    df.set_index(\"Date\"),\n",
    "    title=f\"Example data of {model.NAME} model\",\n",
    "    y_integer=True\n",
    ")"
   ]
  },
  {
   "cell_type": "markdown",
   "metadata": {},
   "source": [
    "# Factors of model parameters<a id=\"6\"></a>\n",
    "To figure out what to do for minimizing the damage, we will perform scenario analysis in the next part. In this section, we will define the control factors of the SIR-F parameters.\n",
    "Here, we will use the following scenarios. For explanation, $\\tau=1440$, the start date is 01Jan2020, population is 1,000,000 and country name is “Theoretical”. **This is not based on actual data.**\n",
    "\n",
    "Comment:  \n",
    "For accurate SEWIR-F prediction, we need to calculate $\\rho_1$ and $\\rho_2$ with linelist (case reports) of each country. However, it is difficult to get enough data for all countries and we will use SIR-F model as the main model in scenario analysis part."
   ]
  },
  {
   "cell_type": "code",
   "execution_count": null,
   "metadata": {
    "execution": {
     "iopub.execute_input": "2021-07-31T14:21:20.409076Z",
     "iopub.status.busy": "2021-07-31T14:21:20.408608Z",
     "iopub.status.idle": "2021-07-31T14:21:20.415304Z",
     "shell.execute_reply": "2021-07-31T14:21:20.414318Z",
     "shell.execute_reply.started": "2021-07-31T14:21:20.409022Z"
    }
   },
   "outputs": [],
   "source": [
    "# Preset of SIR-F parameters\n",
    "preset_dict = cs.SIRF.EXAMPLE[\"param_dict\"]\n",
    "preset_dict"
   ]
  },
  {
   "cell_type": "code",
   "execution_count": null,
   "metadata": {
    "execution": {
     "iopub.execute_input": "2021-07-31T14:21:20.421993Z",
     "iopub.status.busy": "2021-07-31T14:21:20.421667Z",
     "iopub.status.idle": "2021-07-31T14:21:20.457269Z",
     "shell.execute_reply": "2021-07-31T14:21:20.456504Z",
     "shell.execute_reply.started": "2021-07-31T14:21:20.421966Z"
    }
   },
   "outputs": [],
   "source": [
    "area = {\"country\": \"Theoretical\"}\n",
    "# Create dataset from 01Jan2020 to 31Jan2020\n",
    "example_data.add(cs.SIRF, step_n=30, **area)"
   ]
  },
  {
   "cell_type": "code",
   "execution_count": null,
   "metadata": {
    "execution": {
     "iopub.execute_input": "2021-07-31T14:21:20.467836Z",
     "iopub.status.busy": "2021-07-31T14:21:20.467382Z",
     "iopub.status.idle": "2021-07-31T14:21:20.990282Z",
     "shell.execute_reply": "2021-07-31T14:21:20.989363Z",
     "shell.execute_reply.started": "2021-07-31T14:21:20.467806Z"
    }
   },
   "outputs": [],
   "source": [
    "# Show records with Scenario class\n",
    "snl = cs.Scenario(example_data, tau=1440, **area)\n",
    "record_df = snl.records()\n",
    "display(record_df.head())\n",
    "display(record_df.tail())"
   ]
  },
  {
   "cell_type": "markdown",
   "metadata": {},
   "source": [
    "## Control factors of effective contact rate $\\beta_1$\n",
    "Please reconsider S $\\overset{\\beta_1 (W+I)}{\\longrightarrow}$ E formula. Susceptible persons may contact with waiting/confirmed patients, and susceptible persons will be infected with COVID-19. The formura can be replaced with  \n",
    "\\begin{alignat}{1}\n",
    "{\\mathrm{S}}_{\\mathrm{q}} & \\overset{g_{s}}{\\Longleftrightarrow} {\\mathrm{S}}_{\\mathrm{g}} \\overset{f_1}\n",
    " {\\longrightarrow} \\ & \\mathrm{E}^\\ast \\overset{e^{-h_2}}{\\longrightarrow} \\mathrm{E}   \\\\\n",
    "& & \\mathrm{E}^\\ast \\overset{1-e^{-h_2}}{\\longrightarrow} \\mathrm{R}^\\ast  \\\\\n",
    "\\mathrm{W}_\\mathrm{q} & \\overset{g_w}{\\Longleftrightarrow} \\mathrm{W}_{\\mathrm{g}}  \\\\\n",
    "\\mathrm{I}_\\mathrm{q} & \\overset{g_i}{\\Longleftrightarrow} \\mathrm{I}_{\\mathrm{g}}  \\\\\n",
    "\\mathrm{I}_\\mathrm{q} & \\overset{q}{\\longrightarrow} \\mathrm{I}_{\\hat{\\mathrm{q}}}  \\\\\n",
    "\\end{alignat}"
   ]
  },
  {
   "cell_type": "markdown",
   "metadata": {},
   "source": [
    "$\\Longleftrightarrow$ (as substitute for $\\longrightarrow$ with $\\longleftarrow$) means that right side can be return to the left side.  \n",
    "S$_\\mathrm{q}$: Susceptible persons with self-quaranting <!--Susceptible in the strict sense-->  \n",
    "S$_\\mathrm{g}$: Susceptible persons with family members or friends etc.  \n",
    "W$_\\mathrm{q}$: Waiting patients with self-quaranting  \n",
    "W$_\\mathrm{g}$: Waiting patients with family members or friends etc.  \n",
    "I$_\\mathrm{q}$: Confimered and un-recovered patients with self-quaranting  \n",
    "I$_\\mathrm{g}$: Confimered and un-recovered patients with family members or friends etc.  \n",
    "I$_\\hat{\\mathrm{q}}$: Confimered and un-recovered patients who was hospitalized  \n",
    "E$^\\ast$: Just after being exposed to the virus  \n",
    "R$^\\ast$: Being exposed to the virus, fighted with the virus, recovered and immuned without confirmation  "
   ]
  },
  {
   "cell_type": "markdown",
   "metadata": {},
   "source": [
    "$f_1 = v(W_{\\mathrm{g}} + I_{\\mathrm{g}})(1-m)^2(1-w_e)^{w_n}e^{-h_1}c$ [-] "
   ]
  },
  {
   "cell_type": "markdown",
   "metadata": {},
   "source": [
    "Control factors:  \n",
    "$g_s$: The number of days in <u>a week</u> susceptible persons go out [day]  \n",
    "$g_w$: The number of days in <u>a week</u> waiting but un-quarantined persons go out [day]  \n",
    "$g_i$: The number of days in <u>a week</u> currently infected (confirmed) but un-quarantined persons go out [day]  \n",
    "$q$: Quarantine rate of currently infected (confirmed) patients [-]  \n",
    "$v$: Probability of virus existance in a droplet [-]  \n",
    "$m$: Rate of persons wearing masks effectively (depends logistically on supply of masks) [-]  \n",
    "$w_e$: Virus reduction effect of washing hands [-]  \n",
    "$w_n$: The number of times people washes their hands before touching their own faces after go out [-]  \n",
    "$h_1$: Health condition (active rate of cellular immunity factors) of susceptible and contacted persons [-]  \n",
    "$h_2$: Health condition (active rate of humoral immunity factors) of susceptible and contacted persons [-]  \n",
    "$c$: The number of contacts between susceptible persons and patients while on the go in a minute (depends on population density) [1/min]  \n",
    "$\\delta$:The product of unknown real factors [-]  \n",
    "\n",
    "The parameter in the math model:  \n",
    "$\\beta_1 = \\cfrac{1}{49}[g_s \\{g_w + g_i (1-q) \\} v (1-m)^2 (1-w_e)^{w_n} e^{-(h_{1}+h_{2})} c \\delta]$ [1/min]"
   ]
  },
  {
   "cell_type": "code",
   "execution_count": null,
   "metadata": {
    "execution": {
     "iopub.execute_input": "2021-07-31T14:21:20.99194Z",
     "iopub.status.busy": "2021-07-31T14:21:20.99167Z",
     "iopub.status.idle": "2021-07-31T14:21:20.998387Z",
     "shell.execute_reply": "2021-07-31T14:21:20.997261Z",
     "shell.execute_reply.started": "2021-07-31T14:21:20.991915Z"
    }
   },
   "outputs": [],
   "source": [
    "# Value of beta before actions are taken\n",
    "rho_before = cs.SIRF.EXAMPLE[\"param_dict\"][\"rho\"]\n",
    "rho_before"
   ]
  },
  {
   "cell_type": "markdown",
   "metadata": {},
   "source": [
    "**As a example, we will predict the impact of lockdown. The number of days in a week susceptible persons go out, $g_s$, will be minimized.**"
   ]
  },
  {
   "cell_type": "markdown",
   "metadata": {},
   "source": [
    "### $g_s$ value before actions are taken\n",
    "$g_s$: The number of days in <u>a week</u>, susceptible persons go out [day]  "
   ]
  },
  {
   "cell_type": "markdown",
   "metadata": {},
   "source": [
    "We can calculate weighted average of days with age composion of population. Population pyramid in Italy will be used as an example."
   ]
  },
  {
   "cell_type": "code",
   "execution_count": null,
   "metadata": {
    "execution": {
     "iopub.execute_input": "2021-07-31T14:21:21.000423Z",
     "iopub.status.busy": "2021-07-31T14:21:21.000145Z",
     "iopub.status.idle": "2021-07-31T14:21:21.054493Z",
     "shell.execute_reply": "2021-07-31T14:21:21.053504Z",
     "shell.execute_reply.started": "2021-07-31T14:21:21.000396Z"
    }
   },
   "outputs": [],
   "source": [
    "eg_out_df = go_out(\"Italy\")\n",
    "eg_out_df"
   ]
  },
  {
   "cell_type": "markdown",
   "metadata": {},
   "source": [
    "$g_s$ value is"
   ]
  },
  {
   "cell_type": "code",
   "execution_count": null,
   "metadata": {
    "execution": {
     "iopub.execute_input": "2021-07-31T14:21:21.056923Z",
     "iopub.status.busy": "2021-07-31T14:21:21.056484Z",
     "iopub.status.idle": "2021-07-31T14:21:21.06712Z",
     "shell.execute_reply": "2021-07-31T14:21:21.066106Z",
     "shell.execute_reply.started": "2021-07-31T14:21:21.056882Z"
    }
   },
   "outputs": [],
   "source": [
    "gs_before = (eg_out_df[[\"School\", \"Office\", \"Others\"]].sum(axis=1) * eg_out_df[\"Portion\"]).sum()\n",
    "gs_before"
   ]
  },
  {
   "cell_type": "markdown",
   "metadata": {},
   "source": [
    "### $g_s$ value AFTER actions are taken\n",
    "We will assume the following situation (lockdown) here.\n",
    "* All schools are closed\n",
    "* offices are closed and 50% of people works remotely.\n",
    "* People will go out one day for other reasons instead of going to school/office."
   ]
  },
  {
   "cell_type": "code",
   "execution_count": null,
   "metadata": {
    "execution": {
     "iopub.execute_input": "2021-07-31T14:21:21.069133Z",
     "iopub.status.busy": "2021-07-31T14:21:21.068744Z",
     "iopub.status.idle": "2021-07-31T14:21:21.096255Z",
     "shell.execute_reply": "2021-07-31T14:21:21.09525Z",
     "shell.execute_reply.started": "2021-07-31T14:21:21.069093Z"
    }
   },
   "outputs": [],
   "source": [
    "df = eg_out_df.copy()\n",
    "df.loc[df[\"School\"] + df[\"Office\"] > 0, \"Others\"] += 1\n",
    "df[\"School\"] = 0\n",
    "df[\"Office\"] *= 0.5\n",
    "eg_out_df_after = df.copy()\n",
    "eg_out_df_after"
   ]
  },
  {
   "cell_type": "code",
   "execution_count": null,
   "metadata": {
    "execution": {
     "iopub.execute_input": "2021-07-31T14:21:21.097855Z",
     "iopub.status.busy": "2021-07-31T14:21:21.097495Z",
     "iopub.status.idle": "2021-07-31T14:21:21.106886Z",
     "shell.execute_reply": "2021-07-31T14:21:21.106189Z",
     "shell.execute_reply.started": "2021-07-31T14:21:21.097824Z"
    }
   },
   "outputs": [],
   "source": [
    "df = eg_out_df_after.copy()\n",
    "gs_after = (df[[\"School\", \"Office\", \"Others\"]].sum(axis=1) * df[\"Portion\"]).sum()\n",
    "gs_after"
   ]
  },
  {
   "cell_type": "markdown",
   "metadata": {},
   "source": [
    "## Impact of actions on $\\beta$\n",
    "In SIR-F model $g_s$ is a control factor of $\\beta$.  \n",
    "Actions taken at 15th day:  \n",
    "All schools and offices will be closed.  "
   ]
  },
  {
   "cell_type": "code",
   "execution_count": null,
   "metadata": {
    "execution": {
     "iopub.execute_input": "2021-07-31T14:21:21.108102Z",
     "iopub.status.busy": "2021-07-31T14:21:21.107848Z",
     "iopub.status.idle": "2021-07-31T14:21:21.120392Z",
     "shell.execute_reply": "2021-07-31T14:21:21.119443Z",
     "shell.execute_reply.started": "2021-07-31T14:21:21.108077Z"
    }
   },
   "outputs": [],
   "source": [
    "rho_after = rho_before * (gs_after / gs_before)\n",
    "rho_after / rho_before"
   ]
  },
  {
   "cell_type": "markdown",
   "metadata": {},
   "source": [
    "## Predict the number of cases: with the effect of actions from 32th day\n",
    "There is a delay between the time point of starting actions and that of appearing the effect. Because $I$ is the main variable, the length of delay can be estimated as sum of latent period and waiting time for confirmation. This value [day] was calculated in \"SIR-F with exposed/waiting cases\" section."
   ]
  },
  {
   "cell_type": "code",
   "execution_count": null,
   "metadata": {
    "execution": {
     "iopub.execute_input": "2021-07-31T14:21:21.12326Z",
     "iopub.status.busy": "2021-07-31T14:21:21.122923Z",
     "iopub.status.idle": "2021-07-31T14:21:22.002608Z",
     "shell.execute_reply": "2021-07-31T14:21:22.00154Z",
     "shell.execute_reply.started": "2021-07-31T14:21:21.12323Z"
    }
   },
   "outputs": [],
   "source": [
    "# Set 0th phase from 02Jan2020 to 31Jan2020 with preset parameter values\n",
    "snl.clear(include_past=True)\n",
    "snl.add(end_date=\"31Jan2020\", model=cs.SIRF, **preset_dict)\n",
    "snl.summary()\n",
    "# Add main scenario: the same parameter to 31Dec2020\n",
    "snl.add(end_date=\"31Dec2020\", name=\"Main\")\n",
    "# Add lockdown scenario\n",
    "snl.clear(include_past=False, name=\"Lockdown\")\n",
    "snl.add(end_date=\"31Dec2020\", name=\"Lockdown\", rho=rho_after).summary()"
   ]
  },
  {
   "cell_type": "markdown",
   "metadata": {},
   "source": [
    "No actions:"
   ]
  },
  {
   "cell_type": "code",
   "execution_count": null,
   "metadata": {
    "_kg_hide-input": true,
    "execution": {
     "iopub.execute_input": "2021-07-31T14:21:22.004793Z",
     "iopub.status.busy": "2021-07-31T14:21:22.004441Z",
     "iopub.status.idle": "2021-07-31T14:21:22.567823Z",
     "shell.execute_reply": "2021-07-31T14:21:22.566667Z",
     "shell.execute_reply.started": "2021-07-31T14:21:22.004755Z"
    }
   },
   "outputs": [],
   "source": [
    "_ = snl.simulate(name=\"Main\")"
   ]
  },
  {
   "cell_type": "markdown",
   "metadata": {},
   "source": [
    "With lockdown:"
   ]
  },
  {
   "cell_type": "code",
   "execution_count": null,
   "metadata": {
    "_kg_hide-input": true,
    "execution": {
     "iopub.execute_input": "2021-07-31T14:21:22.571001Z",
     "iopub.status.busy": "2021-07-31T14:21:22.570441Z",
     "iopub.status.idle": "2021-07-31T14:21:23.117769Z",
     "shell.execute_reply": "2021-07-31T14:21:23.117047Z",
     "shell.execute_reply.started": "2021-07-31T14:21:22.570953Z"
    }
   },
   "outputs": [],
   "source": [
    "_ = snl.simulate(name=\"Lockdown\")"
   ]
  },
  {
   "cell_type": "code",
   "execution_count": null,
   "metadata": {
    "_kg_hide-input": true,
    "execution": {
     "iopub.execute_input": "2021-07-31T14:21:23.119364Z",
     "iopub.status.busy": "2021-07-31T14:21:23.118908Z",
     "iopub.status.idle": "2021-07-31T14:21:23.283389Z",
     "shell.execute_reply": "2021-07-31T14:21:23.282644Z",
     "shell.execute_reply.started": "2021-07-31T14:21:23.119316Z"
    }
   },
   "outputs": [],
   "source": [
    "snl.describe()"
   ]
  },
  {
   "cell_type": "markdown",
   "metadata": {},
   "source": [
    "The actions result in:  \n",
    "* reduction of max value of Infected,\n",
    "* delay of peak point (argmax) of Infected, and\n",
    "* extention of period with COVID-19."
   ]
  },
  {
   "cell_type": "markdown",
   "metadata": {},
   "source": [
    "## Control factors of recovery rate $\\gamma$ and mortality rate $\\alpha_2$\n",
    "Here, let's reconsider I $\\overset{\\gamma}{\\longrightarrow}$ R and I $\\overset{\\alpha_2}{\\longrightarrow}$ F.  \n",
    "Because balance of immunity (+effect of treatments) and virulence determines whether patients can recover or not, the formulas can be replaced with  \n",
    "\n",
    "\\begin{align*}\n",
    "& \\mathrm{I} \\overset{\\bar{h}}{\\longrightarrow} \\mathrm{I}^\\star \\overset{\\bar{s}}{\\longrightarrow} \\mathrm{F}^\\star \\overset{L^{-1}}{\\longrightarrow} \\mathrm{F}    \\\\\n",
    "& \\mathrm{I} \\overset{f_2}{\\longrightarrow} \\mathrm{R}^\\star \\overset{l^{-1}}{\\longrightarrow} \\mathrm{R}    \\\\\n",
    "\\end{align*}\n",
    "\n",
    "I$^\\star$: Confirmed cases whose immune systems did not overcome virus multiplication, and <u>without</u> severe events  \n",
    "F$^\\star$: Confirmed cases whose immune systems did not overcome virus multiplication, and <u>with</u> severe events  \n",
    "R$^\\star$: Confirmed cases whose immune systems overcame virus multiplication or comfirmed cases whose severe events can be stopped"
   ]
  },
  {
   "cell_type": "markdown",
   "metadata": {},
   "source": [
    "$f_2 = 1 - \\bar{h}\\ \\bar{s}$  \n",
    "\n",
    "$\\bar{h}$: Rate of I whose immune systems does NOT overcame virus multiplication [-]  \n",
    "$\\bar{s}$: Rate of I$^\\star$ who have severe events, including respiratory failure  [-]  \n",
    "$L_i$: Inverse of F$^\\star$'s mortality rate for people $i$ years old [min]  \n",
    "$l_i$: Inverse of R$^\\star$'s mortality rate for people $i$ years old [min]  \n",
    "$P_i$: The number of people $i$ years old [-]  \n",
    "$N$: Total population  \n",
    "\n",
    "\\begin{align*}\n",
    "& \\alpha_2 = \\cfrac{\\bar{h}\\ \\bar{s}}{N} \\sum_{n=0}^{\\infty}\\cfrac{P_{i}}{L_i} \\\\\n",
    "& \\gamma = \\cfrac{1 - \\bar{h}\\ \\bar{s}}{N} \\sum_{n=0}^{\\infty}\\cfrac{P_{i}}{l_i} \\\\\n",
    "\\end{align*}"
   ]
  },
  {
   "cell_type": "markdown",
   "metadata": {},
   "source": [
    "## $\\bar{h}$ and $\\bar{s}$ value before actions are taken\n",
    "We assume that $\\bar{h}=0.5$ and $\\bar{s}=0.5$.  \n",
    "**(Using population distribution data and case reports, $\\bar{h}\\ \\bar{s}$ and $1 - \\bar{h}\\ \\bar{s}$ can be calculated.)**"
   ]
  },
  {
   "cell_type": "code",
   "execution_count": null,
   "metadata": {
    "execution": {
     "iopub.execute_input": "2021-07-31T14:21:23.284925Z",
     "iopub.status.busy": "2021-07-31T14:21:23.284652Z",
     "iopub.status.idle": "2021-07-31T14:21:23.290903Z",
     "shell.execute_reply": "2021-07-31T14:21:23.289836Z",
     "shell.execute_reply.started": "2021-07-31T14:21:23.284899Z"
    }
   },
   "outputs": [],
   "source": [
    "sigma_before = preset_dict[\"sigma\"]\n",
    "kappa_before = preset_dict[\"kappa\"]\n",
    "(sigma_before, kappa_before)"
   ]
  },
  {
   "cell_type": "code",
   "execution_count": null,
   "metadata": {
    "execution": {
     "iopub.execute_input": "2021-07-31T14:21:23.292562Z",
     "iopub.status.busy": "2021-07-31T14:21:23.292255Z",
     "iopub.status.idle": "2021-07-31T14:21:23.304047Z",
     "shell.execute_reply": "2021-07-31T14:21:23.303236Z",
     "shell.execute_reply.started": "2021-07-31T14:21:23.292533Z"
    }
   },
   "outputs": [],
   "source": [
    "h_bar_before, s_bar_before = 0.5, 0.5"
   ]
  },
  {
   "cell_type": "markdown",
   "metadata": {},
   "source": [
    "## $\\bar{h}$ and $\\bar{s}$ value AFTER actions are taken\n",
    "Assumtions of new medicines:  \n",
    "\"Protease inhibitor\" inhibits virus multiplication. This will reduce $\\bar{h}$. We assume that $\\bar{h}$ will be 10% of $\\bar{h}_{before}$."
   ]
  },
  {
   "cell_type": "code",
   "execution_count": null,
   "metadata": {
    "execution": {
     "iopub.execute_input": "2021-07-31T14:21:23.305738Z",
     "iopub.status.busy": "2021-07-31T14:21:23.305216Z",
     "iopub.status.idle": "2021-07-31T14:21:23.318493Z",
     "shell.execute_reply": "2021-07-31T14:21:23.317548Z",
     "shell.execute_reply.started": "2021-07-31T14:21:23.305705Z"
    }
   },
   "outputs": [],
   "source": [
    "h_bar_after = h_bar_before * 0.1\n",
    "s_bar_after = s_bar_before\n",
    "(h_bar_after, s_bar_after)"
   ]
  },
  {
   "cell_type": "markdown",
   "metadata": {},
   "source": [
    "## Impact on $\\gamma$ and $\\alpha_2$\n",
    "Actions to take:  \n",
    "New Protein inhibitor medicine was introduced."
   ]
  },
  {
   "cell_type": "code",
   "execution_count": null,
   "metadata": {
    "execution": {
     "iopub.execute_input": "2021-07-31T14:21:23.321786Z",
     "iopub.status.busy": "2021-07-31T14:21:23.321367Z",
     "iopub.status.idle": "2021-07-31T14:21:23.329911Z",
     "shell.execute_reply": "2021-07-31T14:21:23.328987Z",
     "shell.execute_reply.started": "2021-07-31T14:21:23.321752Z"
    }
   },
   "outputs": [],
   "source": [
    "sigma_after = sigma_before * (1 - h_bar_after * s_bar_after) / (1 - h_bar_before * s_bar_before)\n",
    "sigma_after"
   ]
  },
  {
   "cell_type": "code",
   "execution_count": null,
   "metadata": {
    "execution": {
     "iopub.execute_input": "2021-07-31T14:21:23.331322Z",
     "iopub.status.busy": "2021-07-31T14:21:23.330903Z",
     "iopub.status.idle": "2021-07-31T14:21:23.343595Z",
     "shell.execute_reply": "2021-07-31T14:21:23.342724Z",
     "shell.execute_reply.started": "2021-07-31T14:21:23.331283Z"
    }
   },
   "outputs": [],
   "source": [
    "kappa_after = kappa_before * (h_bar_after * s_bar_after) / (h_bar_before * s_bar_before)\n",
    "kappa_after"
   ]
  },
  {
   "cell_type": "markdown",
   "metadata": {},
   "source": [
    "## Predict the number of case: with effect of new medicines from 32th day"
   ]
  },
  {
   "cell_type": "code",
   "execution_count": null,
   "metadata": {
    "_kg_hide-input": true,
    "execution": {
     "iopub.execute_input": "2021-07-31T14:21:23.345414Z",
     "iopub.status.busy": "2021-07-31T14:21:23.345Z",
     "iopub.status.idle": "2021-07-31T14:21:23.639037Z",
     "shell.execute_reply": "2021-07-31T14:21:23.638309Z",
     "shell.execute_reply.started": "2021-07-31T14:21:23.345369Z"
    }
   },
   "outputs": [],
   "source": [
    "# Add medicine scenario\n",
    "snl.clear(name=\"Medicine\")\n",
    "snl.add(end_date=\"31Dec2020\", name=\"Medicine\", kappa=kappa_after, sigma=sigma_after)\n",
    "snl.summary()"
   ]
  },
  {
   "cell_type": "markdown",
   "metadata": {},
   "source": [
    "No actions:"
   ]
  },
  {
   "cell_type": "code",
   "execution_count": null,
   "metadata": {
    "_kg_hide-input": true,
    "execution": {
     "iopub.execute_input": "2021-07-31T14:21:23.64057Z",
     "iopub.status.busy": "2021-07-31T14:21:23.640287Z",
     "iopub.status.idle": "2021-07-31T14:21:24.328068Z",
     "shell.execute_reply": "2021-07-31T14:21:24.326927Z",
     "shell.execute_reply.started": "2021-07-31T14:21:23.640544Z"
    }
   },
   "outputs": [],
   "source": [
    "_ = snl.simulate(name=\"Main\")"
   ]
  },
  {
   "cell_type": "markdown",
   "metadata": {},
   "source": [
    "With new medicines:"
   ]
  },
  {
   "cell_type": "code",
   "execution_count": null,
   "metadata": {
    "_kg_hide-input": true,
    "execution": {
     "iopub.execute_input": "2021-07-31T14:21:24.330266Z",
     "iopub.status.busy": "2021-07-31T14:21:24.329755Z",
     "iopub.status.idle": "2021-07-31T14:21:25.010619Z",
     "shell.execute_reply": "2021-07-31T14:21:25.009602Z",
     "shell.execute_reply.started": "2021-07-31T14:21:24.330221Z"
    }
   },
   "outputs": [],
   "source": [
    "_ = snl.simulate(name=\"Medicine\")"
   ]
  },
  {
   "cell_type": "code",
   "execution_count": null,
   "metadata": {
    "_kg_hide-input": true,
    "execution": {
     "iopub.execute_input": "2021-07-31T14:21:25.01219Z",
     "iopub.status.busy": "2021-07-31T14:21:25.011872Z",
     "iopub.status.idle": "2021-07-31T14:21:25.244216Z",
     "shell.execute_reply": "2021-07-31T14:21:25.243022Z",
     "shell.execute_reply.started": "2021-07-31T14:21:25.01216Z"
    }
   },
   "outputs": [],
   "source": [
    "snl.describe()"
   ]
  },
  {
   "cell_type": "markdown",
   "metadata": {},
   "source": [
    "New medicines result in:  \n",
    "* reduction of max value of Infected,\n",
    "* reduction of Fatal, and\n",
    "* shortened period with COVID-19."
   ]
  },
  {
   "cell_type": "markdown",
   "metadata": {},
   "source": [
    "## SIR-F model with vaccination\n",
    "In the previous version, we defined SIR-FV model as follows.\n",
    "\n",
    "\\begin{align*}\n",
    "& \\frac{\\mathrm{d}x}{\\mathrm{d}t}= - \\rho x y - \\omega  \\\\\n",
    "& \\frac{\\mathrm{d}y}{\\mathrm{d}t}= \\rho (1-\\theta) x y - (\\sigma + \\kappa) y  \\\\\n",
    "& \\frac{\\mathrm{d}z}{\\mathrm{d}t}= \\sigma y  \\\\\n",
    "& \\frac{\\mathrm{d}w}{\\mathrm{d}t}= \\rho \\theta x y + \\kappa y  \\\\\n",
    "\\end{align*}\n",
    "\n",
    "Where $\\omega_{(x>0)}=\\frac{\\mathrm{10,000}}{N}$ and $N$ is the total population when 10,000 persons will be vacctinated in one day until there are no susceptible people.\n",
    "\n",
    "However, <u>**SIR-FV model was removed because vaccinated persons may move to the other compartments. Please use SIR-F model and adjust parameter values of SIR-F model, considering the impact of vaccinations on infectivity, effectivity and safety.**</u>"
   ]
  },
  {
   "cell_type": "markdown",
   "metadata": {},
   "source": [
    "As an example, we assume that, in vaccinated world, <u>**rho is 80% of the main scenario**</u> (decreased because of infectivity was reduced), <u>**sigma is 120%**</u> (increased because severity rate was reduced) and <u>**kappa is 60%**</u> (increased because severity rate was reduced). Note that this is not based on actual data."
   ]
  },
  {
   "cell_type": "code",
   "execution_count": null,
   "metadata": {
    "_kg_hide-input": true,
    "execution": {
     "iopub.execute_input": "2021-07-31T14:21:25.246969Z",
     "iopub.status.busy": "2021-07-31T14:21:25.246665Z",
     "iopub.status.idle": "2021-07-31T14:21:25.633222Z",
     "shell.execute_reply": "2021-07-31T14:21:25.632442Z",
     "shell.execute_reply.started": "2021-07-31T14:21:25.246945Z"
    }
   },
   "outputs": [],
   "source": [
    "# Add vaccine scenario\n",
    "snl.clear(\"Vaccine\")\n",
    "rho_vac = snl.get(\"rho\", phase=\"0th\") * 0.8\n",
    "sigma_vac = snl.get(\"sigma\", phase=\"0th\") * 1.2\n",
    "kappa_vac = snl.get(\"kappa\", phase=\"0th\") * 0.6\n",
    "snl.add(end_date=\"31Dec2020\", name=\"Vaccine\",  rho=rho_vac, kappa=kappa_vac, sigma=sigma_vac)\n",
    "snl.summary()"
   ]
  },
  {
   "cell_type": "code",
   "execution_count": null,
   "metadata": {
    "execution": {
     "iopub.execute_input": "2021-07-31T14:21:25.635061Z",
     "iopub.status.busy": "2021-07-31T14:21:25.634525Z",
     "iopub.status.idle": "2021-07-31T14:21:26.246542Z",
     "shell.execute_reply": "2021-07-31T14:21:26.245491Z",
     "shell.execute_reply.started": "2021-07-31T14:21:25.635018Z"
    }
   },
   "outputs": [],
   "source": [
    "_ = snl.simulate(name=\"Vaccine\")"
   ]
  },
  {
   "cell_type": "code",
   "execution_count": null,
   "metadata": {
    "_kg_hide-input": true,
    "execution": {
     "iopub.execute_input": "2021-07-31T14:21:26.252951Z",
     "iopub.status.busy": "2021-07-31T14:21:26.252641Z",
     "iopub.status.idle": "2021-07-31T14:21:26.54416Z",
     "shell.execute_reply": "2021-07-31T14:21:26.543051Z",
     "shell.execute_reply.started": "2021-07-31T14:21:26.252923Z"
    }
   },
   "outputs": [],
   "source": [
    "snl.describe()"
   ]
  },
  {
   "cell_type": "markdown",
   "metadata": {},
   "source": [
    "Vaccines result in:  \n",
    "* reduction of max value of Infected,\n",
    "* reduction of Fatal, and\n",
    "* shortened period with COVID-19."
   ]
  },
  {
   "cell_type": "markdown",
   "metadata": {},
   "source": [
    "### Comparison of scenarios for each variables\n",
    "We can compare the number of cases in the scenarios, specifying variables as follows."
   ]
  },
  {
   "cell_type": "code",
   "execution_count": null,
   "metadata": {
    "execution": {
     "iopub.execute_input": "2021-07-31T14:21:26.548137Z",
     "iopub.status.busy": "2021-07-31T14:21:26.547698Z",
     "iopub.status.idle": "2021-07-31T14:21:27.304167Z",
     "shell.execute_reply": "2021-07-31T14:21:27.303239Z",
     "shell.execute_reply.started": "2021-07-31T14:21:26.548093Z"
    }
   },
   "outputs": [],
   "source": [
    "_ = snl.history(target=\"Infected\")"
   ]
  },
  {
   "cell_type": "code",
   "execution_count": null,
   "metadata": {
    "execution": {
     "iopub.execute_input": "2021-07-31T14:21:27.305827Z",
     "iopub.status.busy": "2021-07-31T14:21:27.305451Z",
     "iopub.status.idle": "2021-07-31T14:21:28.053259Z",
     "shell.execute_reply": "2021-07-31T14:21:28.052151Z",
     "shell.execute_reply.started": "2021-07-31T14:21:27.305796Z"
    }
   },
   "outputs": [],
   "source": [
    "_ = snl.history(target=\"Confirmed\")"
   ]
  },
  {
   "cell_type": "code",
   "execution_count": null,
   "metadata": {
    "execution": {
     "iopub.execute_input": "2021-07-31T14:21:28.055288Z",
     "iopub.status.busy": "2021-07-31T14:21:28.054922Z",
     "iopub.status.idle": "2021-07-31T14:21:28.840183Z",
     "shell.execute_reply": "2021-07-31T14:21:28.839217Z",
     "shell.execute_reply.started": "2021-07-31T14:21:28.055255Z"
    }
   },
   "outputs": [],
   "source": [
    "_ = snl.history(target=\"Recovered\")"
   ]
  },
  {
   "cell_type": "code",
   "execution_count": null,
   "metadata": {
    "execution": {
     "iopub.execute_input": "2021-07-31T14:21:28.841803Z",
     "iopub.status.busy": "2021-07-31T14:21:28.841469Z",
     "iopub.status.idle": "2021-07-31T14:21:29.675995Z",
     "shell.execute_reply": "2021-07-31T14:21:29.675041Z",
     "shell.execute_reply.started": "2021-07-31T14:21:28.841744Z"
    }
   },
   "outputs": [],
   "source": [
    "_ = snl.history(target=\"Fatal\")"
   ]
  },
  {
   "cell_type": "markdown",
   "metadata": {},
   "source": [
    "# S-R trend analysis<a id=\"10\"></a>\n",
    "In the previous section, we found that parameter values can be changed by actions. To predict the future, we need to recognize the parameter change from the actual records. Here, trend analysis method will be introduced."
   ]
  },
  {
   "cell_type": "markdown",
   "metadata": {},
   "source": [
    "## Example datasets\n",
    "With the same initial values $(x_{(0)}, y_{(0)}, z_{(0)}, w_{(0)})=(0.999, 0.001, 0, 0)$, we will create five SIR-F example datasets.\n",
    "* Example 1: $(\\theta, \\kappa, \\rho, \\sigma) = (0.0002, 0.005, 0.20, 0.075)$\n",
    "* Example 2: $(\\theta, \\kappa, \\rho, \\sigma) = (0.0002, 0.005, \\underline{0.40}, 0.075)$, spread quickly\n",
    "* Example 3: $(\\theta, \\kappa, \\rho, \\sigma) = (0.0002, 0.005, \\underline{0.15}, 0.075)$, spread slowly\n",
    "* Example 4: $(\\theta, \\kappa, \\rho, \\sigma) = (0.0002, \\underline{0.003}, 0.20, \\underline{0.150})$, improved heakthcare system\n",
    "* Example 5: $(\\theta, \\kappa, \\rho, \\sigma) = (\\underline{0.0000}, 0.005, 0.20, 0.075)$, as the same as SIR-D model\n",
    "\n",
    "Values are dimensionalized with total population $N=1,000,000$ in the example datasets."
   ]
  },
  {
   "cell_type": "code",
   "execution_count": null,
   "metadata": {
    "_kg_hide-input": true,
    "_kg_hide-output": true,
    "execution": {
     "iopub.execute_input": "2021-07-31T14:21:29.678466Z",
     "iopub.status.busy": "2021-07-31T14:21:29.67797Z",
     "iopub.status.idle": "2021-07-31T14:21:30.072558Z",
     "shell.execute_reply": "2021-07-31T14:21:30.071497Z",
     "shell.execute_reply.started": "2021-07-31T14:21:29.678421Z"
    }
   },
   "outputs": [],
   "source": [
    "import warnings\n",
    "warnings.simplefilter(\"ignore\")\n",
    "df = pd.DataFrame()\n",
    "eg_step_n = 200\n",
    "eg_tau= 1440\n",
    "eg_population = cs.SIR.EXAMPLE[\"population\"]\n",
    "eg_param_dict = {\n",
    "    \"1\": {\"theta\": 0.0002, \"kappa\": 0.005, \"rho\": 0.20, \"sigma\": 0.075},\n",
    "    \"2\": {\"theta\": 0.0002, \"kappa\": 0.005, \"rho\": 0.40, \"sigma\": 0.075},\n",
    "    \"3\": {\"theta\": 0.0002, \"kappa\": 0.005, \"rho\": 0.15, \"sigma\": 0.075},\n",
    "    \"4\": {\"theta\": 0.0002, \"kappa\": 0.003, \"rho\": 0.20, \"sigma\": 0.150},\n",
    "    \"5\": {\"theta\": 0.0000, \"kappa\": 0.005, \"rho\": 0.20, \"sigma\": 0.075},\n",
    "}\n",
    "\n",
    "for (num, _dict) in eg_param_dict.items():\n",
    "    simulator = cs.ODESimulator(country=f\"Example {num}\")\n",
    "    simulator.add(\n",
    "        model=cs.SIRF,\n",
    "        step_n=eg_step_n,\n",
    "        population=eg_population,\n",
    "        param_dict=_dict,\n",
    "        y0_dict={\"Susceptible\": 999_000, \"Infected\": 1000, \"Recovered\": 0, \"Fatal\": 0}\n",
    "    )\n",
    "    simulator.run()\n",
    "    _df = simulator.dim(tau=eg_tau, start_date=\"22Jan2020\")\n",
    "    df = pd.concat([df, _df], axis=0, ignore_index=True)\n",
    "\n",
    "df[\"Confirmed\"] = df[[\"Infected\", \"Recovered\", \"Fatal\"]].sum(axis=1)\n",
    "eg_ncov_df = df.copy()\n",
    "eg_ncov_df.tail()"
   ]
  },
  {
   "cell_type": "code",
   "execution_count": null,
   "metadata": {
    "_kg_hide-input": true,
    "execution": {
     "iopub.execute_input": "2021-07-31T14:21:30.074329Z",
     "iopub.status.busy": "2021-07-31T14:21:30.073939Z",
     "iopub.status.idle": "2021-07-31T14:21:30.602378Z",
     "shell.execute_reply": "2021-07-31T14:21:30.601344Z",
     "shell.execute_reply.started": "2021-07-31T14:21:30.074298Z"
    }
   },
   "outputs": [],
   "source": [
    "cs.line_plot(\n",
    "    eg_ncov_df.pivot_table(index=\"Date\", columns=\"Country\", values=\"Confirmed\"),\n",
    "    \"Example dataset: Confirmed cases over time\"\n",
    ")"
   ]
  },
  {
   "cell_type": "markdown",
   "metadata": {},
   "source": [
    "Values of Example 1 $(\\kappa=0.002)$ are nealy equal to that of Example 5 $(\\kappa=0.000)$ as shown in the next figure."
   ]
  },
  {
   "cell_type": "code",
   "execution_count": null,
   "metadata": {
    "_kg_hide-input": true,
    "execution": {
     "iopub.execute_input": "2021-07-31T14:21:30.603813Z",
     "iopub.status.busy": "2021-07-31T14:21:30.603525Z",
     "iopub.status.idle": "2021-07-31T14:21:30.789222Z",
     "shell.execute_reply": "2021-07-31T14:21:30.788221Z",
     "shell.execute_reply.started": "2021-07-31T14:21:30.603786Z"
    }
   },
   "outputs": [],
   "source": [
    "df = eg_ncov_df.pivot_table(index=\"Date\", columns=\"Country\", values=\"Confirmed\")\n",
    "df.plot.scatter(x=\"Example 1\", y=\"Example 5\")\n",
    "plt.plot(df[\"Example 1\"], df[\"Example 1\"], color=\"black\", linewidth=0.5)\n",
    "plt.xlim(0, None)\n",
    "plt.ylim(0, None)\n",
    "plt.title(\"Scatter plot of confirmed cases with y=x line\")\n",
    "plt.show()"
   ]
  },
  {
   "cell_type": "code",
   "execution_count": null,
   "metadata": {
    "_kg_hide-input": true,
    "execution": {
     "iopub.execute_input": "2021-07-31T14:21:30.790582Z",
     "iopub.status.busy": "2021-07-31T14:21:30.790328Z",
     "iopub.status.idle": "2021-07-31T14:21:31.309736Z",
     "shell.execute_reply": "2021-07-31T14:21:31.308745Z",
     "shell.execute_reply.started": "2021-07-31T14:21:30.790556Z"
    }
   },
   "outputs": [],
   "source": [
    "cs.line_plot(\n",
    "    eg_ncov_df.pivot_table(index=\"Date\", columns=\"Country\", values=\"Infected\"),\n",
    "    \"Example dataset: Infected cases over time\"\n",
    ")"
   ]
  },
  {
   "cell_type": "markdown",
   "metadata": {},
   "source": [
    "Note: This seems Gamma distribution curve.\n",
    "\\begin{align*}\n",
    "f(x>0) & = \\cfrac{\\lambda^{k}}{\\Gamma(k)} x^{k-1} e^{-\\lambda x}  \\\\\n",
    "\\Gamma(k) & = \\int_{0}^{\\infty} t^{k-1} e^{-t} dt\n",
    "\\end{align*}"
   ]
  },
  {
   "cell_type": "markdown",
   "metadata": {},
   "source": [
    "Curve fitting with Gamma distribution curve is done by Bill Holst. Please find the URLs in [\"Acknowledgement\" subsection](#3)."
   ]
  },
  {
   "cell_type": "markdown",
   "metadata": {},
   "source": [
    "## $\\Delta$Confirmed vs. Confirmed in log-log plot\n",
    "The numer of new confirmed cases $\\Delta C$ can be desribed as,\n",
    "\\begin{align*}\n",
    "\\Delta C=N^{-1}\\beta (N - C) I\n",
    "\\end{align*}\n",
    "This is because $C=I+R+F$ and $S=N-C$ in SIR-F model."
   ]
  },
  {
   "cell_type": "markdown",
   "metadata": {},
   "source": [
    "$t$ is a measurable variable, but this is just an intermediate variable. $\\Delta C$ is determined by cummurative number of cases."
   ]
  },
  {
   "cell_type": "markdown",
   "metadata": {},
   "source": [
    "In addition, $I$ is determined by $C$ when the parameters $(\\alpha_1, \\alpha_2, \\beta, \\gamma)$ are fixed.  \n",
    "Then,\n",
    "$$\\Delta C = f(C)$$"
   ]
  },
  {
   "cell_type": "markdown",
   "metadata": {},
   "source": [
    "Plots of $(x, y) = (C, \\Delta C)$ in log-log scale are shown in the next figure.  \n",
    "\n",
    "Note:  \n",
    "This idea is from [YouTube: How To Tell If We're Beating COVID-19](https://www.youtube.com/watch?v=54XLXg4fYsc). SIR-type models are not mentioned in this video, but we can link the idea with SIR-F model as above."
   ]
  },
  {
   "cell_type": "code",
   "execution_count": null,
   "metadata": {
    "_kg_hide-input": true,
    "execution": {
     "iopub.execute_input": "2021-07-31T14:21:31.311263Z",
     "iopub.status.busy": "2021-07-31T14:21:31.31097Z",
     "iopub.status.idle": "2021-07-31T14:21:32.049505Z",
     "shell.execute_reply": "2021-07-31T14:21:32.048433Z",
     "shell.execute_reply.started": "2021-07-31T14:21:31.311236Z"
    }
   },
   "outputs": [],
   "source": [
    "for country in eg_ncov_df[\"Country\"].unique():\n",
    "    df = eg_ncov_df.copy()\n",
    "    df = df.loc[df[\"Country\"] == country, :]\n",
    "    df = df.groupby(\"Date\").last()\n",
    "    plt.plot(df[\"Confirmed\"], df[\"Confirmed\"].diff(), label=country)\n",
    "\n",
    "plt.title(r\"Trajectory of $\\Delta$Confirmed against Confirmed in SIR-F model\")\n",
    "plt.xscale(\"log\")\n",
    "plt.yscale(\"log\")\n",
    "plt.xlabel(\"Confirmed\")\n",
    "plt.ylabel(r\"$\\Delta$Confirmed\")\n",
    "fmt = matplotlib.ticker.ScalarFormatter(useOffset=False)\n",
    "fmt.set_scientific(False)\n",
    "plt.gca().xaxis.set_major_formatter(fmt)\n",
    "plt.gca().yaxis.set_major_formatter(fmt)\n",
    "plt.legend(bbox_to_anchor=(1.02, 0), loc=\"lower left\", borderaxespad=0)\n",
    "plt.show()"
   ]
  },
  {
   "cell_type": "markdown",
   "metadata": {},
   "source": [
    "Nete: Because $C(t)$ is a cummurative number, $C(t+\\Delta t) \\geq C(t)$ for all $t$ and $\\Delta t > 0$."
   ]
  },
  {
   "cell_type": "markdown",
   "metadata": {},
   "source": [
    "## argmax($\\Delta C$) in $(x, y) = (t, C(t))$ plot\n",
    "What can we know from $(C, \\Delta C)$ plot? Here, we will discuss max value of $\\Delta C$."
   ]
  },
  {
   "cell_type": "markdown",
   "metadata": {},
   "source": [
    "When $\\Delta C$ shows max value of $\\Delta C$ in \"Example 5\" dataset (equal to SIR-D model), $t$ and $C(t)$ is"
   ]
  },
  {
   "cell_type": "code",
   "execution_count": null,
   "metadata": {
    "_kg_hide-input": true,
    "execution": {
     "iopub.execute_input": "2021-07-31T14:21:32.051559Z",
     "iopub.status.busy": "2021-07-31T14:21:32.051126Z",
     "iopub.status.idle": "2021-07-31T14:21:32.420269Z",
     "shell.execute_reply": "2021-07-31T14:21:32.419359Z",
     "shell.execute_reply.started": "2021-07-31T14:21:32.051516Z"
    }
   },
   "outputs": [],
   "source": [
    "country = \"Example 5\"\n",
    "df = eg_ncov_df.copy()\n",
    "df = df.loc[df[\"Country\"] == country, :].groupby(\"Date\").last()\n",
    "arg_tt = df[\"Confirmed\"].diff().idxmax()\n",
    "arg_cc = df.loc[arg_tt, \"Confirmed\"]\n",
    "# Plot\n",
    "df[\"Confirmed\"].plot()\n",
    "plt.axhline(y=arg_cc, color=\"black\", linestyle=\":\")\n",
    "plt.axvline(x=arg_tt, color=\"black\", linestyle=\":\")\n",
    "plt.ylabel(\"Confirmed\")\n",
    "plt.title(\n",
    "    r'{0}: $C({1})={2}$ when $\\Delta C$ shows max value'.format(\n",
    "        country, arg_tt.strftime(\"%d%b%Y\"), arg_cc)\n",
    ")\n",
    "fmt = matplotlib.ticker.ScalarFormatter(useOffset=False)\n",
    "fmt.set_scientific(False)\n",
    "plt.gca().yaxis.set_major_formatter(fmt)\n",
    "plt.show()"
   ]
  },
  {
   "cell_type": "markdown",
   "metadata": {},
   "source": [
    "## Curve fitting of $C(t)$\n",
    "$C(t)$ is sometimes described by logistic function and Gompertz function.\n",
    "\n",
    "\\begin{align*}\n",
    "\\mathrm{Logistic\\ function:\\ } g(t) & = \\cfrac{N}{1 + A e^{-Bt}}  \\\\\n",
    "\\mathrm{Gompertz\\ function:\\ } h(t) & = N e^{-A e^{-Bt}}\n",
    "\\end{align*}\n",
    "\n",
    "cf.)  \n",
    "These functions are used for prediction of the number of case in [Jia, Lin, et al., 2020](https://arxiv.org/ftp/arxiv/papers/2003/2003.05447.pdf).  "
   ]
  },
  {
   "cell_type": "markdown",
   "metadata": {},
   "source": [
    "$f(t)$ can be divided to to stages;\n",
    "* exponential growth function $(t \\leq \\mathrm{argmax}\\ \\Delta C(t))$ and\n",
    "* negative exponential function $(otherwise)$.\n",
    "\n",
    "With constant $(a, b, A, B, C)$,\n",
    "$$\n",
    "f(t) = \\left\\{\n",
    "\\begin{array}{ll}\n",
    "    a e^{bt} & (t \\leq \\mathrm{argmax}\\ \\Delta C(t)) \\\\\n",
    "    C - Ae^{-Bt} & (otherwise)\n",
    "\\end{array}\n",
    "\\right.\n",
    "$$"
   ]
  },
  {
   "cell_type": "code",
   "execution_count": null,
   "metadata": {
    "_kg_hide-input": true,
    "execution": {
     "iopub.execute_input": "2021-07-31T14:21:32.421912Z",
     "iopub.status.busy": "2021-07-31T14:21:32.421607Z",
     "iopub.status.idle": "2021-07-31T14:21:32.904193Z",
     "shell.execute_reply": "2021-07-31T14:21:32.903506Z",
     "shell.execute_reply.started": "2021-07-31T14:21:32.421885Z"
    }
   },
   "outputs": [],
   "source": [
    "country = \"Example 5\"\n",
    "df = eg_ncov_df.copy()\n",
    "df = df.loc[df[\"Country\"] == country, :].groupby(\"Date\").last()\n",
    "start_date = df.index.min()\n",
    "arg_tt = df[\"Confirmed\"].diff().idxmax()\n",
    "arg_dd = int((arg_tt - start_date).total_seconds() / 60 / 60 / 24)\n",
    "arg_cc = df.loc[arg_tt, \"Confirmed\"]\n",
    "# Convert date to elapsed time (day)\n",
    "df.index = ((df.index - start_date).total_seconds() / 60 / 60 / 24).astype(np.int64)\n",
    "# Curve fitting with exponential growth function\n",
    "f = lambda x, a, b: a * np.exp(b * x)\n",
    "series = df.loc[df.index <= arg_dd, \"Confirmed\"]\n",
    "a_ini = series[0]\n",
    "b_ini = np.log(arg_cc / a_ini) / arg_dd\n",
    "param, _ = sci.optimize.curve_fit(f, series.index, series, p0=[a_ini, b_ini])\n",
    "f_partial = functools.partial(f, a=param[0], b=param[1])\n",
    "df[\"Exponential_growth\"] = pd.Series(df.index).apply(lambda x: f_partial(x))\n",
    "# Curve fitting with negative exponential function\n",
    "f = lambda x, a, b, c: c - a * np.exp(- b * (x - arg_dd))\n",
    "series = df.loc[df.index >= arg_dd, \"Confirmed\"]\n",
    "c_ini = series.max()\n",
    "a_ini = c_ini - arg_cc\n",
    "b_ini = series.diff()[arg_dd + 1] / a_ini\n",
    "param, _ = sci.optimize.curve_fit(f, series.index, series, p0=[a_ini, b_ini, c_ini])\n",
    "f_partial = functools.partial(f, a=param[0], b=param[1], c=param[2])\n",
    "df[\"Negative_exponential\"] = pd.Series(df.index).apply(lambda x: f_partial(x))\n",
    "# Convert elapsed time (day) to date\n",
    "df.index = start_date + pd.Series(df.index).apply(lambda x: timedelta(days=x))\n",
    "# Plot\n",
    "df[[\"Exponential_growth\", \"Negative_exponential\"]].plot(color=[\"red\", \"green\"])\n",
    "df[\"Actual\"] = df[\"Confirmed\"]\n",
    "df[\"Actual\"].plot(color=\"blue\", marker=\".\", markeredgewidth=0, linewidth=0)\n",
    "plt.axhline(y=arg_cc, color=\"black\", linestyle=\":\")\n",
    "plt.axvline(x=arg_tt, color=\"black\", linestyle=\":\")\n",
    "plt.ylabel(\"Confirmed\")\n",
    "plt.ylim(0, max(df[\"Confirmed\"]) * 1.05)\n",
    "plt.title(r\"{0}: $(t, C(t))$ with exponential growth and negative exponential\".format(country))\n",
    "fmt = matplotlib.ticker.ScalarFormatter(useOffset=False)\n",
    "fmt.set_scientific(False)\n",
    "plt.gca().yaxis.set_major_formatter(fmt)\n",
    "plt.legend(bbox_to_anchor=(1.02, 0), loc=\"lower left\", borderaxespad=0)\n",
    "plt.show()"
   ]
  },
  {
   "cell_type": "markdown",
   "metadata": {},
   "source": [
    "However, errors were found for curve fitting when $t \\leq \\mathrm{argmax}\\ \\Delta C(t)$.  \n",
    "This is because\n",
    "$$\n",
    "\\cfrac{\\mathrm{d}C}{\\mathrm{d}T} = \\cfrac{\\beta}{N} S I\n",
    "$$\n",
    "$S \\simeq N: const.$ for $t \\leq \\mathrm{argmax}\\ \\Delta C(t)$, but $I$ is not proportinal to $C$ in SIR-like model.  \n",
    "\n",
    "This means we cannot convert the differencial equation to the following equations.\n",
    "\\begin{align*}\n",
    "\\frac{\\mathrm{d}x}{\\mathrm{d}t} & = B x \\\\\n",
    "\\mathrm{i.e.\\ } x(t) & = A e^{Bt}\n",
    "\\end{align*}"
   ]
  },
  {
   "cell_type": "markdown",
   "metadata": {},
   "source": [
    "## S-R plane\n",
    "Here, we will discuss the replationship of Susceptible and Recovered."
   ]
  },
  {
   "cell_type": "markdown",
   "metadata": {},
   "source": [
    "In SIR-F model,\n",
    "\\begin{align*}\n",
    "\\frac{\\mathrm{d}S}{\\mathrm{d}T} &= - \\cfrac{\\beta}{N} S I  \\\\\n",
    "\\frac{\\mathrm{d}R}{\\mathrm{d}T} &= \\gamma I  \\\\\n",
    "I &> 0 \\\\\n",
    "S & \\simeq N \\ \\mathrm{when}\\ R = 0\\\\\n",
    "\\end{align*}"
   ]
  },
  {
   "cell_type": "markdown",
   "metadata": {},
   "source": [
    "Then,\n",
    "\\begin{align*}\n",
    "\\cfrac{\\mathrm{d}S}{\\mathrm{d}R} &= - \\cfrac{\\beta}{N \\gamma} S  \\\\\n",
    "\\end{align*}"
   ]
  },
  {
   "cell_type": "markdown",
   "metadata": {},
   "source": [
    "This leads to"
   ]
  },
  {
   "cell_type": "code",
   "execution_count": null,
   "metadata": {
    "_kg_hide-input": true,
    "execution": {
     "iopub.execute_input": "2021-07-31T14:21:32.905718Z",
     "iopub.status.busy": "2021-07-31T14:21:32.905273Z",
     "iopub.status.idle": "2021-07-31T14:21:34.095012Z",
     "shell.execute_reply": "2021-07-31T14:21:34.094007Z",
     "shell.execute_reply.started": "2021-07-31T14:21:32.905682Z"
    }
   },
   "outputs": [],
   "source": [
    "S = sym.symbols(\"S\", cls=sym.Function)\n",
    "N, R = sym.symbols(\"N R\", positive=True)\n",
    "beta, gamma = sym.symbols(r\"\\beta \\gamma\", positive=True)\n",
    "dSdR = - beta / (N * gamma) * S(R)\n",
    "sr = sym.dsolve(S(R).diff(R) - dSdR, hint=\"separable\", ics={S(0): N})\n",
    "sr"
   ]
  },
  {
   "cell_type": "markdown",
   "metadata": {},
   "source": [
    "Note:  \n",
    "This idea is from [Balkew, Teshome Mogessie, \"The SIR Model When S(t) is a Multi-Exponential Function.\" (2010).Electronic Theses and Dissertations.Paper 1747.](https://dc.etsu.edu/cgi/viewcontent.cgi?article=3102&context=etd) This is for simplest SIR model, but we can apply it to SIR-F model."
   ]
  },
  {
   "cell_type": "code",
   "execution_count": null,
   "metadata": {
    "_kg_hide-input": true,
    "execution": {
     "iopub.execute_input": "2021-07-31T14:21:34.097012Z",
     "iopub.status.busy": "2021-07-31T14:21:34.096537Z",
     "iopub.status.idle": "2021-07-31T14:21:34.142082Z",
     "shell.execute_reply": "2021-07-31T14:21:34.141184Z",
     "shell.execute_reply.started": "2021-07-31T14:21:34.096967Z"
    }
   },
   "outputs": [],
   "source": [
    "sym.Eq(sym.simplify(sym.log(sr.lhs)), sym.simplify(sym.log(sr.rhs)))"
   ]
  },
  {
   "cell_type": "markdown",
   "metadata": {},
   "source": [
    "With constant $a=\\frac{\\beta}{N\\gamma}$ and constant $b=\\log N$,\n",
    "$$\n",
    "\\log S_{(R)} = - a R + b\n",
    "$$"
   ]
  },
  {
   "cell_type": "code",
   "execution_count": null,
   "metadata": {
    "_kg_hide-input": true,
    "execution": {
     "iopub.execute_input": "2021-07-31T14:21:34.14404Z",
     "iopub.status.busy": "2021-07-31T14:21:34.143589Z",
     "iopub.status.idle": "2021-07-31T14:21:34.528602Z",
     "shell.execute_reply": "2021-07-31T14:21:34.527681Z",
     "shell.execute_reply.started": "2021-07-31T14:21:34.143997Z"
    }
   },
   "outputs": [],
   "source": [
    "for country in eg_ncov_df[\"Country\"].unique():\n",
    "    df = eg_ncov_df.copy()\n",
    "    df = df.loc[df[\"Country\"] == country, :]\n",
    "    df = df.groupby(\"Date\").last()\n",
    "    plt.plot(df[\"Recovered\"], eg_population - df[\"Confirmed\"], label=country)\n",
    "\n",
    "plt.title(r\"Trajectory of Susceptible against Recovered in SIR-F model\")\n",
    "plt.yscale(\"log\")\n",
    "plt.xlabel(\"Recovered\")\n",
    "plt.ylabel(\"Susceptible\")\n",
    "fmt = matplotlib.ticker.ScalarFormatter(useOffset=False)\n",
    "fmt.set_scientific(False)\n",
    "plt.gca().xaxis.set_major_formatter(fmt)\n",
    "plt.gca().yaxis.set_major_formatter(fmt)\n",
    "plt.legend(bbox_to_anchor=(1.02, 0), loc=\"lower left\", borderaxespad=0)\n",
    "plt.show()"
   ]
  },
  {
   "cell_type": "markdown",
   "metadata": {},
   "source": [
    "Nete: Because $R(t)$ is a cummurative number, $R(t+\\Delta t) \\geq R(t)$ for all $t$ and $\\Delta t > 0$."
   ]
  },
  {
   "cell_type": "markdown",
   "metadata": {},
   "source": [
    "**Thus, slope of $\\log S_{(R)}$ will be changed when SIR-F parameters are changed. We need to split the actual data, considering the change points of S-R line in log-scale. This logic will be used for actual data in scenario analysis section.**"
   ]
  },
  {
   "cell_type": "markdown",
   "metadata": {},
   "source": [
    "## S-R trend of actual data in one country\n",
    "We will perform S-R trend analysis for actual data in Italy as an example."
   ]
  },
  {
   "cell_type": "markdown",
   "metadata": {},
   "source": [
    "Let's see the plot of S-R trend."
   ]
  },
  {
   "cell_type": "code",
   "execution_count": null,
   "metadata": {
    "execution": {
     "iopub.execute_input": "2021-07-31T14:22:29.224093Z",
     "iopub.status.busy": "2021-07-31T14:22:29.223706Z",
     "iopub.status.idle": "2021-07-31T14:22:39.266597Z",
     "shell.execute_reply": "2021-07-31T14:22:39.265634Z",
     "shell.execute_reply.started": "2021-07-31T14:22:29.224063Z"
    }
   },
   "outputs": [],
   "source": [
    "ita_scenario = cs.Scenario(country=\"Italy\")\n",
    "ita_scenario.register(jhu_data)\n",
    "_ = ita_scenario.trend()"
   ]
  },
  {
   "cell_type": "markdown",
   "metadata": {},
   "source": [
    "Plots of Actual data do not show a line. This means SIR-F parameters were changed at some time-points. In the next section, we will find the time-points, assuming that there are four change points in Italy dataset."
   ]
  },
  {
   "cell_type": "markdown",
   "metadata": {},
   "source": [
    "# Scenario in Italy<a id=\"7\"></a>\n",
    "In this section, we will perform scenario analysis using the records of Italy."
   ]
  },
  {
   "cell_type": "code",
   "execution_count": null,
   "metadata": {
    "execution": {
     "iopub.execute_input": "2021-07-31T14:22:39.268262Z",
     "iopub.status.busy": "2021-07-31T14:22:39.267975Z",
     "iopub.status.idle": "2021-07-31T14:22:39.630391Z",
     "shell.execute_reply": "2021-07-31T14:22:39.629462Z",
     "shell.execute_reply.started": "2021-07-31T14:22:39.268233Z"
    }
   },
   "outputs": [],
   "source": [
    "# ita_scenario = cs.Scenario(country=\"Italy\")\n",
    "# ita_scenario.register(jhu_data, population_data)\n",
    "ita_scenario.records().tail()"
   ]
  },
  {
   "cell_type": "markdown",
   "metadata": {},
   "source": [
    "## S-R Trend analysis"
   ]
  },
  {
   "cell_type": "code",
   "execution_count": null,
   "metadata": {
    "execution": {
     "iopub.execute_input": "2021-07-31T14:22:39.632387Z",
     "iopub.status.busy": "2021-07-31T14:22:39.632099Z",
     "iopub.status.idle": "2021-07-31T14:22:41.390843Z",
     "shell.execute_reply": "2021-07-31T14:22:41.389705Z",
     "shell.execute_reply.started": "2021-07-31T14:22:39.63236Z"
    }
   },
   "outputs": [],
   "source": [
    "_ = ita_scenario.trend()"
   ]
  },
  {
   "cell_type": "markdown",
   "metadata": {},
   "source": [
    "## Phases in Italy\n",
    "We will use the change points as the start date of phases. For each phase, will apply SIR-F model. $\\tau$ values will be the same value."
   ]
  },
  {
   "cell_type": "code",
   "execution_count": null,
   "metadata": {
    "execution": {
     "iopub.execute_input": "2021-07-31T14:22:41.393765Z",
     "iopub.status.busy": "2021-07-31T14:22:41.393313Z",
     "iopub.status.idle": "2021-07-31T14:22:41.437714Z",
     "shell.execute_reply": "2021-07-31T14:22:41.436771Z",
     "shell.execute_reply.started": "2021-07-31T14:22:41.393721Z"
    }
   },
   "outputs": [],
   "source": [
    "ita_scenario.summary()"
   ]
  },
  {
   "cell_type": "markdown",
   "metadata": {},
   "source": [
    "## Estimate SIR-F parameters"
   ]
  },
  {
   "cell_type": "code",
   "execution_count": null,
   "metadata": {
    "execution": {
     "iopub.execute_input": "2021-07-31T14:22:41.439477Z",
     "iopub.status.busy": "2021-07-31T14:22:41.439083Z",
     "iopub.status.idle": "2021-07-31T14:24:04.390577Z",
     "shell.execute_reply": "2021-07-31T14:24:04.389322Z",
     "shell.execute_reply.started": "2021-07-31T14:22:41.439445Z"
    }
   },
   "outputs": [],
   "source": [
    "ita_scenario.estimate(cs.SIRF, timeout=120)"
   ]
  },
  {
   "cell_type": "markdown",
   "metadata": {},
   "source": [
    "### Compare parameters"
   ]
  },
  {
   "cell_type": "code",
   "execution_count": null,
   "metadata": {
    "execution": {
     "iopub.execute_input": "2021-07-31T14:24:04.392369Z",
     "iopub.status.busy": "2021-07-31T14:24:04.392072Z",
     "iopub.status.idle": "2021-07-31T14:24:04.476311Z",
     "shell.execute_reply": "2021-07-31T14:24:04.475208Z",
     "shell.execute_reply.started": "2021-07-31T14:24:04.392339Z"
    }
   },
   "outputs": [],
   "source": [
    "ita_scenario.summary()"
   ]
  },
  {
   "cell_type": "code",
   "execution_count": null,
   "metadata": {
    "execution": {
     "iopub.execute_input": "2021-07-31T14:24:04.477928Z",
     "iopub.status.busy": "2021-07-31T14:24:04.477582Z",
     "iopub.status.idle": "2021-07-31T14:24:05.266618Z",
     "shell.execute_reply": "2021-07-31T14:24:05.265463Z",
     "shell.execute_reply.started": "2021-07-31T14:24:04.477896Z"
    }
   },
   "outputs": [],
   "source": [
    "_ = ita_scenario.history_rate()"
   ]
  },
  {
   "cell_type": "markdown",
   "metadata": {},
   "source": [
    "**Non-dimensional effective contact rate $\\rho$ was reduced in phases.**"
   ]
  },
  {
   "cell_type": "markdown",
   "metadata": {},
   "source": [
    "## Why $\\rho$ was reduced?"
   ]
  },
  {
   "cell_type": "markdown",
   "metadata": {},
   "source": [
    "Measures taken in Italy are shown here."
   ]
  },
  {
   "cell_type": "code",
   "execution_count": null,
   "metadata": {
    "_kg_hide-input": true,
    "execution": {
     "iopub.execute_input": "2021-07-31T14:24:05.269672Z",
     "iopub.status.busy": "2021-07-31T14:24:05.269369Z",
     "iopub.status.idle": "2021-07-31T14:24:05.322685Z",
     "shell.execute_reply": "2021-07-31T14:24:05.321944Z",
     "shell.execute_reply.started": "2021-07-31T14:24:05.269642Z"
    }
   },
   "outputs": [],
   "source": [
    "def _color(data_df):\n",
    "    df = data_df.copy()\n",
    "    df.loc[:, :] = str()\n",
    "    df.iloc[[3, 6, 8], :] = \"background-color: lightgreen\"\n",
    "    return df\n",
    "\n",
    "ita_action_df.style.apply(_color, axis=None)"
   ]
  },
  {
   "cell_type": "markdown",
   "metadata": {},
   "source": [
    "**It seems that (quaranitine of person contacted with positive patients), school closure and lockdown reduced $\\rho$ value.**"
   ]
  },
  {
   "cell_type": "markdown",
   "metadata": {},
   "source": [
    "## Effect of school closure and lockdown\n",
    "\n",
    "Acording to first report of [COVID-19 Mobility Monitoring project](https://covid19mm.github.io/in-progress/2020/03/13/first-report-assessment.html) on 13Mar2020, the government of Italy declared a national lockdown on 09Mar2020 and all peole are asked to remain home. This resulted in average reduction of potential encounters of 19% during week 3 (from 07Mar2020 to 10Mar2020)."
   ]
  },
  {
   "cell_type": "markdown",
   "metadata": {},
   "source": [
    "**Here, we will predict the effect of school closure (started before 04Mar2020), lockdown on 13Mar2020 with assumtion that the effect will be shown from the start date of 3rd phase.**"
   ]
  },
  {
   "cell_type": "code",
   "execution_count": null,
   "metadata": {
    "execution": {
     "iopub.execute_input": "2021-07-31T14:24:05.324654Z",
     "iopub.status.busy": "2021-07-31T14:24:05.324226Z",
     "iopub.status.idle": "2021-07-31T14:24:05.3588Z",
     "shell.execute_reply": "2021-07-31T14:24:05.357839Z",
     "shell.execute_reply.started": "2021-07-31T14:24:05.32461Z"
    }
   },
   "outputs": [],
   "source": [
    "ita_scenario.get(\"Start\", name=\"Main\", phase=\"3rd\")"
   ]
  },
  {
   "cell_type": "markdown",
   "metadata": {},
   "source": [
    "### Real factors of $\\beta_1$\n",
    "\n",
    "The parameter in the math model:  \n",
    "\\begin{align*}\n",
    "\\rho_1 & = \\tau \\beta_1  \\\\  \n",
    "\\beta_1 & = \\cfrac{1}{49}[g_s \\{g_w + g_i (1-q) \\} v (1-m)^2 (1-w_e)^{w_n} e^{-(h_{1}+h_{2})} c \\delta]  \\\\\n",
    "\\end{align*}\n",
    "\n",
    "Control factors:  \n",
    "$g_s$: **The number of days in <u>a week</u> susceptible persons go out [day]**  \n",
    "$g_w$: The number of days in <u>a week</u> waiting but un-quarantined persons go out [day]  \n",
    "$g_i$: The number of days in <u>a week</u> currently infected (confirmed) but un-quarantined persons go out [day]  \n",
    "$q$: Quarantine rate of currently infected (confirmed) patients [-]  \n",
    "$v$: Probability of virus existance in a droplet [-]  \n",
    "$m$: Rate of persons wearing masks effectively (depends logistically on supply of masks) [-]  \n",
    "$w_e$: Virus reduction effect of washing hands [-]  \n",
    "$w_n$: The number of times people washes their hands before touching their own faces after go out [-]  \n",
    "$h_1$: Health condition (active rate of cellular immunity factors) of susceptible and contacted persons [-]  \n",
    "$h_2$: Health condition (active rate of humoral immunity factors) of susceptible and contacted persons [-]  \n",
    "$c$: **The number of contacts between susceptible persons and patients while on the go in a minute (depends on population density) [1/min]**  \n",
    "$\\delta$:The product of unknown real factors [-]  "
   ]
  },
  {
   "cell_type": "markdown",
   "metadata": {},
   "source": [
    "### Value of control factors of $\\beta_1$ before/after the national lockdown\n",
    "A national lockdown will effect on $g_s$ and $c$."
   ]
  },
  {
   "cell_type": "markdown",
   "metadata": {},
   "source": [
    "Acccoring the report, we assume average reduction of potential encounters ($c$[-]) of 19%."
   ]
  },
  {
   "cell_type": "code",
   "execution_count": null,
   "metadata": {
    "execution": {
     "iopub.execute_input": "2021-07-31T14:24:05.36089Z",
     "iopub.status.busy": "2021-07-31T14:24:05.360434Z",
     "iopub.status.idle": "2021-07-31T14:24:05.36668Z",
     "shell.execute_reply": "2021-07-31T14:24:05.365291Z",
     "shell.execute_reply.started": "2021-07-31T14:24:05.360842Z"
    }
   },
   "outputs": [],
   "source": [
    "c_before, c_after = 1.0, 0.81"
   ]
  },
  {
   "cell_type": "markdown",
   "metadata": {},
   "source": [
    "### $g_s$ before the lockdown\n",
    "We will estimate average number peple go out using @marcoferrante estimation table and population pyramid data.\n",
    "It is necessary to replace the population pyramid data for Italy because the situation is different from the average data."
   ]
  },
  {
   "cell_type": "code",
   "execution_count": null,
   "metadata": {
    "execution": {
     "iopub.execute_input": "2021-07-31T14:24:05.369474Z",
     "iopub.status.busy": "2021-07-31T14:24:05.368798Z",
     "iopub.status.idle": "2021-07-31T14:24:05.426498Z",
     "shell.execute_reply": "2021-07-31T14:24:05.425572Z",
     "shell.execute_reply.started": "2021-07-31T14:24:05.369424Z"
    }
   },
   "outputs": [],
   "source": [
    "ita_out_df = go_out(\"Italy\")\n",
    "ita_out_df"
   ]
  },
  {
   "cell_type": "code",
   "execution_count": null,
   "metadata": {
    "execution": {
     "iopub.execute_input": "2021-07-31T14:24:05.428063Z",
     "iopub.status.busy": "2021-07-31T14:24:05.427771Z",
     "iopub.status.idle": "2021-07-31T14:24:05.43874Z",
     "shell.execute_reply": "2021-07-31T14:24:05.437715Z",
     "shell.execute_reply.started": "2021-07-31T14:24:05.428036Z"
    }
   },
   "outputs": [],
   "source": [
    "df = ita_out_df.copy()\n",
    "gs_before = (df[[\"School\", \"Office\", \"Others\"]].sum(axis=1) * df[\"Portion\"]).sum()\n",
    "print(f\"{round(gs_before, 1)} days in a week susceptible people go out.\")"
   ]
  },
  {
   "cell_type": "markdown",
   "metadata": {},
   "source": [
    "### Estimation of $g_s$ after school closure/lockdown\n",
    "Here, we estimate the $g_s$ after school closure/lockdown with the assumption that only $g_s$ and $c$ was changed.   \n",
    "\n",
    "Because\n",
    "$$\\cfrac{\\rho_{\\mathrm{after}}}{gs_{\\mathrm{after}}\\times c_{\\mathrm{after}}} = \\cfrac{\\rho_{\\mathrm{before}}}{gs_{\\mathrm{before}}\\times c_{\\mathrm{before}}}$$\n",
    "\n",
    "$gs_{\\mathrm{after}}$ is"
   ]
  },
  {
   "cell_type": "code",
   "execution_count": null,
   "metadata": {
    "_kg_hide-input": true,
    "execution": {
     "iopub.execute_input": "2021-07-31T14:24:05.440938Z",
     "iopub.status.busy": "2021-07-31T14:24:05.440263Z",
     "iopub.status.idle": "2021-07-31T14:24:05.501698Z",
     "shell.execute_reply": "2021-07-31T14:24:05.500665Z",
     "shell.execute_reply.started": "2021-07-31T14:24:05.44089Z"
    }
   },
   "outputs": [],
   "source": [
    "rho_before = ita_scenario.get(\"rho\", name=\"Main\", phase=\"1st\")\n",
    "rho_after = ita_scenario.get(\"rho\", name=\"Main\", phase=\"3rd\")\n",
    "gs_after = rho_after / rho_before / c_after * gs_before * c_before\n",
    "print(f\"{round(gs_after, 1)} days in a week susceptible people go out after lockdown.\")"
   ]
  },
  {
   "cell_type": "markdown",
   "metadata": {},
   "source": [
    "Let's apply this value to the go_out table!  \n",
    "We assume that workers go to their office one day in a week."
   ]
  },
  {
   "cell_type": "code",
   "execution_count": null,
   "metadata": {
    "execution": {
     "iopub.execute_input": "2021-07-31T14:24:05.503655Z",
     "iopub.status.busy": "2021-07-31T14:24:05.503063Z",
     "iopub.status.idle": "2021-07-31T14:24:05.528661Z",
     "shell.execute_reply": "2021-07-31T14:24:05.527474Z",
     "shell.execute_reply.started": "2021-07-31T14:24:05.503592Z"
    }
   },
   "outputs": [],
   "source": [
    "df = ita_out_df.copy()\n",
    "df[\"School\"] = 0\n",
    "df.loc[df[\"Office\"] > 0, \"Office\"] = 1\n",
    "sum_so = (df[[\"School\", \"Office\"]].sum(axis=1) * df[\"Portion\"]).sum()\n",
    "df.loc[df[\"Others\"] > 0, \"Others\"] = round(gs_after - sum_so, 1)\n",
    "ita_out_after_df = df.copy()\n",
    "ita_out_after_df"
   ]
  },
  {
   "cell_type": "markdown",
   "metadata": {},
   "source": [
    "Check the $g_s$ value calculated with the table."
   ]
  },
  {
   "cell_type": "code",
   "execution_count": null,
   "metadata": {
    "execution": {
     "iopub.execute_input": "2021-07-31T14:24:05.530202Z",
     "iopub.status.busy": "2021-07-31T14:24:05.529921Z",
     "iopub.status.idle": "2021-07-31T14:24:05.544752Z",
     "shell.execute_reply": "2021-07-31T14:24:05.543605Z",
     "shell.execute_reply.started": "2021-07-31T14:24:05.530176Z"
    }
   },
   "outputs": [],
   "source": [
    "df = ita_out_after_df.copy()\n",
    "gs_after2 = (df[[\"School\", \"Office\", \"Others\"]].sum(axis=1) * df[\"Portion\"]).sum()\n",
    "print(f\"{round(gs_after2, 1)} days in a week susceptible people go out after lockdown.\")"
   ]
  },
  {
   "cell_type": "markdown",
   "metadata": {},
   "source": [
    "## Predict the future with the last parameters"
   ]
  },
  {
   "cell_type": "markdown",
   "metadata": {},
   "source": [
    "In a week,"
   ]
  },
  {
   "cell_type": "code",
   "execution_count": null,
   "metadata": {
    "_kg_hide-input": false,
    "execution": {
     "iopub.execute_input": "2021-07-31T14:24:05.54649Z",
     "iopub.status.busy": "2021-07-31T14:24:05.546184Z",
     "iopub.status.idle": "2021-07-31T14:24:06.374709Z",
     "shell.execute_reply": "2021-07-31T14:24:06.373656Z",
     "shell.execute_reply.started": "2021-07-31T14:24:05.546463Z"
    }
   },
   "outputs": [],
   "source": [
    "ita_scenario.clear()\n",
    "ita_scenario.add(days=7)\n",
    "ita_scenario.simulate().tail(7).style.background_gradient(axis=0)"
   ]
  },
  {
   "cell_type": "markdown",
   "metadata": {},
   "source": [
    "In 30 days,"
   ]
  },
  {
   "cell_type": "code",
   "execution_count": null,
   "metadata": {
    "_kg_hide-input": false,
    "execution": {
     "iopub.execute_input": "2021-07-31T14:24:06.376611Z",
     "iopub.status.busy": "2021-07-31T14:24:06.376191Z",
     "iopub.status.idle": "2021-07-31T14:24:07.212121Z",
     "shell.execute_reply": "2021-07-31T14:24:07.210997Z",
     "shell.execute_reply.started": "2021-07-31T14:24:06.376568Z"
    }
   },
   "outputs": [],
   "source": [
    "ita_scenario.clear()\n",
    "ita_scenario.add(days=30)\n",
    "ita_scenario.simulate().tail(7).style.background_gradient(axis=0)"
   ]
  },
  {
   "cell_type": "markdown",
   "metadata": {},
   "source": [
    "In the long-term,"
   ]
  },
  {
   "cell_type": "code",
   "execution_count": null,
   "metadata": {
    "execution": {
     "iopub.execute_input": "2021-07-31T14:24:07.214099Z",
     "iopub.status.busy": "2021-07-31T14:24:07.213695Z",
     "iopub.status.idle": "2021-07-31T14:24:08.199033Z",
     "shell.execute_reply": "2021-07-31T14:24:08.197838Z",
     "shell.execute_reply.started": "2021-07-31T14:24:07.214057Z"
    }
   },
   "outputs": [],
   "source": [
    "ita_scenario.clear()\n",
    "ita_scenario.add(days=300)\n",
    "_ = ita_scenario.simulate()"
   ]
  },
  {
   "cell_type": "markdown",
   "metadata": {},
   "source": [
    "## Effect of expected new medicines\n",
    "New medicines are necessary so that patients can recover more quicky from the disease. Drug repositioning strategy (i.e.finding effective candidates from library of existing drugs of different diseases) is used to develop the medicines of COVID-19. For example, Remdesivir (USAN) and Favipiravir (AVIGAN) are candidates. \n",
    "\n",
    "* KEGG DRUG DATABASE: [Remdesivir (USAN)](https://www.kegg.jp/dbget-bin/www_bget?dr:D11472), Antiviral.\n",
    "* KEGG DRUG DATABASE: [Favipiravir (AVIGAN)](https://www.kegg.jp/dbget-bin/www_bget?dr:D09537), efficancy is Antiviral, RNA replicase inhibitor.\n",
    "\n",
    "Certainly, Favipiravir (AVIGAN) may lead many serious adverse reactions and it cannot be provided to expectant mothers [KEGG database AVIGAN](https://www.kegg.jp/medicus-bin/japic_med?japic_code=00066852) (Sorry, this is written in Japanese). However, it may help to save many thousand lives.  "
   ]
  },
  {
   "cell_type": "markdown",
   "metadata": {},
   "source": [
    "Un-controlled clinical study of Remdesivir from 25Jan2020 to 07Mar2020:  \n",
    "According to [Grein, Jonathan, et al., 2020](https://www.nejm.org/doi/full/10.1056/NEJMoa2007016?query=RP), 10-day course of Remdesivir administration (200 mg at day 1 followed by 100 mg daily) with median foloow-up of 18 days were performed.  \n",
    "\n",
    "53 patients in the full analysis set were those with confirmed infection and had oxygen satulation of 94% or less while they were breathing ambient air or receiving oxygen support. They are from USA (22 patients), Europe/Canada (22 patients) and Japan (9 patients). 36 patients (68%) showed clinical improvement. 25 patients (47%) was discharged, 7 patients (13%) deceased.\n",
    "\n",
    "clinical trial with placebo is necessary for evaluation, but we can assume $\\gamma$ and $\\alpha$ as follows. (This estimation is not refered in this paper. This just a rough evaluation.)\n",
    "<!--\n",
    "\\begin{align*}\n",
    "& \\kappa \\tau^{-1} = \\alpha_2 = \\cfrac{\\bar{h}\\ \\bar{s}}{N} \\sum_{n=0}^{\\infty}\\cfrac{P_{i}}{L_i} \\\\\n",
    "& \\sigma \\tau^{-1} = \\gamma = \\cfrac{1 - \\bar{h}\\ \\bar{s}}{N} \\sum_{n=0}^{\\infty}\\cfrac{P_{i}}{l_i} \\\\\n",
    "\\end{align*}\n",
    "$\\bar{h}$: Rate of I whose immune systems does NOT overcame virus multiplication [-]  \n",
    "$\\bar{s}$: Rate of I$^\\star$ who have severe events, including respiratory failure  [-]  \n",
    "$L_i$: Inverse of F$^\\star$'s mortality rate for people $i$ years old [min]  \n",
    "$l_i$: Inverse of R$^\\star$'s mortality rate for people $i$ years old [min]  \n",
    "$P_i$: The number of people $i$ years old [-]  \n",
    "$N$: Total population  \n",
    "-->"
   ]
  },
  {
   "cell_type": "markdown",
   "metadata": {},
   "source": [
    "$$\n",
    "\\gamma_{med} = \\cfrac{\\tau \\times(\\mathrm{Percentage\\ of\\ discharged)}}{\\mathrm{Total\\ number\\ of\\ minutes\\ with\\ obserbvation}}\n",
    "$$"
   ]
  },
  {
   "cell_type": "code",
   "execution_count": null,
   "metadata": {
    "execution": {
     "iopub.execute_input": "2021-07-31T14:24:08.201042Z",
     "iopub.status.busy": "2021-07-31T14:24:08.200581Z",
     "iopub.status.idle": "2021-07-31T14:24:08.266149Z",
     "shell.execute_reply": "2021-07-31T14:24:08.264963Z",
     "shell.execute_reply.started": "2021-07-31T14:24:08.201Z"
    }
   },
   "outputs": [],
   "source": [
    "sigma_before = ita_scenario.get(\"sigma\", name=\"Main\", phase=\"3rd\")\n",
    "kappa_before = ita_scenario.get(\"kappa\", name=\"Main\", phase=\"3rd\")\n",
    "(sigma_before, kappa_before)"
   ]
  },
  {
   "cell_type": "code",
   "execution_count": null,
   "metadata": {
    "execution": {
     "iopub.execute_input": "2021-07-31T14:24:08.26806Z",
     "iopub.status.busy": "2021-07-31T14:24:08.267649Z",
     "iopub.status.idle": "2021-07-31T14:24:08.331613Z",
     "shell.execute_reply": "2021-07-31T14:24:08.330783Z",
     "shell.execute_reply.started": "2021-07-31T14:24:08.268019Z"
    }
   },
   "outputs": [],
   "source": [
    "# Tentative evaluation with clinical study\n",
    "sigma_med = ita_scenario.get(\"tau\", name=\"Main\", phase=\"3rd\") * (25 / 53) / ((10 + 18) * 1440)\n",
    "kappa_med = ita_scenario.get(\"tau\", name=\"Main\", phase=\"3rd\") * (7 / 53) / ((10 + 18) * 1440)\n",
    "(sigma_med, kappa_med)"
   ]
  },
  {
   "cell_type": "markdown",
   "metadata": {},
   "source": [
    "In three 90 days,"
   ]
  },
  {
   "cell_type": "code",
   "execution_count": null,
   "metadata": {
    "execution": {
     "iopub.execute_input": "2021-07-31T14:24:08.333817Z",
     "iopub.status.busy": "2021-07-31T14:24:08.333323Z",
     "iopub.status.idle": "2021-07-31T14:24:09.512215Z",
     "shell.execute_reply": "2021-07-31T14:24:09.511128Z",
     "shell.execute_reply.started": "2021-07-31T14:24:08.333785Z"
    }
   },
   "outputs": [],
   "source": [
    "ita_scenario.clear(name=\"Medicine\")\n",
    "ita_scenario.add(days=90, name=\"Medicine\", kappa=kappa_med, sigma=sigma_med)\n",
    "ita_scenario.simulate(name=\"Medicine\").tail(7).style.background_gradient(axis=0)"
   ]
  },
  {
   "cell_type": "markdown",
   "metadata": {},
   "source": [
    "In the long-term,"
   ]
  },
  {
   "cell_type": "code",
   "execution_count": null,
   "metadata": {
    "execution": {
     "iopub.execute_input": "2021-07-31T14:24:09.513957Z",
     "iopub.status.busy": "2021-07-31T14:24:09.513643Z",
     "iopub.status.idle": "2021-07-31T14:24:10.496512Z",
     "shell.execute_reply": "2021-07-31T14:24:10.49544Z",
     "shell.execute_reply.started": "2021-07-31T14:24:09.51392Z"
    }
   },
   "outputs": [],
   "source": [
    "ita_scenario.clear(name=\"Medicine\")\n",
    "ita_scenario.add(days=300, name=\"Medicine\", kappa=kappa_med, sigma=sigma_med)\n",
    "_ = ita_scenario.simulate(name=\"Medicine\")"
   ]
  },
  {
   "cell_type": "markdown",
   "metadata": {},
   "source": [
    "# Scenario in Japan<a id=\"8\"></a>\n",
    "In this section, we will perform scenario analysis using the records of Japan."
   ]
  },
  {
   "cell_type": "code",
   "execution_count": null,
   "metadata": {
    "execution": {
     "iopub.execute_input": "2021-07-31T14:24:24.307809Z",
     "iopub.status.busy": "2021-07-31T14:24:24.307428Z",
     "iopub.status.idle": "2021-07-31T14:24:27.283021Z",
     "shell.execute_reply": "2021-07-31T14:24:27.281929Z",
     "shell.execute_reply.started": "2021-07-31T14:24:24.307779Z"
    }
   },
   "outputs": [],
   "source": [
    "jpn_scenario = cs.Scenario(country=\"Japan\")\n",
    "jpn_scenario.register(jhu_data)\n",
    "jpn_scenario.records().tail()"
   ]
  },
  {
   "cell_type": "markdown",
   "metadata": {},
   "source": [
    "## S-R Trend analysis"
   ]
  },
  {
   "cell_type": "code",
   "execution_count": null,
   "metadata": {
    "execution": {
     "iopub.execute_input": "2021-07-31T14:24:27.284717Z",
     "iopub.status.busy": "2021-07-31T14:24:27.284417Z",
     "iopub.status.idle": "2021-07-31T14:24:29.051182Z",
     "shell.execute_reply": "2021-07-31T14:24:29.050027Z",
     "shell.execute_reply.started": "2021-07-31T14:24:27.284689Z"
    }
   },
   "outputs": [],
   "source": [
    "_ = jpn_scenario.trend()"
   ]
  },
  {
   "cell_type": "markdown",
   "metadata": {},
   "source": [
    "## Phase in Japan\n",
    "We will use the change points as the start date of phases. For each phase, will apply SIR-F model. $\\tau$ values will be the same value."
   ]
  },
  {
   "cell_type": "code",
   "execution_count": null,
   "metadata": {
    "execution": {
     "iopub.execute_input": "2021-07-31T14:24:29.053947Z",
     "iopub.status.busy": "2021-07-31T14:24:29.053523Z",
     "iopub.status.idle": "2021-07-31T14:24:29.096587Z",
     "shell.execute_reply": "2021-07-31T14:24:29.09587Z",
     "shell.execute_reply.started": "2021-07-31T14:24:29.053912Z"
    }
   },
   "outputs": [],
   "source": [
    "jpn_scenario.summary()"
   ]
  },
  {
   "cell_type": "markdown",
   "metadata": {},
   "source": [
    "## Estimate SIR-F parameters"
   ]
  },
  {
   "cell_type": "code",
   "execution_count": null,
   "metadata": {
    "execution": {
     "iopub.execute_input": "2021-07-31T14:24:29.098712Z",
     "iopub.status.busy": "2021-07-31T14:24:29.098363Z",
     "iopub.status.idle": "2021-07-31T14:26:38.954524Z",
     "shell.execute_reply": "2021-07-31T14:26:38.953462Z",
     "shell.execute_reply.started": "2021-07-31T14:24:29.098679Z"
    }
   },
   "outputs": [],
   "source": [
    "jpn_scenario.estimate(cs.SIRF, timeout=120)"
   ]
  },
  {
   "cell_type": "markdown",
   "metadata": {},
   "source": [
    "### Compare parameters"
   ]
  },
  {
   "cell_type": "code",
   "execution_count": null,
   "metadata": {
    "execution": {
     "iopub.execute_input": "2021-07-31T14:26:38.956404Z",
     "iopub.status.busy": "2021-07-31T14:26:38.956098Z",
     "iopub.status.idle": "2021-07-31T14:26:39.040115Z",
     "shell.execute_reply": "2021-07-31T14:26:39.039092Z",
     "shell.execute_reply.started": "2021-07-31T14:26:38.956371Z"
    }
   },
   "outputs": [],
   "source": [
    "jpn_scenario.summary()"
   ]
  },
  {
   "cell_type": "code",
   "execution_count": null,
   "metadata": {
    "execution": {
     "iopub.execute_input": "2021-07-31T14:26:39.041487Z",
     "iopub.status.busy": "2021-07-31T14:26:39.041199Z",
     "iopub.status.idle": "2021-07-31T14:26:39.824163Z",
     "shell.execute_reply": "2021-07-31T14:26:39.823013Z",
     "shell.execute_reply.started": "2021-07-31T14:26:39.04146Z"
    }
   },
   "outputs": [],
   "source": [
    "_ = jpn_scenario.history_rate()"
   ]
  },
  {
   "cell_type": "markdown",
   "metadata": {},
   "source": [
    "Tokyo 2020 Olympics was postponed until 2021, and $\\rho$ is decreasing from 2nd phase to 3rd phase."
   ]
  },
  {
   "cell_type": "markdown",
   "metadata": {},
   "source": [
    "## Why $\\rho$ was decreased?\n",
    "Japan declared a state of emergency three times.\n",
    "* 07Apr2020 - 15APr2020: Only three metropolitan areas (Tokyo/Kanagawa/Saitama/Chiba, Osaka/Hyogo, Fukuoka)\n",
    "* 16Apr2020 - 06May2020: Nation-wide\n",
    "* 07May2020 - (31May2020): Nation-wide\n",
    "\n",
    "However, national/city lock is not be done. Japan is mainly taking the following three actions.\n",
    "\n",
    "* Physical (social) distancing: to avoid closed spaces, crowd, conversation at close distance\n",
    "* Trace the link of patients and give tests on the linked persons preferentially\n",
    "* Maintain medical level to increase recovery rate and decrease mortality rate"
   ]
  },
  {
   "cell_type": "markdown",
   "metadata": {},
   "source": [
    "## Why $\\sigma$ was decreased?"
   ]
  },
  {
   "cell_type": "code",
   "execution_count": null,
   "metadata": {
    "execution": {
     "iopub.execute_input": "2021-07-31T14:26:39.826063Z",
     "iopub.status.busy": "2021-07-31T14:26:39.825688Z",
     "iopub.status.idle": "2021-07-31T14:26:39.895881Z",
     "shell.execute_reply": "2021-07-31T14:26:39.895072Z",
     "shell.execute_reply.started": "2021-07-31T14:26:39.826026Z"
    }
   },
   "outputs": [],
   "source": [
    "sigma2 = jpn_scenario.get(\"sigma\", name=\"Main\", phase=\"2nd\")\n",
    "sigma1 = jpn_scenario.get(\"sigma\", name=\"Main\", phase=\"1st\")\n",
    "sigma2 / sigma1"
   ]
  },
  {
   "cell_type": "markdown",
   "metadata": {},
   "source": [
    "## Predict the future with the last parameters"
   ]
  },
  {
   "cell_type": "markdown",
   "metadata": {},
   "source": [
    "In a week,"
   ]
  },
  {
   "cell_type": "code",
   "execution_count": null,
   "metadata": {
    "execution": {
     "iopub.execute_input": "2021-07-31T14:26:39.898481Z",
     "iopub.status.busy": "2021-07-31T14:26:39.8982Z",
     "iopub.status.idle": "2021-07-31T14:26:40.700742Z",
     "shell.execute_reply": "2021-07-31T14:26:40.699724Z",
     "shell.execute_reply.started": "2021-07-31T14:26:39.898453Z"
    }
   },
   "outputs": [],
   "source": [
    "jpn_scenario.clear()\n",
    "jpn_scenario.add(days=7)\n",
    "jpn_scenario.simulate().tail(7).style.background_gradient(axis=0)"
   ]
  },
  {
   "cell_type": "markdown",
   "metadata": {},
   "source": [
    "In 30 days,"
   ]
  },
  {
   "cell_type": "code",
   "execution_count": null,
   "metadata": {
    "execution": {
     "iopub.execute_input": "2021-07-31T14:26:40.703948Z",
     "iopub.status.busy": "2021-07-31T14:26:40.703218Z",
     "iopub.status.idle": "2021-07-31T14:26:41.535585Z",
     "shell.execute_reply": "2021-07-31T14:26:41.534748Z",
     "shell.execute_reply.started": "2021-07-31T14:26:40.703903Z"
    }
   },
   "outputs": [],
   "source": [
    "jpn_scenario.clear()\n",
    "jpn_scenario.add(days=30)\n",
    "jpn_scenario.simulate().tail(7).style.background_gradient(axis=0)"
   ]
  },
  {
   "cell_type": "markdown",
   "metadata": {},
   "source": [
    "In the logn-term,"
   ]
  },
  {
   "cell_type": "code",
   "execution_count": null,
   "metadata": {
    "execution": {
     "iopub.execute_input": "2021-07-31T14:26:41.537478Z",
     "iopub.status.busy": "2021-07-31T14:26:41.537036Z",
     "iopub.status.idle": "2021-07-31T14:26:42.535532Z",
     "shell.execute_reply": "2021-07-31T14:26:42.534446Z",
     "shell.execute_reply.started": "2021-07-31T14:26:41.53741Z"
    }
   },
   "outputs": [],
   "source": [
    "jpn_scenario.clear()\n",
    "jpn_scenario.add(days=300)\n",
    "_ = jpn_scenario.simulate()"
   ]
  },
  {
   "cell_type": "markdown",
   "metadata": {},
   "source": [
    "## How to make way by 31May2020 for the number of cases peaking out\n",
    "We assume today is in the second phase."
   ]
  },
  {
   "cell_type": "markdown",
   "metadata": {},
   "source": [
    "### The current situation\n",
    "Under the assumtion that the current trend continues, when will the number of currently infected cases peak out?  \n",
    "We can use $R_t$ as the index. When $R_t < 1$, $\\frac{\\mathrm{d}y}{\\mathrm{d}t} < 0$.\n",
    "\n",
    "This is because  \n",
    "\\begin{align*}\n",
    "& \\frac{\\mathrm{d}y}{\\mathrm{d}t}= \\rho (1-\\theta) x y - (\\sigma + \\kappa) y\\\\\n",
    "& R_t = \\rho (1 - \\theta) (\\sigma + \\kappa)^{-1}\\\\\n",
    "& x \\simeq 1 \\\\\n",
    "\\end{align*}\n",
    "\n",
    "where $R_t$ is reproduction number (phase/time-dependent version of $R_0$)."
   ]
  },
  {
   "cell_type": "markdown",
   "metadata": {},
   "source": [
    "$x$ is"
   ]
  },
  {
   "cell_type": "code",
   "execution_count": null,
   "metadata": {
    "execution": {
     "iopub.execute_input": "2021-07-31T14:30:14.15519Z",
     "iopub.status.busy": "2021-07-31T14:30:14.154823Z",
     "iopub.status.idle": "2021-07-31T14:30:15.408321Z",
     "shell.execute_reply": "2021-07-31T14:30:15.4072Z",
     "shell.execute_reply.started": "2021-07-31T14:30:14.155161Z"
    }
   },
   "outputs": [],
   "source": [
    "df = jhu_data.subset(\"Japan\")\n",
    "population_jpn = int(df.set_index(\"Date\").sum(axis=1).median())\n",
    "1 - df.loc[df.index[-1], \"Confirmed\"] / population_jpn"
   ]
  },
  {
   "cell_type": "markdown",
   "metadata": {},
   "source": [
    "The current value of $R_t$ is"
   ]
  },
  {
   "cell_type": "code",
   "execution_count": null,
   "metadata": {
    "execution": {
     "iopub.execute_input": "2021-07-31T14:30:20.715053Z",
     "iopub.status.busy": "2021-07-31T14:30:20.71452Z",
     "iopub.status.idle": "2021-07-31T14:30:20.750739Z",
     "shell.execute_reply": "2021-07-31T14:30:20.749977Z",
     "shell.execute_reply.started": "2021-07-31T14:30:20.715019Z"
    }
   },
   "outputs": [],
   "source": [
    "jpn_scenario.get(\"Rt\", name=\"Main\", phase=\"2nd\")"
   ]
  },
  {
   "cell_type": "markdown",
   "metadata": {},
   "source": [
    "The number of currently infected cases will peak on"
   ]
  },
  {
   "cell_type": "code",
   "execution_count": null,
   "metadata": {
    "execution": {
     "iopub.execute_input": "2021-07-31T14:30:20.785406Z",
     "iopub.status.busy": "2021-07-31T14:30:20.784896Z",
     "iopub.status.idle": "2021-07-31T14:30:21.96519Z",
     "shell.execute_reply": "2021-07-31T14:30:21.963986Z",
     "shell.execute_reply.started": "2021-07-31T14:30:20.785376Z"
    }
   },
   "outputs": [],
   "source": [
    "jpn_scenario.clear()\n",
    "jpn_scenario.add(days=1000)\n",
    "df = jpn_scenario.simulate(show_figure=False)\n",
    "df.loc[df[\"Infected\"].idxmax(), \"Date\"]"
   ]
  },
  {
   "cell_type": "markdown",
   "metadata": {},
   "source": [
    "### How to set $R_t < 1$ by 31May2020\n",
    "$R_t < 1$ when $\\rho$ is under"
   ]
  },
  {
   "cell_type": "code",
   "execution_count": null,
   "metadata": {
    "execution": {
     "iopub.execute_input": "2021-07-31T14:30:21.967167Z",
     "iopub.status.busy": "2021-07-31T14:30:21.966769Z",
     "iopub.status.idle": "2021-07-31T14:30:22.032253Z",
     "shell.execute_reply": "2021-07-31T14:30:22.03131Z",
     "shell.execute_reply.started": "2021-07-31T14:30:21.967127Z"
    }
   },
   "outputs": [],
   "source": [
    "current_rho = jpn_scenario.get(\"rho\", name=\"Main\", phase=\"last\")\n",
    "limit_rho = current_rho / jpn_scenario.get(\"Rt\", name=\"Main\", phase=\"last\") * 1.0\n",
    "limit_rho"
   ]
  },
  {
   "cell_type": "markdown",
   "metadata": {},
   "source": [
    "Here, we assume $\\rho$ is"
   ]
  },
  {
   "cell_type": "code",
   "execution_count": null,
   "metadata": {
    "execution": {
     "iopub.execute_input": "2021-07-31T14:30:22.034222Z",
     "iopub.status.busy": "2021-07-31T14:30:22.033933Z",
     "iopub.status.idle": "2021-07-31T14:30:22.069945Z",
     "shell.execute_reply": "2021-07-31T14:30:22.068948Z",
     "shell.execute_reply.started": "2021-07-31T14:30:22.034193Z"
    }
   },
   "outputs": [],
   "source": [
    "jpn_tau = jpn_scenario.get(\"tau\", name=\"Main\", phase=\"last\")\n",
    "beta_inv = math.ceil(jpn_tau / 24 / 60 / limit_rho) + 1\n",
    "target_rho = jpn_tau / 24 / 60 / beta_inv\n",
    "target_rho"
   ]
  },
  {
   "cell_type": "code",
   "execution_count": null,
   "metadata": {
    "execution": {
     "iopub.execute_input": "2021-07-31T14:30:22.071747Z",
     "iopub.status.busy": "2021-07-31T14:30:22.071421Z",
     "iopub.status.idle": "2021-07-31T14:30:22.077071Z",
     "shell.execute_reply": "2021-07-31T14:30:22.076102Z",
     "shell.execute_reply.started": "2021-07-31T14:30:22.071702Z"
    }
   },
   "outputs": [],
   "source": [
    "target_rho < limit_rho"
   ]
  },
  {
   "cell_type": "markdown",
   "metadata": {},
   "source": [
    "Set $\\rho$ with the assumtion that $\\rho$ will decrease,"
   ]
  },
  {
   "cell_type": "code",
   "execution_count": null,
   "metadata": {
    "_kg_hide-output": true,
    "execution": {
     "iopub.execute_input": "2021-07-31T14:30:22.078946Z",
     "iopub.status.busy": "2021-07-31T14:30:22.078564Z",
     "iopub.status.idle": "2021-07-31T14:30:22.274005Z",
     "shell.execute_reply": "2021-07-31T14:30:22.27305Z",
     "shell.execute_reply.started": "2021-07-31T14:30:22.078916Z"
    }
   },
   "outputs": [],
   "source": [
    "jpn_scenario.clear()\n",
    "jpn_scenario.add(days=60, rho=target_rho)\n",
    "jpn_scenario.summary()"
   ]
  },
  {
   "cell_type": "markdown",
   "metadata": {},
   "source": [
    "$R_t$ will be"
   ]
  },
  {
   "cell_type": "code",
   "execution_count": null,
   "metadata": {
    "execution": {
     "iopub.execute_input": "2021-07-31T14:30:22.275713Z",
     "iopub.status.busy": "2021-07-31T14:30:22.27537Z",
     "iopub.status.idle": "2021-07-31T14:30:23.010958Z",
     "shell.execute_reply": "2021-07-31T14:30:23.009866Z",
     "shell.execute_reply.started": "2021-07-31T14:30:22.27568Z"
    }
   },
   "outputs": [],
   "source": [
    "_ = jpn_scenario.history(\"Rt\")"
   ]
  },
  {
   "cell_type": "markdown",
   "metadata": {},
   "source": [
    "Trajectory of the number of cases and peak date will be"
   ]
  },
  {
   "cell_type": "code",
   "execution_count": null,
   "metadata": {
    "execution": {
     "iopub.execute_input": "2021-07-31T14:30:23.013002Z",
     "iopub.status.busy": "2021-07-31T14:30:23.012563Z",
     "iopub.status.idle": "2021-07-31T14:30:23.474668Z",
     "shell.execute_reply": "2021-07-31T14:30:23.473664Z",
     "shell.execute_reply.started": "2021-07-31T14:30:23.012959Z"
    }
   },
   "outputs": [],
   "source": [
    "jpn_scenario.clear()\n",
    "jpn_scenario.add(days=100, rho=target_rho)\n",
    "df = jpn_scenario.simulate(show_figure=False)\n",
    "df.loc[df[\"Infected\"].idxmax(), \"Date\"]"
   ]
  },
  {
   "cell_type": "markdown",
   "metadata": {},
   "source": [
    "### Change factor of $\\beta$\n",
    "Japan focuses on the rate of people in closed spaces/crowd. We need to avoid business offices, meeting spaces, entertainment distincts, shopping malls etc.\n",
    "\n",
    "Here, we assume that $\\beta=\\tau^{-1}\\rho$ is\n",
    "\\begin{align*}\n",
    "& \\beta_{(p)} = \\overline{\\beta}(1-p) + \\beta^{\\ast}p\n",
    "\\end{align*}\n",
    "where  \n",
    "$\\overline{\\beta}$: effective contact rate in average [1/min]  \n",
    "$\\beta^{\\ast}$: effective contact rate in closed spaces/crowd [1/min]  \n",
    "$p$: rate of people in closed spaces/crowd [-]"
   ]
  },
  {
   "cell_type": "markdown",
   "metadata": {},
   "source": [
    "### Max value of $p$ to meet the goal"
   ]
  },
  {
   "cell_type": "markdown",
   "metadata": {},
   "source": [
    "@ClusterJapan (expert team to prevent COVID-19 outbreak in Japan) analysed link of patients and summarized as follows. This is from [Twitter @ClusterJapan on 11Apr2020](https://twitter.com/ClusterJapan/status/1248884086581514242?s=20) (in Japanese).\n",
    "* 80% of patients have less than 1 secondary infected patient\n",
    "* 10% of patients have 8-12 secondary patients and they are in closed space/crowd"
   ]
  },
  {
   "cell_type": "markdown",
   "metadata": {},
   "source": [
    "As my personal point of view, $\\beta^{\\ast}$ can be estimated as $\\beta^{\\ast} = 10 \\times \\overline{\\beta}$.  \n",
    "This means\n",
    "\\begin{align*}\n",
    "& \\beta_{(p)} = \\overline{\\beta}(1+9P)\n",
    "\\end{align*}\n",
    "\n",
    "$P$ is the rate of people in the spaces where effcetive contact rate is 10 times as the average value."
   ]
  },
  {
   "cell_type": "markdown",
   "metadata": {},
   "source": [
    "With the assumption that $\\overline{\\beta}$ is constant,  \n",
    "\\begin{align*}\n",
    "& \\cfrac{\\beta_{before}}{1+9P_{before}} = \\cfrac{\\beta_{after}}{1+9P_{after}}\n",
    "\\end{align*}\n",
    "(\"Before\" means \"before the national emergency declaration on 06Apr2020.)"
   ]
  },
  {
   "cell_type": "markdown",
   "metadata": {},
   "source": [
    "Then,\n",
    "\\begin{align*}\n",
    "& \\cfrac{1+9P_{after}}{1+9P_{before}} = \\cfrac{\\rho_{after}}{\\rho_{before}}\n",
    "\\end{align*}"
   ]
  },
  {
   "cell_type": "markdown",
   "metadata": {},
   "source": [
    "So,\n",
    "\\begin{align*}\n",
    "& P_{after} = \\frac{1}{9}\\left[ \\cfrac{\\rho_{after}}{\\rho_{before}}(1+9P_{before}) - 1 \\right]\n",
    "\\end{align*}"
   ]
  },
  {
   "cell_type": "markdown",
   "metadata": {},
   "source": [
    "$\\cfrac{\\rho_{after}}{\\rho_{before}}$ is"
   ]
  },
  {
   "cell_type": "code",
   "execution_count": null,
   "metadata": {
    "execution": {
     "iopub.execute_input": "2021-07-31T14:30:23.477926Z",
     "iopub.status.busy": "2021-07-31T14:30:23.47748Z",
     "iopub.status.idle": "2021-07-31T14:30:23.516644Z",
     "shell.execute_reply": "2021-07-31T14:30:23.515686Z",
     "shell.execute_reply.started": "2021-07-31T14:30:23.477883Z"
    }
   },
   "outputs": [],
   "source": [
    "target_rho / jpn_scenario.get(\"rho\", name=\"Main\", phase=\"last\")"
   ]
  },
  {
   "cell_type": "markdown",
   "metadata": {},
   "source": [
    "We can estimate $P_{before}$ with go-out table.\n",
    "* Schools were closed\n",
    "* 10.6% of people work remotely because\n",
    "  - 5.6% of respondents work remotely (cf.1),\n",
    "  - total number of respondents is 23,992,701 (cf.2),\n",
    "  - 2,651,272 respondents are working in service industry (cf.2),\n",
    "  - 2,128,322 respondents are medical personnel or care worker (cf.2),\n",
    "  - 7,928,268 respondents are office workers or workers of logistics companies (cf.2).\n",
    "  - The number of days the respondent work remotely is not known.\n",
    "* As usual, 75% of people are in closed space/crowded (CC) area: this is just my point of view, I'm gathering information.\n",
    "* Compared to baseline, 25% reduction was shown in Retail & recreation area: cf.3\n",
    "\n",
    "cf.1: (In Japanese) [Report of 1st survey by Ministry of Health, Labor and Welfare & LINE Corporation](https://www.mhlw.go.jp/stf/newpage_10695.html)  \n",
    "cf.2: (In Japanese) [Detailed report of 1st survey by Ministry of Health, Labor and Welfare & LINE Corporation](https://www.mhlw.go.jp/stf/newpage_10798.html)\n",
    "Movility reports: [COVID-19 Community Mobility Reports in Japan on 05Apr2020](https://www.gstatic.com/covid19/mobility/2020-04-05_JP_Mobility_Report_en.pdf)"
   ]
  },
  {
   "cell_type": "code",
   "execution_count": null,
   "metadata": {
    "execution": {
     "iopub.execute_input": "2021-07-31T14:30:23.519104Z",
     "iopub.status.busy": "2021-07-31T14:30:23.518653Z",
     "iopub.status.idle": "2021-07-31T14:30:23.526831Z",
     "shell.execute_reply": "2021-07-31T14:30:23.525731Z",
     "shell.execute_reply.started": "2021-07-31T14:30:23.519059Z"
    }
   },
   "outputs": [],
   "source": [
    "remote_rate = round(0.056 * 23992701 / (2651272 + 2128322 + 7928268), 3)\n",
    "remote_rate"
   ]
  },
  {
   "cell_type": "code",
   "execution_count": null,
   "metadata": {
    "execution": {
     "iopub.execute_input": "2021-07-31T14:30:23.528471Z",
     "iopub.status.busy": "2021-07-31T14:30:23.528155Z",
     "iopub.status.idle": "2021-07-31T14:30:56.411566Z",
     "shell.execute_reply": "2021-07-31T14:30:56.410694Z",
     "shell.execute_reply.started": "2021-07-31T14:30:23.528442Z"
    }
   },
   "outputs": [],
   "source": [
    "df = go_out(\"Japan\")\n",
    "df[\"School\"] = 0\n",
    "df[\"Remote\"] = df[\"Office\"] * remote_rate\n",
    "df[\"Workplace\"] = df[\"Office\"] - df[\"Remote\"]\n",
    "df[\"Others_CC\"] = df[\"Others\"] * 0.75 * (1 - 0.25)\n",
    "df[\"Others\"] = df[\"Others\"] - df[\"Others_CC\"]\n",
    "df = pd.concat([df[\"Portion\"], df.loc[:, ~df.columns.isin([\"Portion\"])]], axis=1)\n",
    "df = df.drop(\"Office\", axis=1)\n",
    "jpn_go_df = df.copy()\n",
    "jpn_go_df"
   ]
  },
  {
   "cell_type": "markdown",
   "metadata": {},
   "source": [
    "$P_{before}$ can be estimated as"
   ]
  },
  {
   "cell_type": "code",
   "execution_count": null,
   "metadata": {
    "execution": {
     "iopub.execute_input": "2021-07-31T14:30:56.413372Z",
     "iopub.status.busy": "2021-07-31T14:30:56.412882Z",
     "iopub.status.idle": "2021-07-31T14:30:56.422322Z",
     "shell.execute_reply": "2021-07-31T14:30:56.42136Z",
     "shell.execute_reply.started": "2021-07-31T14:30:56.413339Z"
    }
   },
   "outputs": [],
   "source": [
    "df = jpn_go_df.copy()\n",
    "p_before = (df[[\"School\", \"Workplace\", \"Others_CC\"]].sum(axis=1) * df[\"Portion\"]).sum() / 7\n",
    "p_before"
   ]
  },
  {
   "cell_type": "markdown",
   "metadata": {},
   "source": [
    "\\begin{align*}\n",
    "& P_{after} = \\frac{1}{9}\\left[ \\cfrac{\\rho_{after}}{\\rho_{before}}(1+9P_{before}) - 1 \\right]\n",
    "\\end{align*}"
   ]
  },
  {
   "cell_type": "markdown",
   "metadata": {},
   "source": [
    "To meet the goal, $P_{after}$ should be under"
   ]
  },
  {
   "cell_type": "code",
   "execution_count": null,
   "metadata": {
    "execution": {
     "iopub.execute_input": "2021-07-31T14:30:56.423897Z",
     "iopub.status.busy": "2021-07-31T14:30:56.423546Z",
     "iopub.status.idle": "2021-07-31T14:30:56.437152Z",
     "shell.execute_reply": "2021-07-31T14:30:56.436133Z",
     "shell.execute_reply.started": "2021-07-31T14:30:56.423838Z"
    }
   },
   "outputs": [],
   "source": [
    "def calc_target_p(rho_before, rho_after, p_before):\n",
    "    return (rho_before / rho_after * (1 + 9 * p_before) - 1) / 9"
   ]
  },
  {
   "cell_type": "code",
   "execution_count": null,
   "metadata": {
    "execution": {
     "iopub.execute_input": "2021-07-31T14:30:56.438781Z",
     "iopub.status.busy": "2021-07-31T14:30:56.438432Z",
     "iopub.status.idle": "2021-07-31T14:30:56.478528Z",
     "shell.execute_reply": "2021-07-31T14:30:56.477686Z",
     "shell.execute_reply.started": "2021-07-31T14:30:56.43875Z"
    }
   },
   "outputs": [],
   "source": [
    "rho_last = jpn_scenario.get(\"rho\", name=\"Main\", phase=\"last\")\n",
    "target_p = calc_target_p(target_rho, rho_last, p_before)\n",
    "target_p"
   ]
  },
  {
   "cell_type": "markdown",
   "metadata": {
    "_cell_guid": "8a74f1df-afc5-47a1-8a81-e2cdeceea031",
    "_uuid": "c6031338-1749-4ecc-a8c7-86576a7abbf0"
   },
   "source": [
    "# Remarks<a id=\"9\"></a>\n",
    "Thank you for reading!  \n",
    "Lisphilar from Japan"
   ]
  },
  {
   "cell_type": "markdown",
   "metadata": {},
   "source": [
    "## Conclusion\n",
    "(Will be updated)"
   ]
  },
  {
   "cell_type": "markdown",
   "metadata": {},
   "source": [
    "## Acknowledgement<a id=\"3\"></a>\n",
    "### Datasets in kaggle\n",
    "* The number of cases: [Novel Corona Virus 2019 Dataset](https://www.kaggle.com/sudalairajkumar/novel-corona-virus-2019-dataset)\n",
    "* Total population: [covid19-global-forecasting-locations-population](https://www.kaggle.com/dgrechka/covid19-global-forecasting-locations-population/metadata)\n",
    "* Population pyramid: [Population Pyramid 2019](https://www.kaggle.com/hotessy/population-pyramid-2019)\n",
    "* Mesaures in each country: [COVID-19 containment and mitigation measures](https://www.kaggle.com/paultimothymooney/covid19-containment-and-mitigation-measures)\n",
    "* Measures in Italy: [COVID-19 Prevention in Italy](https://www.kaggle.com/marcoferrante/covid19-prevention-in-italy)\n",
    "\n",
    "#### Datasets created by the notebook auther\n",
    "[COVID-19 dataset in Japan](https://www.kaggle.com/lisphilar/covid19-dataset-in-japan)\n",
    "* The number of cases in Japan: PCR-tested, with/without symptoms, mild/severe, hospitalized or not etc.\n",
    "* The number of cases at prefecture level: PCR-test, confirmed, discharged, fatal\n",
    "* Basic information of each prefecture: Population, area, the number of beds\n",
    "\n",
    "Data is from HP of Ministry of Health, Labour and Welefare, Japan:  \n",
    "[Ministry of Health, Labour and Welefare HP (in Japanese)](https://www.mhlw.go.jp/)  \n",
    "[Ministry of Health, Labour and Welefare HP (in English)](https://www.mhlw.go.jp/english/)  \n",
    "[COVID-19 Japan 都道府県別 感染症病床数 (CC BY)](https://code4sabae.github.io/bedforinfection/)  \n",
    "[Wikipedia](https://ja.wikipedia.org/wiki/)  "
   ]
  },
  {
   "cell_type": "markdown",
   "metadata": {},
   "source": [
    "### Data provided by kagglers as a comment on this notebook\n",
    "* The number of days persons of each age group usually go out provided by [Marco Ferrante](https://www.kaggle.com/marcoferrante)"
   ]
  },
  {
   "cell_type": "markdown",
   "metadata": {},
   "source": [
    "### External resources\n",
    "* Population pyramid: [PopulationPyramid.net](https://www.populationpyramid.net/) licensed under [Creative Commons license CC BY 3.0](https://creativecommons.org/licenses/by/3.0/)\n",
    "* Movility report in Italy: [COVID-19 Mobility Monitoring project](https://covid19mm.github.io/) licenced under [Creative Commons license CC BY 4.0](https://creativecommons.org/licenses/by/4.0/)\n",
    "* Movility reports: [Google: COVID-19 Community Mobility Reports](https://www.google.com/covid19/mobility/)\n",
    "* Gomperz curve: [Jia, Lin, et al. \"Prediction and analysis of Coronavirus Disease 2019.\" arXiv preprint arXiv:2003.05447 (2020).](https://arxiv.org/ftp/arxiv/papers/2003/2003.05447.pdf)\n",
    "\n",
    "(In Japanese)\n",
    "* Mobility: [Report of 1st survey by Ministry of Health, Labor and Welfare & LINE Corporation](https://www.mhlw.go.jp/stf/newpage_10695.html)  \n",
    "* Mobility: [Detailed report of 1st survey by Ministry of Health, Labor and Welfare & LINE Corporation](https://www.mhlw.go.jp/stf/newpage_10798.html)\n",
    "* @ClusterJapan (expert team to prevent COVID-19 outbreak in Japan) comments: [Twitter @ClusterJapan on 11Apr2020](https://twitter.com/ClusterJapan/status/1248884086581514242?s=20)\n",
    "* Gomperz curve: [(In Japanese) ゴンペルツ曲線とは何か？（3）](https://qiita.com/BMJr/items/4e2782e8f1d3c1db6801)"
   ]
  },
  {
   "cell_type": "markdown",
   "metadata": {},
   "source": [
    "### References and reading materials\n",
    "\n",
    "#### Papers\n",
    "* Basic reproduction number: [Van den Driessche, P., & Watmough, J. (2002).](https://www.ncbi.nlm.nih.gov/pmc/articles/PMC6002118/)\n",
    "* Curve fitting with Logistic function and Gompertz function: [Jia, Lin, et al., 2020.](https://arxiv.org/ftp/arxiv/papers/2003/2003.05447.pdf)\n",
    "* S-R place: [Balkew, Teshome Mogessie, \"The SIR Model When S(t) is a Multi-Exponential Function.\" (2010).Electronic Theses and Dissertations.Paper 1747](https://dc.etsu.edu/cgi/viewcontent.cgi?article=3102&context=etd)\n",
    "* Un-controlled clinical study of Remdesivir: [Grein, Jonathan, et al., 2020](https://www.nejm.org/doi/full/10.1056/NEJMoa2007016?query=RP)\n",
    "\n",
    "#### KEGG\n",
    "* KEGG DRUG DATABASE: [Remdesivir (USAN)](https://www.kegg.jp/dbget-bin/www_bget?dr:D11472)\n",
    "* KEGG DRUG DATABASE: [Favipiravir (AVIGAN)](https://www.kegg.jp/dbget-bin/www_bget?dr:D09537)\n",
    "* Medical package insert of AVIGAN (In Japanese): [KEGG database \"AVIGAN\"](https://www.kegg.jp/medicus-bin/japic_med?japic_code=00066852)\n",
    "\n",
    "#### Kaggle\n",
    "Curve fitting with Gamma PDF etc. by [Bill Holst](https://www.kaggle.com/wjholst). \n",
    "* [COVID-19 Growth Patterns in Critical Countries](https://www.kaggle.com/wjholst/covid-19-growth-patterns-in-critical-countries#Gaussian-Approximation-of-Active-Cases)\n",
    "* [COVID-19 - Growth of Virus in Specific Countries](https://www.kaggle.com/wjholst/covid-19-growth-of-virus-in-specific-countries#Gaussian-Approximation-of-Active-Cases)\n",
    "* [Prediction With a Gamma PDF](https://www.kaggle.com/wjholst/prediction-with-a-gamma-pdf)\n",
    "\n",
    "#### YouTube\n",
    "* Growth Factor: [YouTube \"Exponential growth and epidemics\"](https://www.youtube.com/watch?v=Kas0tIxDvrg)\n",
    "* Physical distancing (social distancing): [YouTube \"Simulating an epidemic\"](https://www.youtube.com/watch?v=gxAaO2rsdIs)\n",
    "* $\\Delta$Confirmed vs. Confirmed plot: [YouTube: How To Tell If We're Beating COVID-19](https://www.youtube.com/watch?v=54XLXg4fYsc)\n",
    "\n",
    "#### Other online resources\n",
    "* Simple SIR model: [The SIR epidemic model](https://scipython.com/book/chapter-8-scipy/additional-examples/the-sir-epidemic-model/)\n",
    "* SEIR model: [Introduction to SEIR model Models](http://indico.ictp.it/event/7960/session/3/contribution/19/material/slides/)\n",
    "* Basic reproduction number: [Estimating the Impact of a Pathogen via Monte Carlo Simulation](https://towardsdatascience.com/infection-modeling-part-1-87e74645568a)\n",
    "* RMSLE score: [What’s the Difference Between RMSE and RMSLE?](https://medium.com/analytics-vidhya/root-mean-square-log-error-rmse-vs-rmlse-935c6cc1802a)\n"
   ]
  },
  {
   "cell_type": "markdown",
   "metadata": {},
   "source": [
    "## Change log<a id=\"11\"></a>"
   ]
  },
  {
   "cell_type": "markdown",
   "metadata": {},
   "source": [
    "### In Feb2020\n",
    " * 13Feb2020: SIR model\n",
    " * 15Feb2020: SIR-D model\n",
    " * 22Feb2020: SIR-F model\n",
    " * 23Feb2020: Changed the dataset from 2019_ncov_data.csv to covid_19_data.csv\n",
    " * 23Feb2020: $\\tau$ was fixed as \"1 day\" because the time format of ObservationDate is MM/DD/YYYY\n",
    " * 23Feb2020: SIR-F model with other countries\n",
    " * 23Feb2020: How to minimize the damage (Change of parameter, Vacctination)\n",
    " * 24Feb2020: Use $\\tau$ again"
   ]
  },
  {
   "cell_type": "markdown",
   "metadata": {},
   "source": [
    "### In Mar2020\n",
    " * 01Mar2020: $\\tau$ definition was changed. $1\\leq \\tau \\mathrm{[hour]} \\leq 24$ $\\to$ $1\\leq \\tau \\mathrm{[min]} \\leq 1440$ \n",
    " * 01Mar2020: Added \"Test of hyperparameter optimization using example data\" in SIR model section\n",
    " * 02Mar2020: Analysis of Linelist (estimation of Effective contact/Recovery/Death rate using case reports)\n",
    " * 03Mar2020: Trend analysis\n",
    " * 03Mar2020: Update estimator error function; Exponential Weighted Moving Average (span=14days) of |observed - estimated|\n",
    " * 04Mar2020: \"Analysis of Linelist\" was moved to [EDA of linelist](https://www.kaggle.com/lisphilar/eda-of-linelist?scriptVersionId=29640733#Remarks)\n",
    " * 04Mar2020: Data in Hubei and China will be analysed in another notebook. Please refer to [Data in China with SIR model](https://www.kaggle.com/lisphilar/data-in-china-with-sir-model?scriptVersionId=29646940).\n",
    " * 06Mar2020: Random seed was fixed as 2019\n",
    " * 06Mar2020: Update estimator error function; Weighted Average of |Exponential Weighted Moving Average (span=14days) of observed - estimated|\n",
    " * 07Mar2020: Update estimator error function; Total population $\\times$ Wighted Average of |observed - estimated| with step number t\n",
    " * 07Mar2020: Priorities of variables in estimator error function was set as $(x, y, z, w) = (1, 10, 10, 1)$ in SIR-F model.\n",
    " * 09Mar2020: Update estimator error function; $(\\mathrm{Population})^2$ $\\times$ (Wighted Average of |observed - estimated|/[observed $\\times$ Population + 1] with step number t)\n",
    " * 09Mar2020: Priorities of variables in estimator error function were set as $(x, y, z, w) = (1, 10, 10, 2)$ in SIR-F model.\n",
    " * 11Mar2020: Update model.param_dict(); each parametor range was limited to 30%-70% quantiles of the estimated values ($\\frac{\\mathrm{d}z}{\\mathrm{d}t}\\left(\\frac{1}{y}\\right)$ for $\\sigma$) of training dataset.\n",
    " * 12Mar2020: Update model.param_dict(); each parameter range was limited to 5%-95% quantiles\n",
    " * 12Mar2020: Detailed scenario analysis. Thank you, Marco Ferrante!\n",
    " * 13Mar2020: Update model.param_dict(); each parameter range was limited to 0%-100% quantiles\n",
    " * 13Mar2020: Update \"Detailed scenario analysis\" > \"Real factors of effective contact rate $\\beta$\"\n",
    " * 14Mar2020: Update model.param_dict(); rho/sigma range was limited to 30%-70% quantiles of their estimated values\n",
    " * 14Mar2020: Applied trend analysis on country level data to use only a part of records for estimation\n",
    " * 14Mar2020: Recovered without confirmation was added to \"Real factors of effective contact rate $\\beta$\"\n",
    " * 15Mar2020: Merge \"How to minimize the damage (Change of parameter, Vacctination)\" with \"Scenario analysis\" section\n",
    " * 15Mar2020: Update Estimator, int to np.int. Thank you Enrico Papalini!\n",
    " * 15Mar2020: Update Estimator, some parameters can be fixed. Some of SIR parameters can be applied to SIR-F model.\n",
    " * 17Mar2020: The number of exposed cases and waiting cases\n",
    " * 17Mar2020: Update Scenario analysis\n",
    " * 18Mar2020: Scenario analysis in Italy\n",
    " * 19Mar2020: Estimation of new drugs effect in \"Scenario analysis in Italy\" section\n",
    " * 29Mar2020: Grouping of countries by growth factor\n",
    " * 29Mar2020: Update \"Scenario in Italy\" section to include confirmed national lockdown effect"
   ]
  },
  {
   "cell_type": "markdown",
   "metadata": {},
   "source": [
    "### In Apr2020\n",
    " * 05Apr2020: Update simulation() fucntion, dense_ouput=False\n",
    " * 05Apr2020: Create Scenario() class\n",
    " * 06Apr2020: Update Scenario() class to reduce running time\n",
    " * 11Apr2020: Italy entered 4th phase\n",
    " * 11Apr2020: Add \"How to make way by 31May2020 for the number of cases peaking out\" in Japan\n",
    " * 13Apr2020: \"excluded_places\" was used for SEWIR-F and showed incorrected graph in the previous versions. Replaced with \"places\"\n",
    " * 17Apr2020: Prepare the dataset in Japan\n",
    " * 18Apr2020: Update RMSLE score fucntion of Estimator, $\\ln(x)$ to $log_{10}(x)$\n",
    " * 18Apr2020: Add explanation of accuracy index of hyperparameter estimation\n",
    " * 18Apr2020: Japan entered 3rd phase\n",
    " * 18Apr2020: Data in \"Expalanation of concept part\" was changed from actual data to example data\n",
    " * 27Apr2020: \"S-R trend analysis\" section\n",
    " * 28Apr2020: In scenario analysis, Exponential trend analysis was replaced with S-R trend analysis\n",
    " * 28Apr2020: Add scenario analysis in India and USA\n",
    " * 29Apr2020: Add scenario analysis in New Zealand"
   ]
  },
  {
   "cell_type": "markdown",
   "metadata": {},
   "source": [
    "### In May2020\n",
    " * 01May2020: Change assumed parameter values in \"Factors of model parameters\" section\n",
    " * 01May2020: Fix bag of SIR-FV model, calculation of Vaccinated (Immuned)\n",
    " * 03May2020: Random seed was fixed in S-R trend analysis\n",
    " * 03May2020: Error function of S-R trend anaysis was changed from squared error to weghtend squared error with day numbers\n",
    " * 03May2020: Fix bag of Scenario class, the start point of prediction\n",
    " * 03May2020: The result of un-controlled clinical study of Remdesivir was applied to scenario analysis in Italy\n",
    " * 06May2020: Error function of S-R trend anaysis was changed from weghtend squared error to squared error\n",
    " * 06May2020: Update Trend class, S-R trend in recent days will be valued, the last change point will be searched at first\n",
    " * 09May2020: Published the functions as a Python package\n",
    " * 30May2020: Finished refactoring of codes in the package"
   ]
  },
  {
   "cell_type": "markdown",
   "metadata": {},
   "source": [
    "### In Jun2020\n",
    " * 17Jun2020: Released version 2.2.0 of CovsirPhy and ODE simulation will be done with tau-free dataset (time step [-] and ODE variables [persons])\n",
    " * 17Jun2020: Restricted tau value [min] as to the divisors of 1440 [min]\n",
    " * 28Jun2020: Revised definition of SEWIR-F $R_0$ value\n",
    " * 28Jun2020: Registered CovsirPhy v2.3.0 to PyPI"
   ]
  },
  {
   "cell_type": "markdown",
   "metadata": {},
   "source": [
    "### In Jul2020\n",
    " * 08Jul2020: Update with CovsirPhy v2.4.1\n",
    " * 11Jul2020: Update with CovsirPhy v2.4.2\n",
    " * 14Jul2020: Update with CovsirPhy v2.5.0 and v2.5.1\n",
    " * 15Jul2020: Update with CovsirPhy v2.5.2\n",
    " * 16Jul2020: Update with CovsirPhy v2.5.3\n",
    " * 18Jul2020: Update with CovsirPhy v2.5.4\n",
    " * 25Jul2020: Update with CovsirPhy v2.6.0"
   ]
  },
  {
   "cell_type": "markdown",
   "metadata": {},
   "source": [
    "### In Aug2020\n",
    " * 16Aug2020: Update with CovsirPhy v2.7.0\n",
    " * 21Aug2020: Update with CovsirPhy v2.7.1\n",
    " * 21Aug2020: Update with CovsirPhy v2.7.3"
   ]
  },
  {
   "cell_type": "markdown",
   "metadata": {},
   "source": [
    "### In Sep2020\n",
    " * 04Sep2020: Update with CovsirPhy v2.8.1\n",
    " * 08Sep2020: Update with CovsirPhy v2.8.2\n",
    " * 20Sep2020: Update with CovsirPhy v2.8.3"
   ]
  },
  {
   "cell_type": "markdown",
   "metadata": {},
   "source": [
    "### In Oct2020\n",
    " * 20Oct2020: Update with CovsirPhy v2.9.0\n",
    " * 24Oct2020: Update with CovsirPhy v2.9.1\n",
    " * 24Oct2020: Remove monitoring chapter because no updates are available for the Kaggle dataset\n",
    " * 26Oct2020: Use COVID-19 Data Hub as the data source in this Kaggle notebook\n",
    " * 28Oct2020: Use ./output/kaggle/working/kaggle/input directory will be used to save external datasets\n",
    " * 28Oct2020: Add how to use covsirphy.DataLoader.japan()"
   ]
  },
  {
   "cell_type": "markdown",
   "metadata": {},
   "source": [
    "### In Nov2020\n",
    "\n",
    "\n",
    " * 08Nov2020: Update with CovsirPhy v2.10.0\n",
    " * 20Nov2020: Update with CovsirPhy v2.11.0\n",
    " * 28Nov2020: Update with CovsirPhy v2.12.0"
   ]
  },
  {
   "cell_type": "markdown",
   "metadata": {},
   "source": [
    "### In Dec2021\n",
    "\n",
    " * 13Dec2020: Update with CovsirPhy v2.13.0\n",
    " * 13Dec2020: Update model descriptions\n",
    " * 28Dec2020: Use covsirphy.DataLoader.pyramid()"
   ]
  }
 ],
 "metadata": {
  "kernelspec": {
   "display_name": "Python 3 (ipykernel)",
   "language": "python",
   "name": "python3"
  },
  "language_info": {
   "codemirror_mode": {
    "name": "ipython",
    "version": 3
   },
   "file_extension": ".py",
   "mimetype": "text/x-python",
   "name": "python",
   "nbconvert_exporter": "python",
   "pygments_lexer": "ipython3",
   "version": "3.9.7"
  }
 },
 "nbformat": 4,
 "nbformat_minor": 4
}
